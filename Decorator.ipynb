{
 "cells": [
  {
   "cell_type": "markdown",
   "id": "76ab5e64",
   "metadata": {},
   "source": [
    "# Decorators"
   ]
  },
  {
   "cell_type": "markdown",
   "id": "f64764e3",
   "metadata": {},
   "source": [
    "**In Py, decorators are the powerful and versatile tool. decorators are uded to modify the func. by decorators, we can extend the functionalities of the func w/o affecting any change in the original func/ source code.**"
   ]
  },
  {
   "cell_type": "markdown",
   "id": "3d753a15",
   "metadata": {},
   "source": [
    "**a decorator func takes a func as its argz. and returns a new func. that modified the behaviour of the passed / original func. The new generator funnction is called the 'decorated' func**"
   ]
  },
  {
   "cell_type": "code",
   "execution_count": 4,
   "id": "d3c9fabd",
   "metadata": {},
   "outputs": [],
   "source": [
    "def greet():\n",
    "    def wish():\n",
    "        print(\"Good Morning\")\n",
    "    wish()\n",
    "    print(\"Welcome to Decorator\")\n",
    "    "
   ]
  },
  {
   "cell_type": "code",
   "execution_count": 5,
   "id": "4027e74b",
   "metadata": {},
   "outputs": [
    {
     "name": "stdout",
     "output_type": "stream",
     "text": [
      "Good Morning\n",
      "Welcome to Decorator\n"
     ]
    }
   ],
   "source": [
    "greet()"
   ]
  },
  {
   "cell_type": "code",
   "execution_count": 6,
   "id": "98f3159f",
   "metadata": {},
   "outputs": [
    {
     "name": "stdout",
     "output_type": "stream",
     "text": [
      "Good Morning\n",
      "hello world\n",
      "Welcome to Decorator\n"
     ]
    }
   ],
   "source": [
    "def greet(f):\n",
    "    def wish():\n",
    "        print(\"Good Morning\")\n",
    "    wish()\n",
    "    f()\n",
    "    print(\"Welcome to Decorator\")\n",
    "    \n",
    "def hello():\n",
    "    print(\"hello world\")\n",
    "\n",
    "greet(hello)"
   ]
  },
  {
   "cell_type": "code",
   "execution_count": 22,
   "id": "9e878f5c",
   "metadata": {},
   "outputs": [
    {
     "name": "stdout",
     "output_type": "stream",
     "text": [
      "Good Morning\n",
      "hello world\n",
      "Welcome to Decorator\n"
     ]
    },
    {
     "ename": "TypeError",
     "evalue": "'NoneType' object is not callable",
     "output_type": "error",
     "traceback": [
      "\u001b[1;31m---------------------------------------------------------------------------\u001b[0m",
      "\u001b[1;31mTypeError\u001b[0m                                 Traceback (most recent call last)",
      "Cell \u001b[1;32mIn [22], line 13\u001b[0m\n\u001b[0;32m      9\u001b[0m \u001b[38;5;129m@greet\u001b[39m\n\u001b[0;32m     10\u001b[0m \u001b[38;5;28;01mdef\u001b[39;00m \u001b[38;5;21mhello\u001b[39m():\n\u001b[0;32m     11\u001b[0m     \u001b[38;5;28mprint\u001b[39m(\u001b[38;5;124m\"\u001b[39m\u001b[38;5;124mhello world\u001b[39m\u001b[38;5;124m\"\u001b[39m)\n\u001b[1;32m---> 13\u001b[0m \u001b[43mhello\u001b[49m\u001b[43m(\u001b[49m\u001b[43m)\u001b[49m\n",
      "\u001b[1;31mTypeError\u001b[0m: 'NoneType' object is not callable"
     ]
    }
   ],
   "source": [
    "#by decorator - @greet\n",
    "def greet(f):\n",
    "    def wish():\n",
    "        print(\"Good Morning\")\n",
    "    wish()\n",
    "    f()\n",
    "    print(\"Welcome to Decorator\")\n",
    "\n",
    "@greet\n",
    "def hello():\n",
    "    print(\"hello world\")\n",
    "    \n",
    "hello()"
   ]
  },
  {
   "cell_type": "code",
   "execution_count": 24,
   "id": "b635a5f6",
   "metadata": {},
   "outputs": [
    {
     "name": "stdout",
     "output_type": "stream",
     "text": [
      "Good Morning\n",
      "5\n",
      "Welcome to Decorator\n"
     ]
    }
   ],
   "source": [
    "def greet(add):\n",
    "    def wish(*args, **kwargs):\n",
    "        print(\"Good Morning\")\n",
    "        add(*args, **kwargs)\n",
    "        print(\"Welcome to Decorator\")\n",
    "    return wish\n",
    "\n",
    "@greet\n",
    "def add(a,b):\n",
    "    print(a+b)\n",
    "    \n",
    "(add)(2,3)"
   ]
  },
  {
   "cell_type": "code",
   "execution_count": 27,
   "id": "43509be1",
   "metadata": {},
   "outputs": [
    {
     "name": "stdout",
     "output_type": "stream",
     "text": [
      "Good Morning\n",
      "Good Morning\n",
      "5\n",
      "Welcome to Decorator\n",
      "Welcome to Decorator\n"
     ]
    }
   ],
   "source": [
    "def greet(add):\n",
    "    def wish(*args, **kwargs):\n",
    "        print(\"Good Morning\")\n",
    "        add(*args, **kwargs)\n",
    "        print(\"Welcome to Decorator\")\n",
    "    return wish\n",
    "\n",
    "@greet\n",
    "def add(a,b):\n",
    "    print(a+b)\n",
    "    \n",
    "greet(add)(2,3)\n",
    "#due to greet it called 2 times"
   ]
  },
  {
   "cell_type": "code",
   "execution_count": null,
   "id": "7ddddfdf",
   "metadata": {},
   "outputs": [],
   "source": []
  },
  {
   "cell_type": "code",
   "execution_count": 30,
   "id": "fcfcac06",
   "metadata": {},
   "outputs": [
    {
     "name": "stdout",
     "output_type": "stream",
     "text": [
      "Good morning\n"
     ]
    }
   ],
   "source": [
    "def wish(hey):\n",
    "    hey()\n",
    "    print(\"welcome\")\n",
    "    \n",
    "def hey():\n",
    "    print(\"Good morning\")\n",
    "    \n",
    "hey()\n"
   ]
  },
  {
   "cell_type": "code",
   "execution_count": 31,
   "id": "8c7b6f5e",
   "metadata": {},
   "outputs": [
    {
     "name": "stdout",
     "output_type": "stream",
     "text": [
      "Good morning\n",
      "welcome\n"
     ]
    }
   ],
   "source": [
    "wish(hey)"
   ]
  },
  {
   "cell_type": "code",
   "execution_count": 32,
   "id": "2a588773",
   "metadata": {},
   "outputs": [
    {
     "name": "stdout",
     "output_type": "stream",
     "text": [
      "Good morning\n",
      "welcome\n"
     ]
    },
    {
     "ename": "TypeError",
     "evalue": "'NoneType' object is not callable",
     "output_type": "error",
     "traceback": [
      "\u001b[1;31m---------------------------------------------------------------------------\u001b[0m",
      "\u001b[1;31mTypeError\u001b[0m                                 Traceback (most recent call last)",
      "Cell \u001b[1;32mIn [32], line 10\u001b[0m\n\u001b[0;32m      6\u001b[0m \u001b[38;5;129m@wish\u001b[39m\n\u001b[0;32m      7\u001b[0m \u001b[38;5;28;01mdef\u001b[39;00m \u001b[38;5;21mhey\u001b[39m():\n\u001b[0;32m      8\u001b[0m     \u001b[38;5;28mprint\u001b[39m(\u001b[38;5;124m\"\u001b[39m\u001b[38;5;124mGood morning\u001b[39m\u001b[38;5;124m\"\u001b[39m)\n\u001b[1;32m---> 10\u001b[0m \u001b[43mhey\u001b[49m\u001b[43m(\u001b[49m\u001b[43m)\u001b[49m\n",
      "\u001b[1;31mTypeError\u001b[0m: 'NoneType' object is not callable"
     ]
    }
   ],
   "source": [
    "#using decorator:\n",
    "def wish(hey):\n",
    "    hey()\n",
    "    print(\"welcome\")\n",
    "\n",
    "@wish\n",
    "def hey():\n",
    "    print(\"Good morning\")\n",
    "    \n",
    "hey()\n"
   ]
  },
  {
   "cell_type": "code",
   "execution_count": null,
   "id": "f56f714c",
   "metadata": {},
   "outputs": [],
   "source": []
  }
 ],
 "metadata": {
  "kernelspec": {
   "display_name": "Python 3 (ipykernel)",
   "language": "python",
   "name": "python3"
  },
  "language_info": {
   "codemirror_mode": {
    "name": "ipython",
    "version": 3
   },
   "file_extension": ".py",
   "mimetype": "text/x-python",
   "name": "python",
   "nbconvert_exporter": "python",
   "pygments_lexer": "ipython3",
   "version": "3.11.3"
  }
 },
 "nbformat": 4,
 "nbformat_minor": 5
}
