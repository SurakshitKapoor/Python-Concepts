{
 "cells": [
  {
   "cell_type": "markdown",
   "id": "bfe1a3b9",
   "metadata": {},
   "source": [
    "# Dictionaries"
   ]
  },
  {
   "cell_type": "markdown",
   "id": "14428ffb",
   "metadata": {},
   "source": [
    "**Very similar to lists**\n",
    "\n",
    "**Dictionaries data structure - values stored like key value pair, similar like real-life dictionary**\n",
    "\n",
    "**1. Dictionaries are ordered collection of key-value pairs.**\n",
    "\n",
    "**2. They can store multiple pairs in a single variable**\n",
    "\n",
    "**3. In dictionaries items/pairs are seperated by comma and enclosed within curley brackets - {}**\n",
    "\n",
    "**4. Dictionaries are changeable. Mutable - can alter its 'values or length'  after creation**"
   ]
  },
  {
   "cell_type": "code",
   "execution_count": 2,
   "id": "685bbf4f",
   "metadata": {},
   "outputs": [],
   "source": [
    "dic = {\n",
    "    1 : \"Raman\",\n",
    "    2 : \"Sahil\",\n",
    "    3 : \"Prashant\",\n",
    "    4 : \"Karan\"\n",
    "}"
   ]
  },
  {
   "cell_type": "code",
   "execution_count": 3,
   "id": "055e6bb4",
   "metadata": {},
   "outputs": [
    {
     "data": {
      "text/plain": [
       "'Prashant'"
      ]
     },
     "execution_count": 3,
     "metadata": {},
     "output_type": "execute_result"
    }
   ],
   "source": [
    "dic[3]"
   ]
  },
  {
   "cell_type": "code",
   "execution_count": 4,
   "id": "41afe376",
   "metadata": {},
   "outputs": [
    {
     "data": {
      "text/plain": [
       "'rajesh'"
      ]
     },
     "execution_count": 4,
     "metadata": {},
     "output_type": "execute_result"
    }
   ],
   "source": [
    "dic2 = dict({1: \"anan\" , 2 : \"rajesh\"})\n",
    "dic2[2]"
   ]
  },
  {
   "cell_type": "code",
   "execution_count": 5,
   "id": "c72b8cd8",
   "metadata": {},
   "outputs": [
    {
     "data": {
      "text/plain": [
       "4"
      ]
     },
     "execution_count": 5,
     "metadata": {},
     "output_type": "execute_result"
    }
   ],
   "source": [
    "len(dic)"
   ]
  },
  {
   "cell_type": "code",
   "execution_count": 6,
   "id": "ef000282",
   "metadata": {},
   "outputs": [
    {
     "name": "stdout",
     "output_type": "stream",
     "text": [
      "dict_keys([1, 2, 3, 4])\n"
     ]
    }
   ],
   "source": [
    "print(dic.keys())"
   ]
  },
  {
   "cell_type": "code",
   "execution_count": 7,
   "id": "6fd19a10",
   "metadata": {},
   "outputs": [
    {
     "name": "stdout",
     "output_type": "stream",
     "text": [
      "dict_items([(1, 'Raman'), (2, 'Sahil'), (3, 'Prashant'), (4, 'Karan')])\n"
     ]
    }
   ],
   "source": [
    "print(dic.items())"
   ]
  },
  {
   "cell_type": "code",
   "execution_count": 8,
   "id": "09499ec8",
   "metadata": {},
   "outputs": [
    {
     "name": "stdout",
     "output_type": "stream",
     "text": [
      "dict_values(['Raman', 'Sahil', 'Prashant', 'Karan'])\n"
     ]
    }
   ],
   "source": [
    "print(dic.values())"
   ]
  },
  {
   "cell_type": "code",
   "execution_count": 9,
   "id": "a2fb1086",
   "metadata": {},
   "outputs": [
    {
     "name": "stdout",
     "output_type": "stream",
     "text": [
      "no\n"
     ]
    }
   ],
   "source": [
    "if \"Raman\" in dic:\n",
    "    print(\"yes\")\n",
    "else:\n",
    "    print(\"no\")"
   ]
  },
  {
   "cell_type": "code",
   "execution_count": 10,
   "id": "95cb70e5",
   "metadata": {
    "scrolled": true
   },
   "outputs": [
    {
     "name": "stdout",
     "output_type": "stream",
     "text": [
      "yes\n"
     ]
    }
   ],
   "source": [
    "if 2 in dic:\n",
    "    print(\"yes\")\n",
    "else:\n",
    "    print(\"no\")"
   ]
  },
  {
   "cell_type": "markdown",
   "id": "2be109d3",
   "metadata": {},
   "source": [
    "**Updating the dict - if that key present, then updates it; else-if not present that key, then create that key with assigned value and store in dict**"
   ]
  },
  {
   "cell_type": "code",
   "execution_count": 11,
   "id": "d4054f49",
   "metadata": {},
   "outputs": [],
   "source": [
    "dic [2] = \"Sachin\""
   ]
  },
  {
   "cell_type": "code",
   "execution_count": 12,
   "id": "d322784b",
   "metadata": {},
   "outputs": [
    {
     "data": {
      "text/plain": [
       "{1: 'Raman', 2: 'Sachin', 3: 'Prashant', 4: 'Karan'}"
      ]
     },
     "execution_count": 12,
     "metadata": {},
     "output_type": "execute_result"
    }
   ],
   "source": [
    "dic"
   ]
  },
  {
   "cell_type": "code",
   "execution_count": 13,
   "id": "d81a2c1b",
   "metadata": {},
   "outputs": [],
   "source": [
    "dic[6] = \"Rishi\""
   ]
  },
  {
   "cell_type": "code",
   "execution_count": 14,
   "id": "41fe28dd",
   "metadata": {},
   "outputs": [
    {
     "data": {
      "text/plain": [
       "{1: 'Raman', 2: 'Sachin', 3: 'Prashant', 4: 'Karan', 6: 'Rishi'}"
      ]
     },
     "execution_count": 14,
     "metadata": {},
     "output_type": "execute_result"
    }
   ],
   "source": [
    "dic"
   ]
  },
  {
   "cell_type": "code",
   "execution_count": 16,
   "id": "433901ba",
   "metadata": {},
   "outputs": [
    {
     "data": {
      "text/plain": [
       "{1: 'Raman', 3: 'Prashant', 4: 'Karan', 6: 'Rishi'}"
      ]
     },
     "execution_count": 16,
     "metadata": {},
     "output_type": "execute_result"
    }
   ],
   "source": [
    "# deletes the item by key\n",
    "# del dic -> can delete whole dictionary\n",
    "del dic[2]\n",
    "dic"
   ]
  },
  {
   "cell_type": "code",
   "execution_count": 18,
   "id": "c2c65112",
   "metadata": {},
   "outputs": [
    {
     "data": {
      "text/plain": [
       "'Raman'"
      ]
     },
     "execution_count": 18,
     "metadata": {},
     "output_type": "execute_result"
    }
   ],
   "source": [
    "# deletes the key item\n",
    "dic.pop(1)"
   ]
  },
  {
   "cell_type": "code",
   "execution_count": 19,
   "id": "0fb0c458",
   "metadata": {},
   "outputs": [
    {
     "data": {
      "text/plain": [
       "{3: 'Prashant', 4: 'Karan', 6: 'Rishi'}"
      ]
     },
     "execution_count": 19,
     "metadata": {},
     "output_type": "execute_result"
    }
   ],
   "source": [
    "dic"
   ]
  },
  {
   "cell_type": "code",
   "execution_count": 20,
   "id": "7a69c609",
   "metadata": {},
   "outputs": [
    {
     "data": {
      "text/plain": [
       "(6, 'Rishi')"
      ]
     },
     "execution_count": 20,
     "metadata": {},
     "output_type": "execute_result"
    }
   ],
   "source": [
    "# deletes the last item\n",
    "dic.popitem()"
   ]
  },
  {
   "cell_type": "code",
   "execution_count": 21,
   "id": "701b831d",
   "metadata": {},
   "outputs": [
    {
     "data": {
      "text/plain": [
       "{3: 'Prashant', 4: 'Karan'}"
      ]
     },
     "execution_count": 21,
     "metadata": {},
     "output_type": "execute_result"
    }
   ],
   "source": [
    "dic"
   ]
  },
  {
   "cell_type": "markdown",
   "id": "457e9463",
   "metadata": {},
   "source": [
    "**Looping in the dictionary**"
   ]
  },
  {
   "cell_type": "code",
   "execution_count": 22,
   "id": "572e3128",
   "metadata": {},
   "outputs": [
    {
     "name": "stdout",
     "output_type": "stream",
     "text": [
      "3\n",
      "4\n"
     ]
    }
   ],
   "source": [
    "for x in dic:\n",
    "    print(x)"
   ]
  },
  {
   "cell_type": "code",
   "execution_count": 23,
   "id": "88333049",
   "metadata": {},
   "outputs": [
    {
     "name": "stdout",
     "output_type": "stream",
     "text": [
      "3\n",
      "4\n"
     ]
    }
   ],
   "source": [
    "for x in dic.keys():\n",
    "    print(x)"
   ]
  },
  {
   "cell_type": "code",
   "execution_count": 24,
   "id": "79971474",
   "metadata": {},
   "outputs": [
    {
     "name": "stdout",
     "output_type": "stream",
     "text": [
      "Prashant\n",
      "Karan\n"
     ]
    }
   ],
   "source": [
    "for x in dic.values():\n",
    "    print(x)"
   ]
  },
  {
   "cell_type": "code",
   "execution_count": 25,
   "id": "aa2ad617",
   "metadata": {},
   "outputs": [
    {
     "name": "stdout",
     "output_type": "stream",
     "text": [
      "(3, 'Prashant')\n",
      "(4, 'Karan')\n"
     ]
    }
   ],
   "source": [
    "for x in dic.items():\n",
    "    print(x)"
   ]
  },
  {
   "cell_type": "code",
   "execution_count": 26,
   "id": "419f0c8c",
   "metadata": {},
   "outputs": [
    {
     "name": "stdout",
     "output_type": "stream",
     "text": [
      "Prashant\n",
      "Karan\n"
     ]
    }
   ],
   "source": [
    "for x in dic:\n",
    "    print(dic[x])"
   ]
  },
  {
   "cell_type": "code",
   "execution_count": null,
   "id": "e80019e4",
   "metadata": {},
   "outputs": [],
   "source": []
  },
  {
   "cell_type": "markdown",
   "id": "ce6371f1",
   "metadata": {},
   "source": [
    "**Copying the dictionary**\n",
    "\n",
    "**simply assigning will create true copy, as dict is the reference type**\n",
    "\n",
    "**so , create a false copy by dict keyword, changes in copy will not reflect in original**"
   ]
  },
  {
   "cell_type": "code",
   "execution_count": 27,
   "id": "6a20a7fd",
   "metadata": {},
   "outputs": [],
   "source": [
    "dic2 = dict(dic)\n"
   ]
  },
  {
   "cell_type": "code",
   "execution_count": 28,
   "id": "54ea720e",
   "metadata": {},
   "outputs": [
    {
     "data": {
      "text/plain": [
       "{3: 'Madhur', 4: 'Karan'}"
      ]
     },
     "execution_count": 28,
     "metadata": {},
     "output_type": "execute_result"
    }
   ],
   "source": [
    "dic2[3] = \"Madhur\"\n",
    "dic2"
   ]
  },
  {
   "cell_type": "code",
   "execution_count": 30,
   "id": "d10fe26e",
   "metadata": {},
   "outputs": [
    {
     "data": {
      "text/plain": [
       "{3: 'Prashant', 4: 'Karan'}"
      ]
     },
     "execution_count": 30,
     "metadata": {},
     "output_type": "execute_result"
    }
   ],
   "source": [
    "dic"
   ]
  },
  {
   "cell_type": "markdown",
   "id": "aad44c37",
   "metadata": {},
   "source": [
    "**Copy can also by 'copy'**"
   ]
  },
  {
   "cell_type": "code",
   "execution_count": 32,
   "id": "d0285001",
   "metadata": {},
   "outputs": [],
   "source": [
    "dic3 = dic.copy()"
   ]
  },
  {
   "cell_type": "code",
   "execution_count": 33,
   "id": "4330be58",
   "metadata": {},
   "outputs": [
    {
     "name": "stdout",
     "output_type": "stream",
     "text": [
      "{3: 'Prashant', 4: 'Karan'}\n",
      "{3: 'Raman', 4: 'Karan'}\n"
     ]
    }
   ],
   "source": [
    "dic[3] = \"Raman\"\n",
    "print(dic3)\n",
    "print(dic)"
   ]
  },
  {
   "cell_type": "markdown",
   "id": "1680f1ff",
   "metadata": {},
   "source": [
    "**get() method -**\n",
    "\n",
    "**dictionary.get(keyname, value)**\n",
    "\n",
    "**keyname - mandatory; value - optional**\n"
   ]
  },
  {
   "cell_type": "code",
   "execution_count": 34,
   "id": "4a07d610",
   "metadata": {},
   "outputs": [
    {
     "data": {
      "text/plain": [
       "'Prashant'"
      ]
     },
     "execution_count": 34,
     "metadata": {},
     "output_type": "execute_result"
    }
   ],
   "source": [
    "dic3.get(3)"
   ]
  },
  {
   "cell_type": "markdown",
   "id": "f9920374",
   "metadata": {},
   "source": [
    "**Nested Dictionary**"
   ]
  },
  {
   "cell_type": "code",
   "execution_count": 39,
   "id": "ef546b93",
   "metadata": {},
   "outputs": [],
   "source": [
    "dic4 = {\"name\" : \"raman\", \"addr\": { \n",
    "    \"state\": \"delhi\",\n",
    "    \"area\": {\n",
    "        \"block\" : 13,\n",
    "        \"houseno\": {\n",
    "            \"num\": 382,\n",
    "            \"floor\": \"2nd\"\n",
    "        }\n",
    "    }\n",
    "}}\n"
   ]
  },
  {
   "cell_type": "code",
   "execution_count": 44,
   "id": "fd9b22a3",
   "metadata": {},
   "outputs": [
    {
     "data": {
      "text/plain": [
       "{'block': 13, 'houseno': {'num': 382, 'floor': '2nd'}}"
      ]
     },
     "execution_count": 44,
     "metadata": {},
     "output_type": "execute_result"
    }
   ],
   "source": [
    "dic4['addr']['area']"
   ]
  },
  {
   "cell_type": "code",
   "execution_count": null,
   "id": "56d008a3",
   "metadata": {},
   "outputs": [],
   "source": []
  }
 ],
 "metadata": {
  "kernelspec": {
   "display_name": "Python 3 (ipykernel)",
   "language": "python",
   "name": "python3"
  },
  "language_info": {
   "codemirror_mode": {
    "name": "ipython",
    "version": 3
   },
   "file_extension": ".py",
   "mimetype": "text/x-python",
   "name": "python",
   "nbconvert_exporter": "python",
   "pygments_lexer": "ipython3",
   "version": "3.11.3"
  }
 },
 "nbformat": 4,
 "nbformat_minor": 5
}
