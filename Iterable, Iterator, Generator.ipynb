{
 "cells": [
  {
   "cell_type": "markdown",
   "id": "34d73aac",
   "metadata": {},
   "source": [
    "# Iterable & Iterator"
   ]
  },
  {
   "cell_type": "markdown",
   "id": "e9876d37",
   "metadata": {},
   "source": [
    "\n",
    "**The difference between iterable and iterator is based on initialization / memory alloc to items.**"
   ]
  },
  {
   "cell_type": "markdown",
   "id": "7690d3cf",
   "metadata": {},
   "source": [
    "**Iterable: let take list, traverse by loop or index no's. here, we can get access to all list items at any point of time. Why? as all lists items are initialized in the memory/RAM.**\n",
    "\n",
    "So, imagine if we have millions of items, then initializing all items in memory will consumes unnecessary RAM\n",
    "\n",
    "Due to this reason, we are using iterator.\n",
    "\n",
    "iter() - func to convert iterable objects into iterator.\n",
    "\n",
    "in iterator, the items are not initialized in the memory, untill and unless they are called. so, helpful in consuming memory.\n",
    "\n",
    "to access next value we've a func called, next() . we can also access iterator by for loop. can't access by index num\n"
   ]
  },
  {
   "cell_type": "markdown",
   "id": "a1d3f429",
   "metadata": {},
   "source": [
    "**In Iterator: we can create values from a stored source of info in sky(let). we've the info about values but not having the values in memory. we can create the values in memory when needed (as per requirement)**"
   ]
  },
  {
   "cell_type": "code",
   "execution_count": 3,
   "id": "28cc8424",
   "metadata": {},
   "outputs": [
    {
     "name": "stdout",
     "output_type": "stream",
     "text": [
      "<class 'list'>\n"
     ]
    }
   ],
   "source": [
    "lst = [1,2,3,4,5]\n",
    "print(type(lst))"
   ]
  },
  {
   "cell_type": "code",
   "execution_count": 4,
   "id": "a0cd68ff",
   "metadata": {},
   "outputs": [
    {
     "name": "stdout",
     "output_type": "stream",
     "text": [
      "1\n",
      "2\n",
      "3\n",
      "4\n",
      "5\n"
     ]
    }
   ],
   "source": [
    "for i in lst:\n",
    "    print(i)"
   ]
  },
  {
   "cell_type": "code",
   "execution_count": null,
   "id": "60d1eaa0",
   "metadata": {},
   "outputs": [],
   "source": []
  },
  {
   "cell_type": "code",
   "execution_count": 5,
   "id": "e778ff49",
   "metadata": {},
   "outputs": [],
   "source": [
    "# shit +tab to know inner func's\n",
    "lst2 = iter(lst)"
   ]
  },
  {
   "cell_type": "code",
   "execution_count": 6,
   "id": "b430cf11",
   "metadata": {},
   "outputs": [
    {
     "data": {
      "text/plain": [
       "<list_iterator at 0x200a97611e0>"
      ]
     },
     "execution_count": 6,
     "metadata": {},
     "output_type": "execute_result"
    }
   ],
   "source": [
    "lst2"
   ]
  },
  {
   "cell_type": "code",
   "execution_count": 7,
   "id": "e3cfac28",
   "metadata": {},
   "outputs": [
    {
     "ename": "TypeError",
     "evalue": "'list_iterator' object is not subscriptable",
     "output_type": "error",
     "traceback": [
      "\u001b[1;31m---------------------------------------------------------------------------\u001b[0m",
      "\u001b[1;31mTypeError\u001b[0m                                 Traceback (most recent call last)",
      "Cell \u001b[1;32mIn [7], line 1\u001b[0m\n\u001b[1;32m----> 1\u001b[0m \u001b[43mlst2\u001b[49m\u001b[43m[\u001b[49m\u001b[38;5;241;43m2\u001b[39;49m\u001b[43m]\u001b[49m\n",
      "\u001b[1;31mTypeError\u001b[0m: 'list_iterator' object is not subscriptable"
     ]
    }
   ],
   "source": [
    "lst2[2]"
   ]
  },
  {
   "cell_type": "code",
   "execution_count": 8,
   "id": "e1e6c009",
   "metadata": {},
   "outputs": [
    {
     "data": {
      "text/plain": [
       "1"
      ]
     },
     "execution_count": 8,
     "metadata": {},
     "output_type": "execute_result"
    }
   ],
   "source": [
    "next(lst2)"
   ]
  },
  {
   "cell_type": "code",
   "execution_count": 9,
   "id": "a6807ecc",
   "metadata": {},
   "outputs": [
    {
     "data": {
      "text/plain": [
       "2"
      ]
     },
     "execution_count": 9,
     "metadata": {},
     "output_type": "execute_result"
    }
   ],
   "source": [
    "next(lst2)"
   ]
  },
  {
   "cell_type": "code",
   "execution_count": 10,
   "id": "c434b8c0",
   "metadata": {},
   "outputs": [
    {
     "data": {
      "text/plain": [
       "3"
      ]
     },
     "execution_count": 10,
     "metadata": {},
     "output_type": "execute_result"
    }
   ],
   "source": [
    "next(lst2)"
   ]
  },
  {
   "cell_type": "code",
   "execution_count": 11,
   "id": "7f13da55",
   "metadata": {},
   "outputs": [
    {
     "data": {
      "text/plain": [
       "4"
      ]
     },
     "execution_count": 11,
     "metadata": {},
     "output_type": "execute_result"
    }
   ],
   "source": [
    "next(lst2)"
   ]
  },
  {
   "cell_type": "code",
   "execution_count": 12,
   "id": "1557a569",
   "metadata": {},
   "outputs": [
    {
     "data": {
      "text/plain": [
       "5"
      ]
     },
     "execution_count": 12,
     "metadata": {},
     "output_type": "execute_result"
    }
   ],
   "source": [
    "next(lst2)"
   ]
  },
  {
   "cell_type": "code",
   "execution_count": 14,
   "id": "7d8acb1b",
   "metadata": {},
   "outputs": [
    {
     "ename": "StopIteration",
     "evalue": "",
     "output_type": "error",
     "traceback": [
      "\u001b[1;31m---------------------------------------------------------------------------\u001b[0m",
      "\u001b[1;31mStopIteration\u001b[0m                             Traceback (most recent call last)",
      "Cell \u001b[1;32mIn [14], line 1\u001b[0m\n\u001b[1;32m----> 1\u001b[0m \u001b[38;5;28;43mnext\u001b[39;49m\u001b[43m(\u001b[49m\u001b[43mlst2\u001b[49m\u001b[43m)\u001b[49m\n",
      "\u001b[1;31mStopIteration\u001b[0m: "
     ]
    }
   ],
   "source": [
    "# will stop iterating, as items ends now\n",
    "next(lst2)"
   ]
  },
  {
   "cell_type": "code",
   "execution_count": 15,
   "id": "95f707a2",
   "metadata": {},
   "outputs": [],
   "source": [
    "lst3 = iter(lst)"
   ]
  },
  {
   "cell_type": "code",
   "execution_count": 16,
   "id": "62e74b3c",
   "metadata": {},
   "outputs": [
    {
     "name": "stdout",
     "output_type": "stream",
     "text": [
      "1\n",
      "2\n",
      "3\n",
      "4\n",
      "5\n"
     ]
    }
   ],
   "source": [
    "# in foor loop,auto stops iterating due to its ability to handle exceptions\n",
    "for i in lst3:\n",
    "    print(i)"
   ]
  },
  {
   "cell_type": "code",
   "execution_count": 17,
   "id": "4945a4f3",
   "metadata": {},
   "outputs": [
    {
     "ename": "StopIteration",
     "evalue": "",
     "output_type": "error",
     "traceback": [
      "\u001b[1;31m---------------------------------------------------------------------------\u001b[0m",
      "\u001b[1;31mStopIteration\u001b[0m                             Traceback (most recent call last)",
      "Cell \u001b[1;32mIn [17], line 1\u001b[0m\n\u001b[1;32m----> 1\u001b[0m \u001b[38;5;28;43mnext\u001b[39;49m\u001b[43m(\u001b[49m\u001b[43mlst3\u001b[49m\u001b[43m)\u001b[49m\n",
      "\u001b[1;31mStopIteration\u001b[0m: "
     ]
    }
   ],
   "source": [
    "next(lst3)"
   ]
  },
  {
   "cell_type": "code",
   "execution_count": 18,
   "id": "1be0d3ef",
   "metadata": {},
   "outputs": [],
   "source": [
    "#also ietrating prtially by next and continue rest by for loop\n",
    "lst3 = iter(lst)"
   ]
  },
  {
   "cell_type": "code",
   "execution_count": 19,
   "id": "5cb5ce6b",
   "metadata": {},
   "outputs": [
    {
     "data": {
      "text/plain": [
       "1"
      ]
     },
     "execution_count": 19,
     "metadata": {},
     "output_type": "execute_result"
    }
   ],
   "source": [
    "next(lst3)"
   ]
  },
  {
   "cell_type": "code",
   "execution_count": 20,
   "id": "874b2cb3",
   "metadata": {},
   "outputs": [
    {
     "name": "stdout",
     "output_type": "stream",
     "text": [
      "<list_iterator object at 0x00000200A9762BF0>\n",
      "<list_iterator object at 0x00000200A9762BF0>\n",
      "<list_iterator object at 0x00000200A9762BF0>\n",
      "<list_iterator object at 0x00000200A9762BF0>\n"
     ]
    }
   ],
   "source": [
    "for i in lst3:\n",
    "    print(lst3)"
   ]
  },
  {
   "cell_type": "code",
   "execution_count": 23,
   "id": "61e04d6a",
   "metadata": {},
   "outputs": [],
   "source": [
    "# will not give as already iterated and gives iterable_object only, value not initialized in memory\n",
    "for i in lst3:\n",
    "    print(i)"
   ]
  },
  {
   "cell_type": "code",
   "execution_count": null,
   "id": "2a081536",
   "metadata": {},
   "outputs": [],
   "source": []
  },
  {
   "cell_type": "code",
   "execution_count": 24,
   "id": "37ac5152",
   "metadata": {},
   "outputs": [],
   "source": [
    "lst3 = iter(lst)"
   ]
  },
  {
   "cell_type": "code",
   "execution_count": 25,
   "id": "7f1e2a79",
   "metadata": {},
   "outputs": [
    {
     "data": {
      "text/plain": [
       "1"
      ]
     },
     "execution_count": 25,
     "metadata": {},
     "output_type": "execute_result"
    }
   ],
   "source": [
    "next(lst3)"
   ]
  },
  {
   "cell_type": "code",
   "execution_count": 26,
   "id": "b0bfe94b",
   "metadata": {},
   "outputs": [
    {
     "name": "stdout",
     "output_type": "stream",
     "text": [
      "2\n",
      "3\n",
      "4\n",
      "5\n"
     ]
    }
   ],
   "source": [
    "for i in lst3:\n",
    "    print(i)"
   ]
  },
  {
   "cell_type": "code",
   "execution_count": 27,
   "id": "f2f38d72",
   "metadata": {},
   "outputs": [],
   "source": [
    "for i in lst3:\n",
    "    print(i)"
   ]
  },
  {
   "cell_type": "code",
   "execution_count": 28,
   "id": "bde8070f",
   "metadata": {},
   "outputs": [
    {
     "ename": "StopIteration",
     "evalue": "",
     "output_type": "error",
     "traceback": [
      "\u001b[1;31m---------------------------------------------------------------------------\u001b[0m",
      "\u001b[1;31mStopIteration\u001b[0m                             Traceback (most recent call last)",
      "Cell \u001b[1;32mIn [28], line 1\u001b[0m\n\u001b[1;32m----> 1\u001b[0m \u001b[38;5;28;43mnext\u001b[39;49m\u001b[43m(\u001b[49m\u001b[43mlst3\u001b[49m\u001b[43m)\u001b[49m\n",
      "\u001b[1;31mStopIteration\u001b[0m: "
     ]
    }
   ],
   "source": [
    "next(lst3)"
   ]
  },
  {
   "cell_type": "code",
   "execution_count": null,
   "id": "fec274ea",
   "metadata": {},
   "outputs": [],
   "source": []
  },
  {
   "cell_type": "code",
   "execution_count": 30,
   "id": "8927517f",
   "metadata": {},
   "outputs": [],
   "source": [
    "#Generators:"
   ]
  },
  {
   "cell_type": "markdown",
   "id": "442b043c",
   "metadata": {},
   "source": [
    "**In generator, values are present in the sky, not in memory. we can generate the values, by using stored info. about values.**\n",
    "\n",
    "Its like, humare pass receipe hai, par result nahi hai, generator func se hum result generate karenge."
   ]
  },
  {
   "cell_type": "markdown",
   "id": "0b101cee",
   "metadata": {},
   "source": [
    "**A generator-function is defined like a normal function, but whenever it needs to generate a value, it does so with the yield keyword rather than return. If the body of a def contains yield, the function automatically becomes a generator function.**"
   ]
  },
  {
   "cell_type": "code",
   "execution_count": 44,
   "id": "2ca551df",
   "metadata": {},
   "outputs": [
    {
     "name": "stdout",
     "output_type": "stream",
     "text": [
      "1\n",
      "2\n",
      "3\n"
     ]
    }
   ],
   "source": [
    "def simpleGeneratorFun():\n",
    "    yield 1           \n",
    "    yield 2           \n",
    "    yield 3           \n",
    "  \n",
    "# Driver code to check above generator function\n",
    "for value in simpleGeneratorFun():\n",
    "    print(value)"
   ]
  },
  {
   "cell_type": "code",
   "execution_count": 45,
   "id": "7fb29c14",
   "metadata": {},
   "outputs": [
    {
     "name": "stdout",
     "output_type": "stream",
     "text": [
      "[1, 2, 3]\n"
     ]
    }
   ],
   "source": [
    "def simpleGeneratorFun():\n",
    "    yield 1           \n",
    "    yield 2           \n",
    "    yield 3           \n",
    "  \n",
    "print(list(simpleGeneratorFun()))\n",
    "    "
   ]
  },
  {
   "cell_type": "code",
   "execution_count": 46,
   "id": "0a2d9dac",
   "metadata": {},
   "outputs": [
    {
     "name": "stdout",
     "output_type": "stream",
     "text": [
      "0\n",
      "1\n",
      "2\n",
      "3\n",
      "4\n"
     ]
    }
   ],
   "source": [
    "def simpleGeneratorFun():\n",
    "   for i in range(5):\n",
    "    yield i\n",
    "  \n",
    "# Driver code to check above generator function\n",
    "for value in simpleGeneratorFun():\n",
    "    print(value)"
   ]
  },
  {
   "cell_type": "code",
   "execution_count": 47,
   "id": "3b0c1dfb",
   "metadata": {},
   "outputs": [
    {
     "name": "stdout",
     "output_type": "stream",
     "text": [
      "<generator object simpleGeneratorFun at 0x00000200A9C19B10>\n",
      "[0, 1, 2, 3, 4]\n"
     ]
    }
   ],
   "source": [
    "def simpleGeneratorFun():\n",
    "   for i in range(5):\n",
    "    yield i\n",
    "  \n",
    "print(simpleGeneratorFun())\n",
    "print(list(simpleGeneratorFun()))"
   ]
  },
  {
   "cell_type": "markdown",
   "id": "ac8d3172",
   "metadata": {},
   "source": [
    "**Generator functions return a generator object. Generator objects are used either by calling the next method on the generator object or using the generator object in a “for in” loop**"
   ]
  },
  {
   "cell_type": "code",
   "execution_count": 48,
   "id": "d5f2d4e1",
   "metadata": {},
   "outputs": [
    {
     "name": "stdout",
     "output_type": "stream",
     "text": [
      "1\n",
      "1\n"
     ]
    }
   ],
   "source": [
    "def simpleGeneratorFun():\n",
    "    yield 1           \n",
    "    yield 2           \n",
    "    yield 3           \n",
    "  \n",
    "print(next(simpleGeneratorFun()))\n",
    "print(next(simpleGeneratorFun()))\n",
    "    "
   ]
  },
  {
   "cell_type": "code",
   "execution_count": 49,
   "id": "101c792f",
   "metadata": {},
   "outputs": [
    {
     "name": "stdout",
     "output_type": "stream",
     "text": [
      "1\n",
      "2\n",
      "3\n"
     ]
    }
   ],
   "source": [
    "def simpleGeneratorFun():\n",
    "    yield 1\n",
    "    yield 2\n",
    "    yield 3\n",
    "  \n",
    "# x is a generator object\n",
    "x = simpleGeneratorFun()\n",
    " \n",
    "# Iterating over the generator object using next\n",
    "print(next(x)) # In Python 3, __next__()\n",
    "print(next(x))\n",
    "print(next(x))"
   ]
  },
  {
   "cell_type": "markdown",
   "id": "a6a9f1a8",
   "metadata": {},
   "source": [
    "**let, aap unnecessary 100000 items ki list craete kar rahe ho in memory, which will consumes huge memory and yeh bhi possible hai ki 5(let) hi items ki zarurat ho**\n",
    "thats why, generators are used here"
   ]
  },
  {
   "cell_type": "code",
   "execution_count": null,
   "id": "0d8e7169",
   "metadata": {},
   "outputs": [],
   "source": []
  }
 ],
 "metadata": {
  "kernelspec": {
   "display_name": "Python 3 (ipykernel)",
   "language": "python",
   "name": "python3"
  },
  "language_info": {
   "codemirror_mode": {
    "name": "ipython",
    "version": 3
   },
   "file_extension": ".py",
   "mimetype": "text/x-python",
   "name": "python",
   "nbconvert_exporter": "python",
   "pygments_lexer": "ipython3",
   "version": "3.11.3"
  }
 },
 "nbformat": 4,
 "nbformat_minor": 5
}
