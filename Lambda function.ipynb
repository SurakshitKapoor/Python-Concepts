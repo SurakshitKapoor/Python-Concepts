{
 "cells": [
  {
   "cell_type": "markdown",
   "id": "ebcb3140",
   "metadata": {},
   "source": [
    "# Lambda function: "
   ]
  },
  {
   "cell_type": "markdown",
   "id": "1225c65d",
   "metadata": {},
   "source": [
    "**Its a simple way to write a function which have only one return statement, or , having if-else conditions, or loop only.**\n",
    "\n",
    "**It is used to create anonymous functions, and by assigning that to a variable, we can call to the lambda function.**\n",
    "\n",
    "**why used?**\n",
    "\n",
    "**ans is above**\n",
    "\n",
    "**do we have to use it regularly instead of normal functions? -> No, use normal function if they have many lines of code.**\n",
    "\n",
    "**Lambda function is the adv. way to simplify short lines of code in a simple stmt.**"
   ]
  },
  {
   "cell_type": "code",
   "execution_count": null,
   "id": "9cdd0f6f",
   "metadata": {},
   "outputs": [],
   "source": []
  },
  {
   "cell_type": "markdown",
   "id": "bc0e239b",
   "metadata": {},
   "source": [
    "**these are the normal functions:**"
   ]
  },
  {
   "cell_type": "code",
   "execution_count": 6,
   "id": "96b6d799",
   "metadata": {},
   "outputs": [],
   "source": [
    "def square(x):\n",
    "    return x*x;\n",
    "\n",
    "def cube(x):\n",
    "    return x*x*x;"
   ]
  },
  {
   "cell_type": "code",
   "execution_count": 7,
   "id": "4c266dd0",
   "metadata": {},
   "outputs": [
    {
     "name": "stdout",
     "output_type": "stream",
     "text": [
      "25\n"
     ]
    }
   ],
   "source": [
    "print(square(5))"
   ]
  },
  {
   "cell_type": "code",
   "execution_count": 8,
   "id": "cd606e1b",
   "metadata": {},
   "outputs": [
    {
     "name": "stdout",
     "output_type": "stream",
     "text": [
      "216\n"
     ]
    }
   ],
   "source": [
    "print(cube(6))"
   ]
  },
  {
   "cell_type": "code",
   "execution_count": null,
   "id": "6157e08c",
   "metadata": {},
   "outputs": [],
   "source": []
  },
  {
   "cell_type": "markdown",
   "id": "01cde16e",
   "metadata": {},
   "source": [
    "**these are the lambda functions:**\n"
   ]
  },
  {
   "cell_type": "code",
   "execution_count": 10,
   "id": "e2e659fa",
   "metadata": {},
   "outputs": [],
   "source": [
    "sq = lambda x: x*x;\n",
    "cu = lambda x : x*x*x;\n"
   ]
  },
  {
   "cell_type": "code",
   "execution_count": 11,
   "id": "c67b7beb",
   "metadata": {},
   "outputs": [
    {
     "name": "stdout",
     "output_type": "stream",
     "text": [
      "64\n"
     ]
    }
   ],
   "source": [
    "print(cu(4))"
   ]
  },
  {
   "cell_type": "code",
   "execution_count": 14,
   "id": "cdd2c80b",
   "metadata": {},
   "outputs": [],
   "source": [
    "#new = lambda x: (x>10) ? (x*x) : (x*x*x)\n"
   ]
  },
  {
   "cell_type": "markdown",
   "id": "157c0fd6",
   "metadata": {},
   "source": [
    "**Lambda function can take many arguments**"
   ]
  },
  {
   "cell_type": "code",
   "execution_count": 15,
   "id": "35000fdc",
   "metadata": {},
   "outputs": [],
   "source": [
    "sum = lambda x, y : x+y;"
   ]
  },
  {
   "cell_type": "code",
   "execution_count": 16,
   "id": "463497a5",
   "metadata": {},
   "outputs": [
    {
     "name": "stdout",
     "output_type": "stream",
     "text": [
      "30\n"
     ]
    }
   ],
   "source": [
    "print(sum(10,20))"
   ]
  },
  {
   "cell_type": "code",
   "execution_count": null,
   "id": "30e575dd",
   "metadata": {},
   "outputs": [],
   "source": []
  },
  {
   "cell_type": "markdown",
   "id": "99f30924",
   "metadata": {},
   "source": [
    "**basically, lambda func is used when we need to pass a function as a parameter within other function, i.e. in higher order functions like map, reduce, filter functions**"
   ]
  },
  {
   "cell_type": "code",
   "execution_count": 22,
   "id": "f265b11d",
   "metadata": {},
   "outputs": [],
   "source": [
    "def show(sqr, value):\n",
    "    return sqr(value);\n",
    "\n"
   ]
  },
  {
   "cell_type": "code",
   "execution_count": 23,
   "id": "e2b9e279",
   "metadata": {},
   "outputs": [
    {
     "name": "stdout",
     "output_type": "stream",
     "text": [
      "100\n"
     ]
    }
   ],
   "source": [
    "print(show(lambda x : x*x, 10))"
   ]
  },
  {
   "cell_type": "code",
   "execution_count": null,
   "id": "51359404",
   "metadata": {},
   "outputs": [],
   "source": []
  }
 ],
 "metadata": {
  "kernelspec": {
   "display_name": "Python 3 (ipykernel)",
   "language": "python",
   "name": "python3"
  },
  "language_info": {
   "codemirror_mode": {
    "name": "ipython",
    "version": 3
   },
   "file_extension": ".py",
   "mimetype": "text/x-python",
   "name": "python",
   "nbconvert_exporter": "python",
   "pygments_lexer": "ipython3",
   "version": "3.11.3"
  }
 },
 "nbformat": 4,
 "nbformat_minor": 5
}
