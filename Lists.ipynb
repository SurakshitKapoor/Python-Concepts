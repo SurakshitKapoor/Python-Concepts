{
 "cells": [
  {
   "cell_type": "markdown",
   "id": "e7b1e7fe",
   "metadata": {},
   "source": [
    "\n",
    "# Lists in Python"
   ]
  },
  {
   "cell_type": "markdown",
   "id": "dd0dab6f",
   "metadata": {},
   "source": [
    "**1. Lists store multiple items in a single variable. Items can be of different datatypes, but its ideal to store store same type of values in a variable. ex: storing marks**\n",
    "\n",
    "**2. Lists are ordered collection of data items.**\n",
    "\n",
    "**3. Lists items are stored in a square brackets and are seperated by commas.**\n",
    "\n",
    "**4. Lists are changeable, we can alter them, so lists are mutable.**"
   ]
  },
  {
   "cell_type": "code",
   "execution_count": 2,
   "id": "826474d4",
   "metadata": {},
   "outputs": [],
   "source": [
    "marks = [10, 20, 30]"
   ]
  },
  {
   "cell_type": "code",
   "execution_count": 3,
   "id": "ccade8fb",
   "metadata": {},
   "outputs": [
    {
     "name": "stdout",
     "output_type": "stream",
     "text": [
      "[10, 20, 30]\n"
     ]
    }
   ],
   "source": [
    "print(marks)"
   ]
  },
  {
   "cell_type": "code",
   "execution_count": 4,
   "id": "831b90b7",
   "metadata": {},
   "outputs": [
    {
     "name": "stdout",
     "output_type": "stream",
     "text": [
      "<class 'list'>\n"
     ]
    }
   ],
   "source": [
    "print(type(marks))"
   ]
  },
  {
   "cell_type": "markdown",
   "id": "f30cc97d",
   "metadata": {},
   "source": [
    "**1. List Index: each item in list has unique index starting from 0 (right) to n-1 (till left end), so items can be accssed by index no's**"
   ]
  },
  {
   "cell_type": "code",
   "execution_count": 5,
   "id": "165b4443",
   "metadata": {},
   "outputs": [
    {
     "name": "stdout",
     "output_type": "stream",
     "text": [
      "30\n"
     ]
    }
   ],
   "source": [
    "print(marks[2])"
   ]
  },
  {
   "cell_type": "code",
   "execution_count": 6,
   "id": "4fe75565",
   "metadata": {},
   "outputs": [
    {
     "ename": "IndexError",
     "evalue": "list index out of range",
     "output_type": "error",
     "traceback": [
      "\u001b[1;31m---------------------------------------------------------------------------\u001b[0m",
      "\u001b[1;31mIndexError\u001b[0m                                Traceback (most recent call last)",
      "Cell \u001b[1;32mIn [6], line 1\u001b[0m\n\u001b[1;32m----> 1\u001b[0m \u001b[38;5;28mprint\u001b[39m([\u001b[43mmarks\u001b[49m\u001b[43m[\u001b[49m\u001b[38;5;241;43m5\u001b[39;49m\u001b[43m]\u001b[49m])\n",
      "\u001b[1;31mIndexError\u001b[0m: list index out of range"
     ]
    }
   ],
   "source": [
    "print([marks[5]])"
   ]
  },
  {
   "cell_type": "code",
   "execution_count": 7,
   "id": "3dbee06e",
   "metadata": {},
   "outputs": [
    {
     "name": "stdout",
     "output_type": "stream",
     "text": [
      "harry\n"
     ]
    }
   ],
   "source": [
    "marks = [10, 20, 30, 'harry', True]\n",
    "print(marks[3])"
   ]
  },
  {
   "cell_type": "code",
   "execution_count": 8,
   "id": "4e8f201d",
   "metadata": {},
   "outputs": [
    {
     "name": "stdout",
     "output_type": "stream",
     "text": [
      "30\n"
     ]
    }
   ],
   "source": [
    "# negative indexing\n",
    "print(marks[-3])"
   ]
  },
  {
   "cell_type": "code",
   "execution_count": 9,
   "id": "af7a77e5",
   "metadata": {},
   "outputs": [
    {
     "name": "stdout",
     "output_type": "stream",
     "text": [
      "30\n"
     ]
    }
   ],
   "source": [
    "# avoid to use -ve indexing, do this instead, good practice\n",
    "print(marks[len(marks) - 3])"
   ]
  },
  {
   "cell_type": "code",
   "execution_count": 10,
   "id": "4c277ad7",
   "metadata": {},
   "outputs": [
    {
     "name": "stdout",
     "output_type": "stream",
     "text": [
      "yes\n"
     ]
    }
   ],
   "source": [
    "if \"harry\" in marks:\n",
    "    print(\"yes\")\n",
    "else:\n",
    "    print(\"no\")"
   ]
  },
  {
   "cell_type": "code",
   "execution_count": 11,
   "id": "43038c6d",
   "metadata": {},
   "outputs": [
    {
     "name": "stdout",
     "output_type": "stream",
     "text": [
      "no\n"
     ]
    }
   ],
   "source": [
    "if \"100\" in marks:\n",
    "    print(\"yes\")\n",
    "else:\n",
    "    print(\"no\")"
   ]
  },
  {
   "cell_type": "code",
   "execution_count": 12,
   "id": "ef483a14",
   "metadata": {},
   "outputs": [
    {
     "name": "stdout",
     "output_type": "stream",
     "text": [
      "[10, 20, 30, 'harry', True]\n"
     ]
    }
   ],
   "source": [
    "print(marks[:])"
   ]
  },
  {
   "cell_type": "code",
   "execution_count": 13,
   "id": "a5acc2f4",
   "metadata": {},
   "outputs": [
    {
     "name": "stdout",
     "output_type": "stream",
     "text": [
      "[30, 'harry', True]\n"
     ]
    }
   ],
   "source": [
    "print(marks[2:])"
   ]
  },
  {
   "cell_type": "code",
   "execution_count": 14,
   "id": "bc226b01",
   "metadata": {},
   "outputs": [
    {
     "name": "stdout",
     "output_type": "stream",
     "text": [
      "[10, 20, 30]\n"
     ]
    }
   ],
   "source": [
    "print(marks[:3])"
   ]
  },
  {
   "cell_type": "code",
   "execution_count": 15,
   "id": "594107e9",
   "metadata": {},
   "outputs": [
    {
     "name": "stdout",
     "output_type": "stream",
     "text": [
      "[20, 30]\n"
     ]
    }
   ],
   "source": [
    "print(marks[1:3])"
   ]
  },
  {
   "cell_type": "code",
   "execution_count": 16,
   "id": "2c9d9d91",
   "metadata": {},
   "outputs": [
    {
     "name": "stdout",
     "output_type": "stream",
     "text": [
      "[True, 'harry', 30, 20, 10]\n"
     ]
    }
   ],
   "source": [
    "print(marks[: : -1])"
   ]
  },
  {
   "cell_type": "code",
   "execution_count": 17,
   "id": "c673aa0f",
   "metadata": {},
   "outputs": [
    {
     "name": "stdout",
     "output_type": "stream",
     "text": [
      "[True, 30, 10]\n"
     ]
    }
   ],
   "source": [
    "print(marks[: : -2])"
   ]
  },
  {
   "cell_type": "code",
   "execution_count": 18,
   "id": "0ae54d48",
   "metadata": {},
   "outputs": [
    {
     "name": "stdout",
     "output_type": "stream",
     "text": [
      "[10, 30, True]\n"
     ]
    }
   ],
   "source": [
    "print(marks[: : 2])"
   ]
  },
  {
   "cell_type": "code",
   "execution_count": 19,
   "id": "3aa81ec7",
   "metadata": {},
   "outputs": [],
   "source": [
    "mark = [marks * 3]"
   ]
  },
  {
   "cell_type": "code",
   "execution_count": 20,
   "id": "d9e37695",
   "metadata": {},
   "outputs": [
    {
     "name": "stdout",
     "output_type": "stream",
     "text": [
      "[[10, 20, 30, 'harry', True, 10, 20, 30, 'harry', True, 10, 20, 30, 'harry', True]]\n"
     ]
    }
   ],
   "source": [
    "print(mark)"
   ]
  },
  {
   "cell_type": "code",
   "execution_count": 21,
   "id": "0b3897cc",
   "metadata": {},
   "outputs": [
    {
     "name": "stdout",
     "output_type": "stream",
     "text": [
      "[0, 4]\n"
     ]
    }
   ],
   "source": [
    "mark = [ i*i for i in range (4) if i%2 == 0]\n",
    "print(mark)"
   ]
  },
  {
   "cell_type": "markdown",
   "id": "d36d021d",
   "metadata": {},
   "source": [
    "**2. Updating the list**"
   ]
  },
  {
   "cell_type": "code",
   "execution_count": 23,
   "id": "8998d46a",
   "metadata": {},
   "outputs": [
    {
     "name": "stdout",
     "output_type": "stream",
     "text": [
      "[20, 55, 75, 4]\n"
     ]
    }
   ],
   "source": [
    "#mutable nature\n",
    "l[2] = 75\n",
    "print(l)"
   ]
  },
  {
   "cell_type": "code",
   "execution_count": 22,
   "id": "b164f8e0",
   "metadata": {},
   "outputs": [
    {
     "name": "stdout",
     "output_type": "stream",
     "text": [
      "[20, 55, 70, 4]\n"
     ]
    }
   ],
   "source": [
    "#appending - adds at last\n",
    "l = [20, 55, 70]\n",
    "l.append(4)\n",
    "print(l)"
   ]
  },
  {
   "cell_type": "code",
   "execution_count": 25,
   "id": "0939bccb",
   "metadata": {},
   "outputs": [
    {
     "name": "stdout",
     "output_type": "stream",
     "text": [
      "[55, 75, 4, 99, 'aman']\n"
     ]
    }
   ],
   "source": [
    "l.extend((99, 'aman'))\n",
    "print(l)"
   ]
  },
  {
   "cell_type": "code",
   "execution_count": 24,
   "id": "da344d91",
   "metadata": {},
   "outputs": [
    {
     "name": "stdout",
     "output_type": "stream",
     "text": [
      "[55, 75, 4]\n"
     ]
    }
   ],
   "source": [
    "#deleting\n",
    "del l[0:1]\n",
    "#del l[2:3]\n",
    "print (l)"
   ]
  },
  {
   "cell_type": "code",
   "execution_count": 26,
   "id": "1427f4c3",
   "metadata": {},
   "outputs": [],
   "source": [
    "# l2 -> false copy, ;3 -> true copy\n",
    "# lists are reference types, while assigining variable storing address of a list created in memory; changes will reflect in originl\n",
    "\n",
    "l2 = l\n",
    "l3 = list(l2)"
   ]
  },
  {
   "cell_type": "code",
   "execution_count": 27,
   "id": "48d5c449",
   "metadata": {},
   "outputs": [
    {
     "name": "stdout",
     "output_type": "stream",
     "text": [
      "[55, 75, 44, 99, 'aman']\n",
      "[55, 75, 44, 99, 'aman']\n"
     ]
    }
   ],
   "source": [
    "l2[2] = 44\n",
    "print(l)\n",
    "print(l2)"
   ]
  },
  {
   "cell_type": "code",
   "execution_count": 28,
   "id": "9fa0b774",
   "metadata": {},
   "outputs": [
    {
     "name": "stdout",
     "output_type": "stream",
     "text": [
      "[55, 75, 44, 99, 'aman']\n",
      "[55, 75, 32, 99, 'aman']\n"
     ]
    }
   ],
   "source": [
    "# by using 'list' on asssignng a list to var. will create a true copy; means changes will not reflect in original\n",
    "l3[2] = 32\n",
    "print(l)\n",
    "print(l3)"
   ]
  },
  {
   "cell_type": "code",
   "execution_count": 29,
   "id": "0c875152",
   "metadata": {},
   "outputs": [
    {
     "data": {
      "text/plain": [
       "2"
      ]
     },
     "execution_count": 29,
     "metadata": {},
     "output_type": "execute_result"
    }
   ],
   "source": [
    "l.index(44)"
   ]
  },
  {
   "cell_type": "code",
   "execution_count": 30,
   "id": "5a0a63e0",
   "metadata": {},
   "outputs": [
    {
     "name": "stdout",
     "output_type": "stream",
     "text": [
      "[55, 75, 44, 99, 'aman', 20, 67, 'Shivam']\n"
     ]
    }
   ],
   "source": [
    "l.extend((20, 67, \"Shivam\"))\n",
    "print(l)"
   ]
  },
  {
   "cell_type": "code",
   "execution_count": 31,
   "id": "6e40b94b",
   "metadata": {},
   "outputs": [
    {
     "name": "stdout",
     "output_type": "stream",
     "text": [
      "[55, 75, 44, 100, 99, 'aman', 20, 67, 'Shivam']\n"
     ]
    }
   ],
   "source": [
    "l.insert(3, 100)\n",
    "print(l)"
   ]
  },
  {
   "cell_type": "code",
   "execution_count": 32,
   "id": "a80d0567",
   "metadata": {},
   "outputs": [
    {
     "name": "stdout",
     "output_type": "stream",
     "text": [
      "[55, 75, 44, 100, 99, 'aman', 20, 67]\n"
     ]
    }
   ],
   "source": [
    "l.pop()\n",
    "print(l)"
   ]
  },
  {
   "cell_type": "code",
   "execution_count": null,
   "id": "a1025c29",
   "metadata": {},
   "outputs": [],
   "source": [
    "elm = l.pop(8)\n",
    "print(elm)"
   ]
  },
  {
   "cell_type": "code",
   "execution_count": 35,
   "id": "f61278c1",
   "metadata": {},
   "outputs": [
    {
     "name": "stdout",
     "output_type": "stream",
     "text": [
      "[55, 75, 44, 100, 99, 'aman', 20, 67]\n"
     ]
    }
   ],
   "source": [
    "print(l)"
   ]
  },
  {
   "cell_type": "code",
   "execution_count": 36,
   "id": "4a610237",
   "metadata": {},
   "outputs": [
    {
     "name": "stdout",
     "output_type": "stream",
     "text": [
      "[55, 75, 44, 100, 99, 'aman', 67]\n"
     ]
    }
   ],
   "source": [
    "#removes first occurence\n",
    "l.remove(20)\n",
    "print(l)"
   ]
  },
  {
   "cell_type": "code",
   "execution_count": 37,
   "id": "1e99a60d",
   "metadata": {},
   "outputs": [
    {
     "data": {
      "text/plain": [
       "1"
      ]
     },
     "execution_count": 37,
     "metadata": {},
     "output_type": "execute_result"
    }
   ],
   "source": [
    "l.count(44)"
   ]
  },
  {
   "cell_type": "code",
   "execution_count": 38,
   "id": "fb2d059d",
   "metadata": {},
   "outputs": [
    {
     "name": "stdout",
     "output_type": "stream",
     "text": [
      "[67, 'aman', 99, 100, 44, 75, 55]\n"
     ]
    }
   ],
   "source": [
    "l.reverse()\n",
    "print(l)"
   ]
  },
  {
   "cell_type": "code",
   "execution_count": 39,
   "id": "0d753e62",
   "metadata": {},
   "outputs": [
    {
     "name": "stdout",
     "output_type": "stream",
     "text": [
      "[3, 12, 55, 55, 77, 89]\n"
     ]
    }
   ],
   "source": [
    "# in sorting, value must be of same type, else error\n",
    "mark = [55, 77, 12, 3, 89,  55]\n",
    "mark.sort()\n",
    "print(mark)"
   ]
  },
  {
   "cell_type": "code",
   "execution_count": 40,
   "id": "57879a73",
   "metadata": {},
   "outputs": [
    {
     "name": "stdout",
     "output_type": "stream",
     "text": [
      "[3, 12, 55, 55, 77, 89, 10, 20, 30, 'harry', True]\n"
     ]
    }
   ],
   "source": [
    "#concatenation\n",
    "print(mark + marks)"
   ]
  },
  {
   "cell_type": "code",
   "execution_count": 41,
   "id": "da13f0f7",
   "metadata": {},
   "outputs": [
    {
     "name": "stdout",
     "output_type": "stream",
     "text": [
      "[10, 20, 30]\n",
      "[10, 20, 30]\n"
     ]
    }
   ],
   "source": [
    "# we can also craete a copy by 'copy' keyword\n",
    "l4= [10, 20, 30]\n",
    "l5 = l4.copy()\n",
    "print(l4)\n",
    "print(l5)"
   ]
  },
  {
   "cell_type": "code",
   "execution_count": 42,
   "id": "d7831588",
   "metadata": {},
   "outputs": [
    {
     "name": "stdout",
     "output_type": "stream",
     "text": [
      "[10, 20, 30]\n",
      "[10, 20, 30, 100]\n"
     ]
    }
   ],
   "source": [
    "l5.append(100)\n",
    "print(l4)\n",
    "print(l5)"
   ]
  },
  {
   "cell_type": "code",
   "execution_count": 43,
   "id": "3f5315b8",
   "metadata": {},
   "outputs": [],
   "source": [
    "#creating empty list\n",
    "l6 = list()"
   ]
  },
  {
   "cell_type": "code",
   "execution_count": 44,
   "id": "0914f807",
   "metadata": {},
   "outputs": [
    {
     "name": "stdout",
     "output_type": "stream",
     "text": [
      "[25, 25, 30]\n"
     ]
    }
   ],
   "source": [
    "l6.append(25)\n",
    "\n",
    "l6.append(25)\n",
    "\n",
    "l6.append(30)\n",
    "\n",
    "print(l6)"
   ]
  },
  {
   "cell_type": "code",
   "execution_count": 10,
   "id": "a47977c3",
   "metadata": {},
   "outputs": [],
   "source": [
    "#craeting list from string and tuple\n",
    "name1 = tuple(\"harry\")\n",
    "l7 = list(\"harry\")\n",
    "l8 = list(name1)"
   ]
  },
  {
   "cell_type": "code",
   "execution_count": 11,
   "id": "95698ec5",
   "metadata": {},
   "outputs": [
    {
     "data": {
      "text/plain": [
       "['h', 'a', 'r', 'r', 'y']"
      ]
     },
     "execution_count": 11,
     "metadata": {},
     "output_type": "execute_result"
    }
   ],
   "source": [
    "l7"
   ]
  },
  {
   "cell_type": "code",
   "execution_count": 12,
   "id": "29eb358d",
   "metadata": {},
   "outputs": [
    {
     "data": {
      "text/plain": [
       "['h', 'a', 'r', 'r', 'y']"
      ]
     },
     "execution_count": 12,
     "metadata": {},
     "output_type": "execute_result"
    }
   ],
   "source": [
    "l8"
   ]
  },
  {
   "cell_type": "code",
   "execution_count": null,
   "id": "925df58a",
   "metadata": {},
   "outputs": [],
   "source": []
  },
  {
   "cell_type": "markdown",
   "id": "841a10b9",
   "metadata": {},
   "source": [
    "**Difference between clear and del**\n",
    "\n",
    "**clear - empties the list**\n",
    "\n",
    "**delete - deletes the list from memory**"
   ]
  },
  {
   "cell_type": "code",
   "execution_count": 13,
   "id": "8f2cdf2e",
   "metadata": {},
   "outputs": [
    {
     "name": "stdout",
     "output_type": "stream",
     "text": [
      "['h', 'a', 'r', 'r', 'y']\n",
      "['h', 'a', 'r', 'r', 'y']\n"
     ]
    }
   ],
   "source": [
    "l8 = l7.copy()\n",
    "print(l7)\n",
    "print(l8)"
   ]
  },
  {
   "cell_type": "code",
   "execution_count": 16,
   "id": "aded8238",
   "metadata": {},
   "outputs": [
    {
     "name": "stdout",
     "output_type": "stream",
     "text": [
      "[]\n"
     ]
    }
   ],
   "source": [
    "l7.clear()\n",
    "print(l7)"
   ]
  },
  {
   "cell_type": "code",
   "execution_count": 17,
   "id": "08448e37",
   "metadata": {},
   "outputs": [
    {
     "ename": "NameError",
     "evalue": "name 'l8' is not defined",
     "output_type": "error",
     "traceback": [
      "\u001b[1;31m---------------------------------------------------------------------------\u001b[0m",
      "\u001b[1;31mNameError\u001b[0m                                 Traceback (most recent call last)",
      "Cell \u001b[1;32mIn [17], line 1\u001b[0m\n\u001b[1;32m----> 1\u001b[0m \u001b[38;5;28;01mdel\u001b[39;00m \u001b[43ml8\u001b[49m\n\u001b[0;32m      2\u001b[0m \u001b[38;5;28mprint\u001b[39m(l8)\n",
      "\u001b[1;31mNameError\u001b[0m: name 'l8' is not defined"
     ]
    }
   ],
   "source": [
    "del l8\n",
    "print(l8)"
   ]
  },
  {
   "cell_type": "code",
   "execution_count": 3,
   "id": "f5a410a1",
   "metadata": {},
   "outputs": [
    {
     "name": "stdout",
     "output_type": "stream",
     "text": [
      "[2, 4, 6, 8]\n"
     ]
    }
   ],
   "source": [
    "l8 = [2, 4, 6, 8]\n",
    "print(l8);"
   ]
  },
  {
   "cell_type": "code",
   "execution_count": 4,
   "id": "1df7767f",
   "metadata": {},
   "outputs": [
    {
     "name": "stdout",
     "output_type": "stream",
     "text": [
      "[2, 4, 6, 8]\n",
      "[2, 4, 6, 8]\n"
     ]
    }
   ],
   "source": [
    "l9 = l8\n",
    "print(l8)\n",
    "print(l9)"
   ]
  },
  {
   "cell_type": "code",
   "execution_count": 5,
   "id": "379fa9a6",
   "metadata": {},
   "outputs": [
    {
     "name": "stdout",
     "output_type": "stream",
     "text": [
      "[2, 4, 5, 8]\n",
      "[2, 4, 5, 8]\n"
     ]
    }
   ],
   "source": [
    "l8[2] = 5\n",
    "print(l8)\n",
    "print(l9)"
   ]
  },
  {
   "cell_type": "code",
   "execution_count": 6,
   "id": "06f88ca3",
   "metadata": {},
   "outputs": [
    {
     "name": "stdout",
     "output_type": "stream",
     "text": [
      "[2, 4, 7, 8]\n",
      "[2, 4, 5, 8]\n"
     ]
    }
   ],
   "source": [
    "l9 = l8.copy()\n",
    "l8[2] = 7\n",
    "print(l8)\n",
    "print(l9)"
   ]
  },
  {
   "cell_type": "code",
   "execution_count": null,
   "id": "72331134",
   "metadata": {},
   "outputs": [],
   "source": []
  }
 ],
 "metadata": {
  "kernelspec": {
   "display_name": "Python 3 (ipykernel)",
   "language": "python",
   "name": "python3"
  },
  "language_info": {
   "codemirror_mode": {
    "name": "ipython",
    "version": 3
   },
   "file_extension": ".py",
   "mimetype": "text/x-python",
   "name": "python",
   "nbconvert_exporter": "python",
   "pygments_lexer": "ipython3",
   "version": "3.11.3"
  }
 },
 "nbformat": 4,
 "nbformat_minor": 5
}
