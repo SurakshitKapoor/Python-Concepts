{
 "cells": [
  {
   "cell_type": "markdown",
   "id": "290971c3",
   "metadata": {},
   "source": [
    "# Map, filter and Reduce"
   ]
  },
  {
   "cell_type": "markdown",
   "id": "3828898f",
   "metadata": {},
   "source": [
    "**All these 3 are the higher order func's - the func's which takes another func as its argument.**\n",
    "\n",
    "**All these 3 func are apply on a sequemce of elements and in return gives a sequence of elements**"
   ]
  },
  {
   "cell_type": "markdown",
   "id": "4e6e8b17",
   "metadata": {},
   "source": [
    "**Map : it is used to transform the data, i.e. makes some changes on the sequence and store it in the new variable**"
   ]
  },
  {
   "cell_type": "code",
   "execution_count": 10,
   "id": "a66fed59",
   "metadata": {},
   "outputs": [
    {
     "name": "stdout",
     "output_type": "stream",
     "text": [
      "8\n",
      "64\n",
      "512\n",
      "1000\n"
     ]
    }
   ],
   "source": [
    "def cube(x):\n",
    "    return x*x*x;\n",
    "l = [2,4,8,10]\n",
    "for i in l:\n",
    "    print(cube(i));\n",
    "    "
   ]
  },
  {
   "cell_type": "code",
   "execution_count": 13,
   "id": "12069a27",
   "metadata": {},
   "outputs": [],
   "source": [
    "def cube(x):\n",
    "    return x*x*x;\n",
    "l = [1,2,3,4,5]\n",
    "new1 = map(cube, l)\n",
    "# cube is the function, l is the iterable"
   ]
  },
  {
   "cell_type": "code",
   "execution_count": 15,
   "id": "a0259834",
   "metadata": {},
   "outputs": [
    {
     "data": {
      "text/plain": [
       "<map at 0x1e615145e10>"
      ]
     },
     "execution_count": 15,
     "metadata": {},
     "output_type": "execute_result"
    }
   ],
   "source": [
    "# The map func return the object, so convert the returned ans into string\n",
    "new1"
   ]
  },
  {
   "cell_type": "code",
   "execution_count": 20,
   "id": "990fdb9a",
   "metadata": {},
   "outputs": [
    {
     "name": "stdout",
     "output_type": "stream",
     "text": [
      "[]\n"
     ]
    }
   ],
   "source": [
    "print(list(new1))"
   ]
  },
  {
   "cell_type": "code",
   "execution_count": null,
   "id": "8b9676f5",
   "metadata": {},
   "outputs": [],
   "source": []
  },
  {
   "cell_type": "markdown",
   "id": "f526646a",
   "metadata": {},
   "source": [
    "**2. Filter: it is used to filter the items. the items which gets 'qualified' will be kept only**"
   ]
  },
  {
   "cell_type": "code",
   "execution_count": 17,
   "id": "a68764b5",
   "metadata": {},
   "outputs": [],
   "source": [
    "def show(x):\n",
    "    return x>3;\n",
    "l = [1,2,3,4,5]\n",
    "new1 = filter(show, l)"
   ]
  },
  {
   "cell_type": "code",
   "execution_count": 18,
   "id": "03fdbc03",
   "metadata": {},
   "outputs": [
    {
     "name": "stdout",
     "output_type": "stream",
     "text": [
      "[4, 5]\n"
     ]
    }
   ],
   "source": [
    "print(list(new1))"
   ]
  },
  {
   "cell_type": "code",
   "execution_count": null,
   "id": "de26b1ea",
   "metadata": {},
   "outputs": [],
   "source": []
  },
  {
   "cell_type": "markdown",
   "id": "8857a8b9",
   "metadata": {},
   "source": [
    "**why we need cube or show func's - we can use lambda func here, for better quality**"
   ]
  },
  {
   "cell_type": "code",
   "execution_count": 21,
   "id": "d1b20bbf",
   "metadata": {},
   "outputs": [
    {
     "name": "stdout",
     "output_type": "stream",
     "text": [
      "[4, 5]\n"
     ]
    }
   ],
   "source": [
    "\n",
    "l = [1,2,3,4,5]\n",
    "new1 = filter(lambda x: x>3, l)\n",
    "print(list(new1))"
   ]
  },
  {
   "cell_type": "code",
   "execution_count": null,
   "id": "cbf6bd0a",
   "metadata": {},
   "outputs": [],
   "source": []
  },
  {
   "cell_type": "markdown",
   "id": "318a7814",
   "metadata": {},
   "source": [
    "**3. Reduce() - it is used to reduce the sequnence to a single or minimal value by performing internal calc's**"
   ]
  },
  {
   "cell_type": "code",
   "execution_count": 22,
   "id": "40019e69",
   "metadata": {},
   "outputs": [],
   "source": [
    "from functools import reduce"
   ]
  },
  {
   "cell_type": "code",
   "execution_count": 25,
   "id": "84a0229f",
   "metadata": {},
   "outputs": [
    {
     "name": "stdout",
     "output_type": "stream",
     "text": [
      "15\n"
     ]
    }
   ],
   "source": [
    "num = [1,2,3,4,5]\n",
    "sum = reduce(lambda x,y: x+y , num)\n",
    "print(sum)"
   ]
  },
  {
   "cell_type": "code",
   "execution_count": null,
   "id": "a171745c",
   "metadata": {},
   "outputs": [],
   "source": []
  }
 ],
 "metadata": {
  "kernelspec": {
   "display_name": "Python 3 (ipykernel)",
   "language": "python",
   "name": "python3"
  },
  "language_info": {
   "codemirror_mode": {
    "name": "ipython",
    "version": 3
   },
   "file_extension": ".py",
   "mimetype": "text/x-python",
   "name": "python",
   "nbconvert_exporter": "python",
   "pygments_lexer": "ipython3",
   "version": "3.11.3"
  }
 },
 "nbformat": 4,
 "nbformat_minor": 5
}
