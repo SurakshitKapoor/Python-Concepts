{
 "cells": [
  {
   "cell_type": "markdown",
   "id": "91e5e50e",
   "metadata": {},
   "source": [
    "# OOP in Python"
   ]
  },
  {
   "cell_type": "markdown",
   "id": "f051dcdd",
   "metadata": {},
   "source": [
    "**In python, there are two ways to write a code:**\n",
    "    \n",
    "    1. Procedural programming\n",
    "    \n",
    "    2. Object Oriented Programming (OOP)\n",
    "\n",
    "**In Procuderal Prog, we're creating the functions and variables and using them.**\n",
    "\n",
    "Let say, agar many persons hain, unka name, addr, phone num, id num hai - toh hum kya sab persons ke liye naye variable lenge? In procedural prog, -> yes, we have to do work manually, and this will consume the ram and makes the program complex 9reduces its readibility). **\n",
    "\n",
    "**so, oop is the concept to create real world objects, and map the objects from their class. why? bas isliye ki hum cheezo ko smjh paaye acche se!**\n",
    "\n",
    "**But in oop, we're having classes and objects concepts - to do the same above task / real world task in proper way.**\n",
    "\n",
    "**A class is a blueprint / template function to create objects. class has properties and functions (methods) which defines the object.**\n",
    "\n",
    "**A object is the real-world entity. It is created by class func.**\n",
    "\n",
    "**ex: a railway form is like the class and filled forms by persons is the objects**"
   ]
  },
  {
   "cell_type": "markdown",
   "id": "ede5cce7",
   "metadata": {},
   "source": [
    "Imp concept in oop\n",
    "\n",
    "**1. Encapsulation: here the properties and methods are encapusulated (protected from outsiders), so that any outsiders persons cannot harm them. The object prop and methods can be accessed by only its calls methods**"
   ]
  },
  {
   "cell_type": "markdown",
   "id": "12ffb3a7",
   "metadata": {},
   "source": [
    "**2. Inheritance: when the class inherits its props and ethods from its parent class. The child (inherited class) can also add it own prop and methods in it.**"
   ]
  },
  {
   "cell_type": "markdown",
   "id": "baffe627",
   "metadata": {},
   "source": [
    "**3. Polymorphism:**"
   ]
  },
  {
   "cell_type": "code",
   "execution_count": 10,
   "id": "d448482b",
   "metadata": {},
   "outputs": [],
   "source": [
    "class Persons:\n",
    "    name = \"Shubham\"\n",
    "    occupation = \"Finance Manager\"\n",
    "    age = 21\n",
    "    \n",
    "    def info(self):\n",
    "        print(f\"{self.name} is the {self.occupation}\");\n",
    "        \n"
   ]
  },
  {
   "cell_type": "code",
   "execution_count": 11,
   "id": "57e4b2e8",
   "metadata": {},
   "outputs": [],
   "source": [
    "a = Persons()"
   ]
  },
  {
   "cell_type": "code",
   "execution_count": 12,
   "id": "ce760c55",
   "metadata": {},
   "outputs": [
    {
     "name": "stdout",
     "output_type": "stream",
     "text": [
      "Shubham\n"
     ]
    }
   ],
   "source": [
    "print(a.name)"
   ]
  },
  {
   "cell_type": "code",
   "execution_count": 13,
   "id": "d1c91090",
   "metadata": {},
   "outputs": [
    {
     "name": "stdout",
     "output_type": "stream",
     "text": [
      "Aman is the Finance Manager\n"
     ]
    }
   ],
   "source": [
    "a.name = \"Aman\"\n",
    "a.info()"
   ]
  },
  {
   "cell_type": "code",
   "execution_count": 14,
   "id": "a2f9dc72",
   "metadata": {},
   "outputs": [
    {
     "name": "stdout",
     "output_type": "stream",
     "text": [
      "Nikita is the software engg\n"
     ]
    }
   ],
   "source": [
    "b = Persons()\n",
    "b.name = \"Nikita\"\n",
    "b.occupation = \"software engg\"\n",
    "b.info()"
   ]
  },
  {
   "cell_type": "markdown",
   "id": "fac02056",
   "metadata": {},
   "source": [
    "**Constructors**\n",
    "\n",
    "**Constructors are the special func's of the class which called automatically when the object is created of that class.**\n",
    "\n",
    "**the constructor func is used to initialize or assign the values to the data members of the class. It returns nothing.**\n",
    "\n",
    "**Jab bhi hum objects banate hain, hum kuch argz pass kar skte hain for initializing the data members. but constructors se hum, default type ke initializations kar skte hain. let, ek user ne object banaya par data members initialize nahi kiye. toh, constructor fucn would help there to set the values of object props.**"
   ]
  },
  {
   "cell_type": "markdown",
   "id": "d8318b53",
   "metadata": {},
   "source": [
    "**Two types of constructors -**\n",
    "1. Parameterised Constructor - taking the parameters\n",
    "2. Default constructor - does not take any parameter except self (in constructor method)."
   ]
  },
  {
   "cell_type": "code",
   "execution_count": 26,
   "id": "45ec2c88",
   "metadata": {},
   "outputs": [],
   "source": [
    "\n",
    "class Persons:\n",
    "  \n",
    "    #default constructor:\n",
    "    def __init__(self):\n",
    "       print(\"Hello i am a person\");\n",
    "        \n",
    "    name = \"Shubham\"\n",
    "    occupation = \"Finance Manager\"\n",
    "    age = 21\n",
    "    \n",
    "    def info(self):\n",
    "        print(f\"{self.name} is the {self.occupation}\");\n",
    "        \n"
   ]
  },
  {
   "cell_type": "code",
   "execution_count": 27,
   "id": "c24fe431",
   "metadata": {},
   "outputs": [
    {
     "name": "stdout",
     "output_type": "stream",
     "text": [
      "Hello i am a person\n"
     ]
    }
   ],
   "source": [
    "# const invoked immeditaley when we created an object of that class\n",
    "a = Persons()"
   ]
  },
  {
   "cell_type": "code",
   "execution_count": 28,
   "id": "eeeece36",
   "metadata": {},
   "outputs": [
    {
     "name": "stdout",
     "output_type": "stream",
     "text": [
      "Shubham is the Finance Manager\n"
     ]
    }
   ],
   "source": [
    "a.info()"
   ]
  },
  {
   "cell_type": "code",
   "execution_count": 33,
   "id": "b17c6ad3",
   "metadata": {},
   "outputs": [],
   "source": [
    "\n",
    "class Persons:\n",
    "    \n",
    "    #paramatreised construtor:\n",
    "    def __init__(self, name, occ):\n",
    "        self.name = name\n",
    "        self.occupation = occ\n",
    "        \n",
    "    name = \"Shubham\"\n",
    "    occupation = \"Finance Manager\"\n",
    "    age = 21\n",
    "    \n",
    "    def info(self):\n",
    "        print(f\"{self.name} is the {self.occupation}\");\n",
    "        \n"
   ]
  },
  {
   "cell_type": "code",
   "execution_count": 34,
   "id": "10413584",
   "metadata": {},
   "outputs": [],
   "source": [
    "b = Persons(\"Dhruv\", \"HR\")"
   ]
  },
  {
   "cell_type": "code",
   "execution_count": 35,
   "id": "25b5a696",
   "metadata": {},
   "outputs": [
    {
     "name": "stdout",
     "output_type": "stream",
     "text": [
      "Dhruv is the HR\n"
     ]
    }
   ],
   "source": [
    "b.info()"
   ]
  },
  {
   "cell_type": "code",
   "execution_count": null,
   "id": "8d01bad7",
   "metadata": {},
   "outputs": [],
   "source": []
  },
  {
   "cell_type": "code",
   "execution_count": 1,
   "id": "2ae051dc",
   "metadata": {},
   "outputs": [],
   "source": [
    "class Persons:\n",
    "    \n",
    "    #paramatreised construtor:\n",
    "    def __init__(self, name, occ):\n",
    "        self.name = name\n",
    "        self.occupation = occ\n",
    "    \n",
    "    def info(self):\n",
    "        print(f\"{self.name} is the {self.occupation}\");\n",
    "        \n",
    "class Employee(Persons):\n",
    "    def __init__(self, lang):\n",
    "        self.lang = lang\n",
    "    \n",
    "    def showLang(self):\n",
    "        print(f\"The language is {self.lang}\")\n",
    "\n",
    "p1 = Persons(\"Narender\", \"businessMan\")\n",
    "e1 = Employee(\"C++\")"
   ]
  },
  {
   "cell_type": "code",
   "execution_count": 55,
   "id": "e247b441",
   "metadata": {},
   "outputs": [
    {
     "name": "stdout",
     "output_type": "stream",
     "text": [
      "Narender\n",
      "Narender is the businessMan\n",
      "None\n"
     ]
    }
   ],
   "source": [
    "print(p1.name)\n",
    "print(p1.info())"
   ]
  },
  {
   "cell_type": "code",
   "execution_count": 56,
   "id": "44e8eae5",
   "metadata": {},
   "outputs": [
    {
     "name": "stdout",
     "output_type": "stream",
     "text": [
      "The language is C++\n",
      "None\n"
     ]
    }
   ],
   "source": [
    "print(e1.showLang())"
   ]
  },
  {
   "cell_type": "code",
   "execution_count": 61,
   "id": "99c8c801",
   "metadata": {},
   "outputs": [],
   "source": [
    "#https://www.scaler.com/topics/python/inheritance-in-python/"
   ]
  },
  {
   "cell_type": "code",
   "execution_count": 62,
   "id": "f7b1f5c1",
   "metadata": {},
   "outputs": [
    {
     "name": "stdout",
     "output_type": "stream",
     "text": [
      "Hello Parent\n",
      "Hello Child\n"
     ]
    }
   ],
   "source": [
    "# python 3 syntax\n",
    "# single inheritance example\n",
    " \n",
    "class parent:                  # parent class\n",
    "    def func1(self):\n",
    "        print(\"Hello Parent\")\n",
    " \n",
    "class child(parent):    \n",
    "  # child class\n",
    "    def func2(self):                 # we include the parent class\n",
    "        print(\"Hello Child\")   # as an argument in the child\n",
    "                               # class\n",
    " \n",
    "# Driver Code\n",
    "test = child()                 # object created\n",
    "test.func1()                   # parent method called via child object\n",
    "test.func2()                   # child method called\n"
   ]
  },
  {
   "cell_type": "code",
   "execution_count": 63,
   "id": "4616270c",
   "metadata": {},
   "outputs": [
    {
     "name": "stdout",
     "output_type": "stream",
     "text": [
      "Hello, my name is John and I am 30 years old.\n",
      "Hello, my name is Mary and I am 18 years old.\n",
      "I am a student in grade 12.\n"
     ]
    }
   ],
   "source": [
    "class Person:\n",
    "    def __init__(self, name, age):  # Constructor to initialize name and age attributes\n",
    "        self.name = name\n",
    "        self.age = age\n",
    "\n",
    "    def say_hello(self):  # Method to greet and introduce the person\n",
    "        print(f\"Hello, my name is {self.name} and I am {self.age} years old.\")\n",
    "\n",
    "class Student(Person):  # Student class inherits from Person class\n",
    "    def __init__(self, name, age, grade):  # Constructor to initialize name, age, and grade attributes\n",
    "        super().__init__(name, age)  # Call the parent class constructor to initialize name and age\n",
    "        self.grade = grade  # Additional attribute specific to the Student class\n",
    "\n",
    "    def say_hello(self):  # Override the say_hello method of the parent class\n",
    "        super().say_hello()  # Call the parent class say_hello method to introduce the student as a person\n",
    "        print(f\"I am a student in grade {self.grade}.\")  # Print additional information specific to the Student class\n",
    "\n",
    "# Creating an instance of the base class\n",
    "person = Person(\"John\", 30)\n",
    "person.say_hello()\n",
    "\n",
    "# Creating an instance of the derived class\n",
    "student = Student(\"Mary\", 18, 12)\n",
    "student.say_hello() "
   ]
  },
  {
   "cell_type": "code",
   "execution_count": null,
   "id": "e8f110da",
   "metadata": {},
   "outputs": [],
   "source": []
  }
 ],
 "metadata": {
  "kernelspec": {
   "display_name": "Python 3 (ipykernel)",
   "language": "python",
   "name": "python3"
  },
  "language_info": {
   "codemirror_mode": {
    "name": "ipython",
    "version": 3
   },
   "file_extension": ".py",
   "mimetype": "text/x-python",
   "name": "python",
   "nbconvert_exporter": "python",
   "pygments_lexer": "ipython3",
   "version": "3.11.3"
  }
 },
 "nbformat": 4,
 "nbformat_minor": 5
}
