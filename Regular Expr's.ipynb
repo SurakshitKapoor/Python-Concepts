{
 "cells": [
  {
   "cell_type": "markdown",
   "id": "d172f401",
   "metadata": {},
   "source": [
    "# Regular Expressions:\n"
   ]
  },
  {
   "cell_type": "markdown",
   "id": "336831b3",
   "metadata": {},
   "source": [
    "**Or, 'regex' = is powerful tool to work with strings and text data.**\n",
    "\n",
    "**by 'regex' -  it's become easy to 'match & manipulate' strings based on patterns, making it easy to perform complex string operations with just few lines of codes**\n"
   ]
  },
  {
   "cell_type": "code",
   "execution_count": null,
   "id": "83cc0098",
   "metadata": {},
   "outputs": [],
   "source": [
    "https://regexr.com/\n",
    "    \n",
    "https://www.ibm.com/docs/en/guardium/10.5?topic=discover-regular-expressions\n",
    "    \n",
    "https://docs.python.org/3/library/re.html"
   ]
  },
  {
   "cell_type": "code",
   "execution_count": null,
   "id": "1ab26712",
   "metadata": {},
   "outputs": [],
   "source": []
  },
  {
   "cell_type": "code",
   "execution_count": 3,
   "id": "9d689059",
   "metadata": {},
   "outputs": [],
   "source": [
    "import re"
   ]
  },
  {
   "cell_type": "code",
   "execution_count": 5,
   "id": "cb390c46",
   "metadata": {},
   "outputs": [
    {
     "name": "stdout",
     "output_type": "stream",
     "text": [
      "<re.Match object; span=(44, 48), match='ISRO'>\n"
     ]
    }
   ],
   "source": [
    "# this only tells that is your pattern matches or not in the text\n",
    "pattern = \"ISRO\"\n",
    "text = \" The Indian Space Research Organisation[a] (ISRO; /ˈɪsroʊ/) is the national space agency of India, headquartered in Bangalore, Karnataka. Operating under the Department of Space (DOS), ISRO is India's primary agency for performing tasks related to space-based applications, space exploration and the development of related technologies.[5] It is one of the six government space agencies in the world which possess full launch capabilities,[b] can deploy cryogenic engines, launch extraterrestrial missions and operate large fleets of artificial satellites.[6][7]\"\n",
    "\n",
    "match = re.search(pattern, text)\n",
    "print(match)"
   ]
  },
  {
   "cell_type": "code",
   "execution_count": 14,
   "id": "61a9c918",
   "metadata": {},
   "outputs": [
    {
     "name": "stdout",
     "output_type": "stream",
     "text": [
      "[<re.Match object; span=(44, 48), match='ISRO'>, <re.Match object; span=(77, 81), match='ISRO'>, <re.Match object; span=(165, 169), match='ISRO'>, <re.Match object; span=(197, 201), match='ISRO'>]\n"
     ]
    }
   ],
   "source": [
    "# here, we can find at what iteration / line our pattern is present\n",
    "pattern = \"ISRO\"\n",
    "text = \" The Indian Space Research Organisation[a] (ISRO; /ˈɪsroʊ/) is the national cISRO space agency of India, headquartered in Bangalore, Karnataka. Operating under the KISRO Department of Space (DOS), ISRO is India's primary agency for performing tasks related to space-based applications, space exploration and the development of related technologies.[5] It is one of the six government space agencies in the world which possess full launch capabilities,[b] can deploy cryogenic engines, launch extraterrestrial missions and operate large fleets of artificial satellites.[6][7]\"\n",
    "\n",
    "match = re.finditer(pattern, text)\n",
    "print(list(match))"
   ]
  },
  {
   "cell_type": "code",
   "execution_count": 20,
   "id": "d7dc9d86",
   "metadata": {},
   "outputs": [
    {
     "name": "stdout",
     "output_type": "stream",
     "text": [
      "[<re.Match object; span=(76, 81), match='cISRO'>, <re.Match object; span=(215, 220), match='sISRO'>]\n"
     ]
    }
   ],
   "source": [
    "pattern = r\"[a-z]ISRO\"\n",
    "text = \" The Indian Space Research Organisation[a] (ISRO; /ˈɪsroʊ/) is the national cISRO space agency of India, headquartered in Bangalore, Karnataka. Operating under the KISRO Department of Space (DOS), ISRO is India's fisISRO primary agency for performing tasks related to space-based applications, space exploration and the development of related technologies.[5] It is one of the six government space agencies in the world which possess full launch capabilities,[b] can deploy cryogenic engines, launch extraterrestrial missions and operate large fleets of artificial satellites.[6][7]\"\n",
    "\n",
    "match = re.finditer(pattern, text)\n",
    "print(list(match))"
   ]
  },
  {
   "cell_type": "markdown",
   "id": "8a9776d4",
   "metadata": {},
   "source": [
    "**there are many patterns we can create and look into a string, refer to doc to try many other patterns**"
   ]
  },
  {
   "cell_type": "code",
   "execution_count": 26,
   "id": "efdd7b00",
   "metadata": {},
   "outputs": [
    {
     "name": "stdout",
     "output_type": "stream",
     "text": [
      "[<re.Match object; span=(44, 48), match='ISRO'>, <re.Match object; span=(77, 81), match='ISRO'>, <re.Match object; span=(165, 169), match='ISRO'>, <re.Match object; span=(197, 201), match='ISRO'>, <re.Match object; span=(216, 220), match='ISRO'>]\n"
     ]
    }
   ],
   "source": [
    "pattern = r\"[A-Z]..()O\"\n",
    "text = \" The Indian Space Research Organisation[a] (ISRO; /ˈɪsroʊ/) is the national cISRO space agency of India, headquartered in Bangalore, Karnataka. Operating under the KISRO Department of Space (DOS), ISRO is India's fisISRO primary agency for performing tasks related to space-based applications, space exploration and the development of related technologies.[5] It is one of the six government space agencies in the world which possess full launch capabilities,[b] can deploy cryogenic engines, launch extraterrestrial missions and operate large fleets of artificial satellites.[6][7]\"\n",
    "\n",
    "match = re.finditer(pattern, text)\n",
    "print(list(match))"
   ]
  },
  {
   "cell_type": "code",
   "execution_count": null,
   "id": "57702de4",
   "metadata": {},
   "outputs": [],
   "source": []
  }
 ],
 "metadata": {
  "kernelspec": {
   "display_name": "Python 3 (ipykernel)",
   "language": "python",
   "name": "python3"
  },
  "language_info": {
   "codemirror_mode": {
    "name": "ipython",
    "version": 3
   },
   "file_extension": ".py",
   "mimetype": "text/x-python",
   "name": "python",
   "nbconvert_exporter": "python",
   "pygments_lexer": "ipython3",
   "version": "3.11.3"
  }
 },
 "nbformat": 4,
 "nbformat_minor": 5
}
