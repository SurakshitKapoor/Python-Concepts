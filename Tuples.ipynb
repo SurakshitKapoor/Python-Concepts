{
 "cells": [
  {
   "cell_type": "markdown",
   "id": "ff8c47d0",
   "metadata": {},
   "source": [
    "# Tuples"
   ]
  },
  {
   "cell_type": "markdown",
   "id": "afe54373",
   "metadata": {},
   "source": [
    "**Very similar to lists**\n",
    "\n",
    "**1. Tuples are ordered collection of data items.**\n",
    "\n",
    "**2. They can store multiple items in a single variable**\n",
    "\n",
    "**3. Tuples items are seperated by comma and enclosed within round brackets - ()**\n",
    "\n",
    "**4. Tuples are unchangeable. Immutable - can't alter its 'values or length' once after creation**"
   ]
  },
  {
   "cell_type": "code",
   "execution_count": 2,
   "id": "cea5a6d8",
   "metadata": {},
   "outputs": [
    {
     "name": "stdout",
     "output_type": "stream",
     "text": [
      "(2, 6, 9)\n",
      "<class 'tuple'>\n"
     ]
    }
   ],
   "source": [
    "tup = (2, 6, 9)\n",
    "print(tup)\n",
    "print(type(tup))"
   ]
  },
  {
   "cell_type": "code",
   "execution_count": 22,
   "id": "f78e8c4c",
   "metadata": {},
   "outputs": [
    {
     "name": "stdout",
     "output_type": "stream",
     "text": [
      "9\n"
     ]
    }
   ],
   "source": [
    "#indexing is same like lists\n",
    "print(tup[2])"
   ]
  },
  {
   "cell_type": "code",
   "execution_count": 5,
   "id": "48366f61",
   "metadata": {
    "scrolled": true
   },
   "outputs": [
    {
     "ename": "TypeError",
     "evalue": "'tuple' object does not support item assignment",
     "output_type": "error",
     "traceback": [
      "\u001b[1;31m---------------------------------------------------------------------------\u001b[0m",
      "\u001b[1;31mTypeError\u001b[0m                                 Traceback (most recent call last)",
      "Cell \u001b[1;32mIn [5], line 2\u001b[0m\n\u001b[0;32m      1\u001b[0m \u001b[38;5;66;03m# tuples are immutable\u001b[39;00m\n\u001b[1;32m----> 2\u001b[0m \u001b[43mtup\u001b[49m\u001b[43m[\u001b[49m\u001b[38;5;241;43m2\u001b[39;49m\u001b[43m]\u001b[49m \u001b[38;5;241m=\u001b[39m \u001b[38;5;241m10\u001b[39m\n",
      "\u001b[1;31mTypeError\u001b[0m: 'tuple' object does not support item assignment"
     ]
    }
   ],
   "source": [
    "# tuples are immutable\n",
    "tup[2] = 10\n"
   ]
  },
  {
   "cell_type": "code",
   "execution_count": 6,
   "id": "16f1cba7",
   "metadata": {},
   "outputs": [
    {
     "data": {
      "text/plain": [
       "3"
      ]
     },
     "execution_count": 6,
     "metadata": {},
     "output_type": "execute_result"
    }
   ],
   "source": [
    "len(tup)"
   ]
  },
  {
   "cell_type": "code",
   "execution_count": 7,
   "id": "9a7ba0f6",
   "metadata": {},
   "outputs": [
    {
     "data": {
      "text/plain": [
       "1"
      ]
     },
     "execution_count": 7,
     "metadata": {},
     "output_type": "execute_result"
    }
   ],
   "source": [
    "tup.index(6)"
   ]
  },
  {
   "cell_type": "code",
   "execution_count": 11,
   "id": "db7977c8",
   "metadata": {},
   "outputs": [
    {
     "data": {
      "text/plain": [
       "1"
      ]
     },
     "execution_count": 11,
     "metadata": {},
     "output_type": "execute_result"
    }
   ],
   "source": [
    "tup.count(6)"
   ]
  },
  {
   "cell_type": "code",
   "execution_count": 41,
   "id": "2d7a0351",
   "metadata": {},
   "outputs": [],
   "source": [
    "#creating tuple from string\n",
    "tup2 = tuple('Harry')"
   ]
  },
  {
   "cell_type": "code",
   "execution_count": 42,
   "id": "ffbacaf3",
   "metadata": {},
   "outputs": [
    {
     "name": "stdout",
     "output_type": "stream",
     "text": [
      "(12, 24, 36)\n"
     ]
    }
   ],
   "source": [
    "#creating tuple from list\n",
    "tup3 = tuple([12, 24, 36])\n",
    "print(tup3)"
   ]
  },
  {
   "cell_type": "code",
   "execution_count": 43,
   "id": "6176fb7a",
   "metadata": {},
   "outputs": [],
   "source": [
    "#creating empty tuple\n",
    "tup4 = tuple()"
   ]
  },
  {
   "cell_type": "code",
   "execution_count": 44,
   "id": "58972e17",
   "metadata": {},
   "outputs": [
    {
     "name": "stdout",
     "output_type": "stream",
     "text": [
      "('H', 'a', 'r', 'r', 'y')\n"
     ]
    }
   ],
   "source": [
    "print(tup2)"
   ]
  },
  {
   "cell_type": "code",
   "execution_count": 45,
   "id": "96168520",
   "metadata": {},
   "outputs": [
    {
     "data": {
      "text/plain": [
       "'y'"
      ]
     },
     "execution_count": 45,
     "metadata": {},
     "output_type": "execute_result"
    }
   ],
   "source": [
    "max(tup2)"
   ]
  },
  {
   "cell_type": "code",
   "execution_count": 46,
   "id": "3a811028",
   "metadata": {},
   "outputs": [
    {
     "data": {
      "text/plain": [
       "2"
      ]
     },
     "execution_count": 46,
     "metadata": {},
     "output_type": "execute_result"
    }
   ],
   "source": [
    "min(tup)"
   ]
  },
  {
   "cell_type": "code",
   "execution_count": null,
   "id": "7ea96276",
   "metadata": {},
   "outputs": [],
   "source": []
  },
  {
   "cell_type": "markdown",
   "id": "cb9407f2",
   "metadata": {},
   "source": [
    "**One way to make change in a tuple is by: unpack the tuple items into independent variables, then pack them again into a tuple**"
   ]
  },
  {
   "cell_type": "code",
   "execution_count": null,
   "id": "8334afb5",
   "metadata": {},
   "outputs": [],
   "source": []
  },
  {
   "cell_type": "code",
   "execution_count": 47,
   "id": "bdb0fff3",
   "metadata": {},
   "outputs": [
    {
     "name": "stdout",
     "output_type": "stream",
     "text": [
      "H r y\n"
     ]
    }
   ],
   "source": [
    "\n",
    "(v,w,x,y,z) = tup2\n",
    "print(v,x,z)"
   ]
  },
  {
   "cell_type": "code",
   "execution_count": 48,
   "id": "3e6db507",
   "metadata": {},
   "outputs": [],
   "source": [
    "x = 'c'"
   ]
  },
  {
   "cell_type": "code",
   "execution_count": 49,
   "id": "d4d574fb",
   "metadata": {},
   "outputs": [],
   "source": [
    "tup2 = tuple((v,w,x,y,z))"
   ]
  },
  {
   "cell_type": "code",
   "execution_count": 50,
   "id": "8219d6e3",
   "metadata": {},
   "outputs": [
    {
     "data": {
      "text/plain": [
       "('H', 'a', 'c', 'r', 'y')"
      ]
     },
     "execution_count": 50,
     "metadata": {},
     "output_type": "execute_result"
    }
   ],
   "source": [
    "tup2"
   ]
  },
  {
   "cell_type": "code",
   "execution_count": null,
   "id": "3be2f0b1",
   "metadata": {},
   "outputs": [],
   "source": []
  },
  {
   "cell_type": "code",
   "execution_count": 51,
   "id": "ebddfa65",
   "metadata": {},
   "outputs": [],
   "source": [
    "l = list(tup2)"
   ]
  },
  {
   "cell_type": "code",
   "execution_count": 59,
   "id": "e562ebc2",
   "metadata": {},
   "outputs": [
    {
     "name": "stdout",
     "output_type": "stream",
     "text": [
      "['H', 'a', 'c', 'r', 'y', 15, 15, 15]\n",
      "<class 'list'>\n"
     ]
    }
   ],
   "source": [
    "l.append(15)\n",
    "print(l)\n",
    "print(type(l))"
   ]
  },
  {
   "cell_type": "markdown",
   "id": "7d177ed4",
   "metadata": {},
   "source": [
    "**as tuple have limited functions only, due to its immutable nature, but we can apply similar other list functions on opened tuple / unpacked tuple, then wrapping it into the tuple again**"
   ]
  },
  {
   "cell_type": "code",
   "execution_count": 61,
   "id": "b14c5789",
   "metadata": {},
   "outputs": [
    {
     "name": "stdout",
     "output_type": "stream",
     "text": [
      "<class 'tuple'>\n"
     ]
    }
   ],
   "source": [
    "tup2 = tuple(l)\n",
    "tup2\n",
    "print(type(tup2))"
   ]
  },
  {
   "cell_type": "code",
   "execution_count": null,
   "id": "9cb4dbab",
   "metadata": {},
   "outputs": [],
   "source": []
  }
 ],
 "metadata": {
  "kernelspec": {
   "display_name": "Python 3 (ipykernel)",
   "language": "python",
   "name": "python3"
  },
  "language_info": {
   "codemirror_mode": {
    "name": "ipython",
    "version": 3
   },
   "file_extension": ".py",
   "mimetype": "text/x-python",
   "name": "python",
   "nbconvert_exporter": "python",
   "pygments_lexer": "ipython3",
   "version": "3.11.3"
  }
 },
 "nbformat": 4,
 "nbformat_minor": 5
}
