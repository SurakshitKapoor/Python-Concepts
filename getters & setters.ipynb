{
 "cells": [
  {
   "cell_type": "code",
   "execution_count": 6,
   "id": "e963fd74",
   "metadata": {},
   "outputs": [],
   "source": [
    "#Getters & Setters"
   ]
  },
  {
   "cell_type": "code",
   "execution_count": null,
   "id": "587e967a",
   "metadata": {},
   "outputs": [],
   "source": [
    "https://www.geeksforgeeks.org/getter-and-setter-in-python/\n",
    "    \n"
   ]
  },
  {
   "cell_type": "code",
   "execution_count": 26,
   "id": "1e9bfb2e",
   "metadata": {
    "scrolled": true
   },
   "outputs": [
    {
     "ename": "IndentationError",
     "evalue": "unindent does not match any outer indentation level (<tokenize>, line 7)",
     "output_type": "error",
     "traceback": [
      "\u001b[1;36m  File \u001b[1;32m<tokenize>:7\u001b[1;36m\u001b[0m\n\u001b[1;33m    @property\u001b[0m\n\u001b[1;37m    ^\u001b[0m\n\u001b[1;31mIndentationError\u001b[0m\u001b[1;31m:\u001b[0m unindent does not match any outer indentation level\n"
     ]
    }
   ],
   "source": [
    "class MyClass:\n",
    "    def __init__(self, value):\n",
    "        self._value = value;\n",
    "    def show(self):\n",
    "        print(f\"the ans is : {self._value}\");\n",
    "    \n",
    "     @property\n",
    "     def ten_values(self):\n",
    "        return 10*_value;\n",
    "    \n",
    "    @ten_values\n",
    "    def ten_values(self, new_value):\n",
    "        self._value = new_value;\n",
    "        \n",
    "        "
   ]
  },
  {
   "cell_type": "code",
   "execution_count": null,
   "id": "078ac3d6",
   "metadata": {},
   "outputs": [],
   "source": []
  },
  {
   "cell_type": "code",
   "execution_count": 11,
   "id": "5d2b97ff",
   "metadata": {
    "scrolled": false
   },
   "outputs": [
    {
     "name": "stdout",
     "output_type": "stream",
     "text": [
      "32\n",
      "2018\n"
     ]
    }
   ],
   "source": [
    "class year_graduated:\n",
    "   def __init__(self, year=32):\n",
    "      self._year = year\n",
    "\n",
    "   @property\n",
    "   def Aboutyear(self):\n",
    "      return self.__year\n",
    "\n",
    "   @Aboutyear.setter\n",
    "   def Aboutyear(self, a):\n",
    "      self.__year = a\n",
    "\n",
    "grad_obj = year_graduated()\n",
    "print(grad_obj._year)\n",
    "\n",
    "grad_obj.year = 2018\n",
    "print(grad_obj.year)\n",
    "\n"
   ]
  },
  {
   "cell_type": "code",
   "execution_count": null,
   "id": "b2a84b0c",
   "metadata": {},
   "outputs": [],
   "source": []
  },
  {
   "cell_type": "code",
   "execution_count": 12,
   "id": "390cb404",
   "metadata": {},
   "outputs": [
    {
     "name": "stdout",
     "output_type": "stream",
     "text": [
      "Builder\n",
      "Carpenter\n"
     ]
    }
   ],
   "source": [
    "\n",
    "class Friend:\n",
    "    def __init__(self):\n",
    "        self.job = \"None\"\n",
    "\n",
    "    def getJob(self):\n",
    "        return self.job\n",
    "\n",
    "    def setJob(self, job):\n",
    "        self.job = job\n",
    "\n",
    "Alice = Friend()\n",
    "Bob = Friend()\n",
    "\n",
    "Alice.setJob(\"Carpenter\")\n",
    "Bob.setJob(\"Builder\")\n",
    "\n",
    "print(Bob.job)\n",
    "print(Alice.job)"
   ]
  },
  {
   "cell_type": "code",
   "execution_count": null,
   "id": "42ee4be7",
   "metadata": {},
   "outputs": [],
   "source": []
  },
  {
   "cell_type": "markdown",
   "id": "2e137a07",
   "metadata": {},
   "source": [
    "**best example**"
   ]
  },
  {
   "cell_type": "code",
   "execution_count": 18,
   "id": "f29bd7cc",
   "metadata": {},
   "outputs": [],
   "source": [
    "class Person:\n",
    "    def __init__(self, job):\n",
    "        self.job = job;\n",
    "    \n",
    "    def getJob(self):\n",
    "        return self.job;\n",
    "    \n",
    "    def setJob(self, job):\n",
    "        self.job = job;\n",
    "    \n",
    "Aman = Person(\"Finance Mgr\");\n",
    "Priya = Person(\"CA\")\n"
   ]
  },
  {
   "cell_type": "code",
   "execution_count": 14,
   "id": "8bf7825e",
   "metadata": {},
   "outputs": [
    {
     "data": {
      "text/plain": [
       "'Finance Mgr'"
      ]
     },
     "execution_count": 14,
     "metadata": {},
     "output_type": "execute_result"
    }
   ],
   "source": [
    "Aman.getJob()"
   ]
  },
  {
   "cell_type": "code",
   "execution_count": 19,
   "id": "ccea41bb",
   "metadata": {},
   "outputs": [],
   "source": [
    "Priya.setJob(\"SDE\")"
   ]
  },
  {
   "cell_type": "code",
   "execution_count": 20,
   "id": "7dc71f3e",
   "metadata": {},
   "outputs": [
    {
     "data": {
      "text/plain": [
       "'SDE'"
      ]
     },
     "execution_count": 20,
     "metadata": {},
     "output_type": "execute_result"
    }
   ],
   "source": [
    "Priya.job"
   ]
  },
  {
   "cell_type": "code",
   "execution_count": null,
   "id": "c645b326",
   "metadata": {},
   "outputs": [],
   "source": []
  }
 ],
 "metadata": {
  "kernelspec": {
   "display_name": "Python 3 (ipykernel)",
   "language": "python",
   "name": "python3"
  },
  "language_info": {
   "codemirror_mode": {
    "name": "ipython",
    "version": 3
   },
   "file_extension": ".py",
   "mimetype": "text/x-python",
   "name": "python",
   "nbconvert_exporter": "python",
   "pygments_lexer": "ipython3",
   "version": "3.11.3"
  }
 },
 "nbformat": 4,
 "nbformat_minor": 5
}
