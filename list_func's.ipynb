{
 "cells": [
  {
   "cell_type": "code",
   "execution_count": null,
   "id": "b9b8dd30",
   "metadata": {},
   "outputs": [],
   "source": []
  },
  {
   "cell_type": "markdown",
   "id": "de9a6c45",
   "metadata": {},
   "source": [
    "**1. Accessing the list : by index number, starting from 0 to len-1**"
   ]
  },
  {
   "cell_type": "code",
   "execution_count": 42,
   "id": "62b0284d",
   "metadata": {},
   "outputs": [
    {
     "name": "stdout",
     "output_type": "stream",
     "text": [
      "[2, 4, 6, 8, 10]\n"
     ]
    }
   ],
   "source": [
    "l = [2, 4, 6, 8, 10]\n",
    "print(l)"
   ]
  },
  {
   "cell_type": "code",
   "execution_count": 3,
   "id": "457d5795",
   "metadata": {},
   "outputs": [
    {
     "name": "stdout",
     "output_type": "stream",
     "text": [
      "6\n"
     ]
    }
   ],
   "source": [
    "print(l[2])"
   ]
  },
  {
   "cell_type": "code",
   "execution_count": 4,
   "id": "be583811",
   "metadata": {},
   "outputs": [
    {
     "name": "stdout",
     "output_type": "stream",
     "text": [
      "[4, 6, 8]\n"
     ]
    }
   ],
   "source": [
    "print(l[1:4])"
   ]
  },
  {
   "cell_type": "code",
   "execution_count": 5,
   "id": "75e76d02",
   "metadata": {},
   "outputs": [
    {
     "name": "stdout",
     "output_type": "stream",
     "text": [
      "[2, 6]\n"
     ]
    }
   ],
   "source": [
    "print(l[0:4: 2])"
   ]
  },
  {
   "cell_type": "code",
   "execution_count": 6,
   "id": "4d533c74",
   "metadata": {},
   "outputs": [
    {
     "name": "stdout",
     "output_type": "stream",
     "text": [
      "[2, 4, 6, 8, 10]\n"
     ]
    }
   ],
   "source": [
    "print(l[:])"
   ]
  },
  {
   "cell_type": "code",
   "execution_count": 7,
   "id": "ab99ff8f",
   "metadata": {},
   "outputs": [
    {
     "name": "stdout",
     "output_type": "stream",
     "text": [
      "[2, 4, 6, 8, 10]\n"
     ]
    }
   ],
   "source": [
    "print(l[::])"
   ]
  },
  {
   "cell_type": "code",
   "execution_count": 12,
   "id": "28f7c913",
   "metadata": {},
   "outputs": [
    {
     "name": "stdout",
     "output_type": "stream",
     "text": [
      "[10, 8, 6, 4, 2]\n"
     ]
    }
   ],
   "source": [
    "print(l[4::-1])"
   ]
  },
  {
   "cell_type": "code",
   "execution_count": 13,
   "id": "4aa81c61",
   "metadata": {},
   "outputs": [
    {
     "name": "stdout",
     "output_type": "stream",
     "text": [
      "[10, 8, 6, 4, 2]\n"
     ]
    }
   ],
   "source": [
    "print(l[::-1])"
   ]
  },
  {
   "cell_type": "code",
   "execution_count": 14,
   "id": "700cb969",
   "metadata": {},
   "outputs": [
    {
     "name": "stdout",
     "output_type": "stream",
     "text": [
      "[10, 6, 2]\n"
     ]
    }
   ],
   "source": [
    "print(l[4::-2])"
   ]
  },
  {
   "cell_type": "code",
   "execution_count": null,
   "id": "72dd3c4d",
   "metadata": {},
   "outputs": [],
   "source": []
  },
  {
   "cell_type": "markdown",
   "id": "cdb21978",
   "metadata": {},
   "source": [
    "**2. Insert into list:**"
   ]
  },
  {
   "cell_type": "code",
   "execution_count": 43,
   "id": "eef4e5ca",
   "metadata": {},
   "outputs": [
    {
     "name": "stdout",
     "output_type": "stream",
     "text": [
      "[2, 4, 6, 19, 8, 10]\n"
     ]
    }
   ],
   "source": [
    "l.insert(3, 19)\n",
    "print(l)"
   ]
  },
  {
   "cell_type": "code",
   "execution_count": 67,
   "id": "7d42f9f5",
   "metadata": {},
   "outputs": [
    {
     "name": "stdout",
     "output_type": "stream",
     "text": [
      "[2, 4, 8, 10, 17, 19]\n"
     ]
    }
   ],
   "source": [
    "l = [2, 4, 8, 10, 17, 19]\n",
    "print(l)"
   ]
  },
  {
   "cell_type": "code",
   "execution_count": 68,
   "id": "4f1a21a7",
   "metadata": {},
   "outputs": [
    {
     "name": "stdout",
     "output_type": "stream",
     "text": [
      "[2, 4, 8, 10, 17, 19, 67]\n"
     ]
    }
   ],
   "source": [
    "#append() -> add the element at last of list\n",
    "l.append(67)\n",
    "print(l)"
   ]
  },
  {
   "cell_type": "code",
   "execution_count": 69,
   "id": "09070063",
   "metadata": {},
   "outputs": [
    {
     "name": "stdout",
     "output_type": "stream",
     "text": [
      "[2, 4, 8, 10, 17, 19, 67, 44, 55, 66]\n"
     ]
    }
   ],
   "source": [
    "#extend() -> adds the whole list in original list at last\n",
    "l.extend([44, 55, 66])\n",
    "print(l)"
   ]
  },
  {
   "cell_type": "code",
   "execution_count": null,
   "id": "22193069",
   "metadata": {},
   "outputs": [],
   "source": []
  },
  {
   "cell_type": "markdown",
   "id": "c9c894fa",
   "metadata": {},
   "source": [
    "**3. Update/Modify in List: as list is mutable/changeable**"
   ]
  },
  {
   "cell_type": "code",
   "execution_count": 44,
   "id": "9a1162de",
   "metadata": {},
   "outputs": [
    {
     "name": "stdout",
     "output_type": "stream",
     "text": [
      "[2, 4, 17, 19, 8, 10]\n"
     ]
    }
   ],
   "source": [
    "l[2] = 17\n",
    "print(l)"
   ]
  },
  {
   "cell_type": "code",
   "execution_count": null,
   "id": "2abe012e",
   "metadata": {},
   "outputs": [],
   "source": []
  },
  {
   "cell_type": "markdown",
   "id": "7301048f",
   "metadata": {},
   "source": [
    "**4. Reverse and sort the list:**"
   ]
  },
  {
   "cell_type": "code",
   "execution_count": 22,
   "id": "9e2ed77f",
   "metadata": {},
   "outputs": [
    {
     "name": "stdout",
     "output_type": "stream",
     "text": [
      "[10, 8, 19, 17, 4, 2]\n"
     ]
    }
   ],
   "source": [
    "l.reverse()\n",
    "print(l)"
   ]
  },
  {
   "cell_type": "code",
   "execution_count": 45,
   "id": "4634aa0e",
   "metadata": {},
   "outputs": [
    {
     "name": "stdout",
     "output_type": "stream",
     "text": [
      "[2, 4, 8, 10, 17, 19]\n"
     ]
    }
   ],
   "source": [
    "l.sort()\n",
    "print(l)"
   ]
  },
  {
   "cell_type": "code",
   "execution_count": null,
   "id": "955d1618",
   "metadata": {},
   "outputs": [],
   "source": []
  },
  {
   "cell_type": "markdown",
   "id": "b79f564e",
   "metadata": {},
   "source": [
    "**5. Deletion in list:**"
   ]
  },
  {
   "cell_type": "code",
   "execution_count": 46,
   "id": "44da11ef",
   "metadata": {},
   "outputs": [
    {
     "name": "stdout",
     "output_type": "stream",
     "text": [
      "[2, 4, 10, 17]\n"
     ]
    }
   ],
   "source": [
    "#pop() -> if index given, then deletes that element, else deletes lats element. it returns the deleted element\n",
    "l.pop()\n",
    "l.pop(2)\n",
    "print(l)"
   ]
  },
  {
   "cell_type": "code",
   "execution_count": 47,
   "id": "d19848d9",
   "metadata": {},
   "outputs": [
    {
     "name": "stdout",
     "output_type": "stream",
     "text": [
      "[2, 10, 17]\n"
     ]
    }
   ],
   "source": [
    "#remove() -> deletes by element \n",
    "l.remove(4)\n",
    "print(l)"
   ]
  },
  {
   "cell_type": "code",
   "execution_count": 48,
   "id": "85744a11",
   "metadata": {},
   "outputs": [
    {
     "name": "stdout",
     "output_type": "stream",
     "text": [
      "[10, 17]\n"
     ]
    }
   ],
   "source": [
    "#del -> it can deletes the element by its index, range of index or whole list from existance\n",
    "del l[0]\n",
    "print(l)"
   ]
  },
  {
   "cell_type": "code",
   "execution_count": 55,
   "id": "daedf85e",
   "metadata": {},
   "outputs": [
    {
     "name": "stdout",
     "output_type": "stream",
     "text": [
      "[2, 4, 8, 10, 17, 19]\n"
     ]
    }
   ],
   "source": [
    "l = [2, 4, 8, 10, 17, 19]\n",
    "print(l)"
   ]
  },
  {
   "cell_type": "code",
   "execution_count": 56,
   "id": "26c1f761",
   "metadata": {},
   "outputs": [
    {
     "name": "stdout",
     "output_type": "stream",
     "text": [
      "[2, 10, 17, 19]\n"
     ]
    }
   ],
   "source": [
    "del l[1:3]\n",
    "print(l)"
   ]
  },
  {
   "cell_type": "code",
   "execution_count": 57,
   "id": "18c358b4",
   "metadata": {},
   "outputs": [],
   "source": [
    "del (l)\n"
   ]
  },
  {
   "cell_type": "code",
   "execution_count": 58,
   "id": "1337abed",
   "metadata": {},
   "outputs": [
    {
     "ename": "NameError",
     "evalue": "name 'l' is not defined",
     "output_type": "error",
     "traceback": [
      "\u001b[1;31m---------------------------------------------------------------------------\u001b[0m",
      "\u001b[1;31mNameError\u001b[0m                                 Traceback (most recent call last)",
      "Cell \u001b[1;32mIn [58], line 1\u001b[0m\n\u001b[1;32m----> 1\u001b[0m \u001b[38;5;28mprint\u001b[39m(\u001b[43ml\u001b[49m)\n",
      "\u001b[1;31mNameError\u001b[0m: name 'l' is not defined"
     ]
    }
   ],
   "source": [
    "print(l)"
   ]
  },
  {
   "cell_type": "code",
   "execution_count": 59,
   "id": "b92979ba",
   "metadata": {},
   "outputs": [
    {
     "name": "stdout",
     "output_type": "stream",
     "text": [
      "[2, 4, 8, 10, 17, 19]\n"
     ]
    }
   ],
   "source": [
    "l = [2, 4, 8, 10, 17, 19]\n",
    "print(l)"
   ]
  },
  {
   "cell_type": "code",
   "execution_count": 60,
   "id": "acd8eabf",
   "metadata": {},
   "outputs": [
    {
     "name": "stdout",
     "output_type": "stream",
     "text": [
      "[]\n"
     ]
    }
   ],
   "source": [
    "#clear() -> empties the list; the structure of list remains in the existence\n",
    "l.clear()\n",
    "print(l)"
   ]
  },
  {
   "cell_type": "code",
   "execution_count": null,
   "id": "2f28a85a",
   "metadata": {},
   "outputs": [],
   "source": []
  },
  {
   "cell_type": "markdown",
   "id": "c5c498f6",
   "metadata": {},
   "source": [
    "**6. List reference and its copy**"
   ]
  },
  {
   "cell_type": "code",
   "execution_count": 70,
   "id": "33d6264a",
   "metadata": {},
   "outputs": [
    {
     "name": "stdout",
     "output_type": "stream",
     "text": [
      "[2, 4, 8, 10, 17, 19]\n"
     ]
    }
   ],
   "source": [
    "l = [2, 4, 8, 10, 17, 19]\n",
    "print(l)"
   ]
  },
  {
   "cell_type": "code",
   "execution_count": 71,
   "id": "1dcd5b83",
   "metadata": {},
   "outputs": [
    {
     "name": "stdout",
     "output_type": "stream",
     "text": [
      "[2, 4, 8, 10, 17, 19]\n",
      "[2, 4, 8, 10, 17, 19]\n"
     ]
    }
   ],
   "source": [
    "# '=' in list creates reference to the original list. any change in any list will create the changes in all list wih the same reference list\n",
    "l2 = l\n",
    "print(l)\n",
    "print(l2)"
   ]
  },
  {
   "cell_type": "code",
   "execution_count": 72,
   "id": "b128f01b",
   "metadata": {},
   "outputs": [
    {
     "name": "stdout",
     "output_type": "stream",
     "text": [
      "[2, 4, 89, 10, 17, 19]\n",
      "[2, 4, 89, 10, 17, 19]\n"
     ]
    }
   ],
   "source": [
    "l[2] = 89\n",
    "print(l)\n",
    "print(l2)"
   ]
  },
  {
   "cell_type": "code",
   "execution_count": null,
   "id": "ae85d94e",
   "metadata": {},
   "outputs": [],
   "source": []
  },
  {
   "cell_type": "code",
   "execution_count": 73,
   "id": "63f02bb3",
   "metadata": {},
   "outputs": [
    {
     "name": "stdout",
     "output_type": "stream",
     "text": [
      "[2, 4, 8, 10, 17, 19]\n"
     ]
    }
   ],
   "source": [
    "l = [2, 4, 8, 10, 17, 19]\n",
    "print(l)"
   ]
  },
  {
   "cell_type": "code",
   "execution_count": 74,
   "id": "e4a99c90",
   "metadata": {},
   "outputs": [
    {
     "name": "stdout",
     "output_type": "stream",
     "text": [
      "[2, 4, 8, 10, 17, 19]\n",
      "[2, 4, 8, 10, 3, 19]\n"
     ]
    }
   ],
   "source": [
    "#using copy() -> we make a copy of original list, changes will not reflect\n",
    "l2 = l.copy()\n",
    "l2[4] = 3\n",
    "print(l)\n",
    "print(l2)"
   ]
  },
  {
   "cell_type": "code",
   "execution_count": null,
   "id": "e3aa3db5",
   "metadata": {},
   "outputs": [],
   "source": []
  },
  {
   "cell_type": "markdown",
   "id": "d718f397",
   "metadata": {},
   "source": [
    "**7. List Comprehension: it is used to select the specific items from the list based on a condition. It works only on iterable objects like list, tuple, range(), etc**"
   ]
  },
  {
   "cell_type": "code",
   "execution_count": 76,
   "id": "f73cc2d4",
   "metadata": {},
   "outputs": [
    {
     "name": "stdout",
     "output_type": "stream",
     "text": [
      "['apple', 'banana', 'mango']\n"
     ]
    }
   ],
   "source": [
    "#normally, by this way we can do the work\n",
    "fruits = [\"apple\", \"banana\", \"cherry\", \"kiwi\", \"mango\"]\n",
    "newlist = []\n",
    "\n",
    "for x in fruits:\n",
    "  if \"a\" in x:\n",
    "    newlist.append(x)\n",
    "\n",
    "print(newlist)"
   ]
  },
  {
   "cell_type": "code",
   "execution_count": 75,
   "id": "ea866882",
   "metadata": {},
   "outputs": [
    {
     "name": "stdout",
     "output_type": "stream",
     "text": [
      "['apple', 'banana', 'mango']\n"
     ]
    }
   ],
   "source": [
    "#by list comprehension (of one line code) -> becomes easy to implement\n",
    "#if there is only one condition -> use if after for\n",
    "fruits = [\"apple\", \"banana\", \"cherry\", \"kiwi\", \"mango\"]\n",
    "\n",
    "newlist = [x for x in fruits if \"a\" in x]\n",
    "\n",
    "print(newlist)"
   ]
  },
  {
   "cell_type": "code",
   "execution_count": 81,
   "id": "c91d7b34",
   "metadata": {},
   "outputs": [
    {
     "name": "stdout",
     "output_type": "stream",
     "text": [
      "['hello', 'hello', 'hello']\n"
     ]
    }
   ],
   "source": [
    "fruits = [\"apple\", \"banana\", \"cherry\", \"kiwi\", \"mango\"]\n",
    "\n",
    "newlist = [\"hello\" for x in fruits if \"a\" in x]\n",
    "\n",
    "print(newlist)"
   ]
  },
  {
   "cell_type": "code",
   "execution_count": 82,
   "id": "044fa66d",
   "metadata": {},
   "outputs": [
    {
     "name": "stdout",
     "output_type": "stream",
     "text": [
      "['apple', 'banana', 'not available', 'not available', 'mango']\n"
     ]
    }
   ],
   "source": [
    "#if there is 2 or more condition use, if-else before for\n",
    "fruits = [\"apple\", \"banana\", \"cherry\", \"kiwi\", \"mango\"]\n",
    "\n",
    "newlist = [x if \"a\" in x else \"not available\" for x in fruits]\n",
    "\n",
    "print(newlist)"
   ]
  },
  {
   "cell_type": "code",
   "execution_count": 84,
   "id": "b042de4b",
   "metadata": {},
   "outputs": [
    {
     "name": "stdout",
     "output_type": "stream",
     "text": [
      "[0, 1, 2, 3, 4]\n"
     ]
    }
   ],
   "source": [
    "newlist = [x for x in range(10) if x<5]\n",
    "print(newlist)"
   ]
  },
  {
   "cell_type": "code",
   "execution_count": null,
   "id": "b039b795",
   "metadata": {},
   "outputs": [],
   "source": []
  },
  {
   "cell_type": "markdown",
   "id": "1dbb5bd3",
   "metadata": {},
   "source": [
    "**8. count() -> returns the count of a specific elementt**"
   ]
  },
  {
   "cell_type": "code",
   "execution_count": 88,
   "id": "ca9f3403",
   "metadata": {},
   "outputs": [
    {
     "name": "stdout",
     "output_type": "stream",
     "text": [
      "[2, 4, 8, 10, 2, 17, 2, 3, 2, 19]\n"
     ]
    }
   ],
   "source": [
    "l = [2, 4, 8, 10, 2, 17, 2, 3, 2, 19]\n",
    "print(l)"
   ]
  },
  {
   "cell_type": "code",
   "execution_count": 89,
   "id": "96ef8df3",
   "metadata": {},
   "outputs": [
    {
     "name": "stdout",
     "output_type": "stream",
     "text": [
      "4\n"
     ]
    }
   ],
   "source": [
    "print(l.count(2))"
   ]
  },
  {
   "cell_type": "code",
   "execution_count": null,
   "id": "580c597d",
   "metadata": {},
   "outputs": [],
   "source": []
  },
  {
   "cell_type": "markdown",
   "id": "f4386b48",
   "metadata": {},
   "source": [
    "**9. index() -> return sthe index of first occurence of a specific element**"
   ]
  },
  {
   "cell_type": "code",
   "execution_count": 90,
   "id": "6825bece",
   "metadata": {},
   "outputs": [
    {
     "name": "stdout",
     "output_type": "stream",
     "text": [
      "0\n"
     ]
    }
   ],
   "source": [
    "print(l.index(2))"
   ]
  },
  {
   "cell_type": "code",
   "execution_count": 91,
   "id": "994aca62",
   "metadata": {},
   "outputs": [
    {
     "name": "stdout",
     "output_type": "stream",
     "text": [
      "5\n"
     ]
    }
   ],
   "source": [
    "print(l.index(17))"
   ]
  },
  {
   "cell_type": "code",
   "execution_count": 92,
   "id": "e5deff82",
   "metadata": {},
   "outputs": [
    {
     "ename": "ValueError",
     "evalue": "90 is not in list",
     "output_type": "error",
     "traceback": [
      "\u001b[1;31m---------------------------------------------------------------------------\u001b[0m",
      "\u001b[1;31mValueError\u001b[0m                                Traceback (most recent call last)",
      "Cell \u001b[1;32mIn [92], line 1\u001b[0m\n\u001b[1;32m----> 1\u001b[0m \u001b[38;5;28mprint\u001b[39m(\u001b[43ml\u001b[49m\u001b[38;5;241;43m.\u001b[39;49m\u001b[43mindex\u001b[49m\u001b[43m(\u001b[49m\u001b[38;5;241;43m90\u001b[39;49m\u001b[43m)\u001b[49m)\n",
      "\u001b[1;31mValueError\u001b[0m: 90 is not in list"
     ]
    }
   ],
   "source": [
    "print(l.index(90))"
   ]
  },
  {
   "cell_type": "code",
   "execution_count": null,
   "id": "8e23081c",
   "metadata": {},
   "outputs": [],
   "source": []
  },
  {
   "cell_type": "markdown",
   "id": "ebdd1f64",
   "metadata": {},
   "source": [
    "**10. creating list:**"
   ]
  },
  {
   "cell_type": "code",
   "execution_count": 5,
   "id": "8e7b0066",
   "metadata": {},
   "outputs": [
    {
     "name": "stdout",
     "output_type": "stream",
     "text": [
      "[2, 4, 5, True, 'manan', False, 'aman']\n"
     ]
    }
   ],
   "source": [
    "l = [2, 4, 5, True ,'manan', False, 'aman']\n",
    "print(l)"
   ]
  },
  {
   "cell_type": "code",
   "execution_count": 6,
   "id": "df690a61",
   "metadata": {},
   "outputs": [
    {
     "name": "stdout",
     "output_type": "stream",
     "text": [
      "('aman', 23, True, 28)\n",
      "hello jee sab log\n",
      "['aman', 23, True, 28]\n",
      "['h', 'e', 'l', 'l', 'o', ' ', 'j', 'e', 'e', ' ', 's', 'a', 'b', ' ', 'l', 'o', 'g']\n"
     ]
    }
   ],
   "source": [
    "t = ('aman', 23, True, 28)\n",
    "print(t)\n",
    "s = \"hello jee sab log\"\n",
    "print(s)\n",
    "l = list(t)\n",
    "print(l)\n",
    "l2 = list(s)\n",
    "print(l2)\n"
   ]
  },
  {
   "cell_type": "code",
   "execution_count": 8,
   "id": "b0fc5dc7",
   "metadata": {},
   "outputs": [
    {
     "name": "stdout",
     "output_type": "stream",
     "text": [
      "['a', 'm', 'a', 'n']\n",
      "['aman', 56, True]\n"
     ]
    }
   ],
   "source": [
    "l = list(\"aman\")\n",
    "print(l)\n",
    "l2 = list(('aman', 56, True))\n",
    "print(l2)"
   ]
  },
  {
   "cell_type": "code",
   "execution_count": null,
   "id": "6146b0ca",
   "metadata": {},
   "outputs": [],
   "source": []
  },
  {
   "cell_type": "markdown",
   "id": "2c8f8fa4",
   "metadata": {},
   "source": [
    "**11. Some more func's on list:**"
   ]
  },
  {
   "cell_type": "code",
   "execution_count": 12,
   "id": "4bce915c",
   "metadata": {},
   "outputs": [
    {
     "name": "stdout",
     "output_type": "stream",
     "text": [
      "['a', 'm', 'a', 'n']\n"
     ]
    }
   ],
   "source": [
    "print(l)"
   ]
  },
  {
   "cell_type": "code",
   "execution_count": 9,
   "id": "36b631b2",
   "metadata": {},
   "outputs": [
    {
     "name": "stdout",
     "output_type": "stream",
     "text": [
      "4\n"
     ]
    }
   ],
   "source": [
    "print(len(l))"
   ]
  },
  {
   "cell_type": "code",
   "execution_count": 10,
   "id": "95bfe738",
   "metadata": {},
   "outputs": [
    {
     "name": "stdout",
     "output_type": "stream",
     "text": [
      "n\n"
     ]
    }
   ],
   "source": [
    "print(max(l))"
   ]
  },
  {
   "cell_type": "code",
   "execution_count": 11,
   "id": "26eb4f17",
   "metadata": {},
   "outputs": [
    {
     "name": "stdout",
     "output_type": "stream",
     "text": [
      "a\n"
     ]
    }
   ],
   "source": [
    "print(min(l))"
   ]
  },
  {
   "cell_type": "code",
   "execution_count": null,
   "id": "0c19d925",
   "metadata": {},
   "outputs": [],
   "source": []
  },
  {
   "cell_type": "markdown",
   "id": "c34cead4",
   "metadata": {},
   "source": [
    "**12. Loop in list:**"
   ]
  },
  {
   "cell_type": "code",
   "execution_count": 13,
   "id": "e63ae506",
   "metadata": {},
   "outputs": [
    {
     "name": "stdout",
     "output_type": "stream",
     "text": [
      "a\n",
      "m\n",
      "a\n",
      "n\n"
     ]
    }
   ],
   "source": [
    "for i in l:\n",
    "    print(i)"
   ]
  },
  {
   "cell_type": "code",
   "execution_count": null,
   "id": "f6cdcfce",
   "metadata": {},
   "outputs": [],
   "source": []
  }
 ],
 "metadata": {
  "kernelspec": {
   "display_name": "Python 3 (ipykernel)",
   "language": "python",
   "name": "python3"
  },
  "language_info": {
   "codemirror_mode": {
    "name": "ipython",
    "version": 3
   },
   "file_extension": ".py",
   "mimetype": "text/x-python",
   "name": "python",
   "nbconvert_exporter": "python",
   "pygments_lexer": "ipython3",
   "version": "3.11.3"
  }
 },
 "nbformat": 4,
 "nbformat_minor": 5
}
