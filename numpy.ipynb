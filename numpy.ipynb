{
 "cells": [
  {
   "cell_type": "markdown",
   "id": "6953c8a0",
   "metadata": {},
   "source": [
    "**1. Importing numpy libraray**"
   ]
  },
  {
   "cell_type": "code",
   "execution_count": 4,
   "id": "32bb4166",
   "metadata": {},
   "outputs": [],
   "source": [
    "import numpy as np"
   ]
  },
  {
   "cell_type": "code",
   "execution_count": null,
   "id": "8a5eebce",
   "metadata": {},
   "outputs": [],
   "source": []
  },
  {
   "cell_type": "markdown",
   "id": "01d069ae",
   "metadata": {},
   "source": [
    "**2. List vs Numpy Array**"
   ]
  },
  {
   "cell_type": "code",
   "execution_count": 6,
   "id": "7761b09d",
   "metadata": {},
   "outputs": [
    {
     "name": "stdout",
     "output_type": "stream",
     "text": [
      "[1, 2, 3, 4]\n"
     ]
    },
    {
     "data": {
      "text/plain": [
       "list"
      ]
     },
     "execution_count": 6,
     "metadata": {},
     "output_type": "execute_result"
    }
   ],
   "source": [
    "x = [1, 2, 3, 4]\n",
    "print (x)\n",
    "type(x)"
   ]
  },
  {
   "cell_type": "code",
   "execution_count": 7,
   "id": "a1af3603",
   "metadata": {},
   "outputs": [
    {
     "name": "stdout",
     "output_type": "stream",
     "text": [
      "[1 2 3 4]\n"
     ]
    },
    {
     "data": {
      "text/plain": [
       "numpy.ndarray"
      ]
     },
     "execution_count": 7,
     "metadata": {},
     "output_type": "execute_result"
    }
   ],
   "source": [
    "n = np.array(x)\n",
    "print(n)\n",
    "type(n)"
   ]
  },
  {
   "cell_type": "code",
   "execution_count": 15,
   "id": "2f5d57a3",
   "metadata": {},
   "outputs": [
    {
     "name": "stdout",
     "output_type": "stream",
     "text": [
      "[1, 8, 27, 64, 125, 216, 343, 512]\n",
      "1.51 µs ± 15.6 ns per loop (mean ± std. dev. of 7 runs, 1,000,000 loops each)\n"
     ]
    }
   ],
   "source": [
    "x = [j**3 for j in range(1,9)]\n",
    "print(x)\n",
    "%timeit [j**3 for j in range(1,9)]"
   ]
  },
  {
   "cell_type": "code",
   "execution_count": 16,
   "id": "58db2055",
   "metadata": {},
   "outputs": [
    {
     "name": "stdout",
     "output_type": "stream",
     "text": [
      "[  1   8  27  64 125 216 343 512]\n",
      "4.29 µs ± 38.6 ns per loop (mean ± std. dev. of 7 runs, 100,000 loops each)\n"
     ]
    }
   ],
   "source": [
    "y = np.arange(1,9)**3\n",
    "print(y)\n",
    "%timeit np.arange(1,9)**3"
   ]
  },
  {
   "cell_type": "code",
   "execution_count": null,
   "id": "473f0fc7",
   "metadata": {},
   "outputs": [],
   "source": []
  },
  {
   "cell_type": "markdown",
   "id": "8742a779",
   "metadata": {},
   "source": [
    "**3. Taking imput from user for numpy array**"
   ]
  },
  {
   "cell_type": "code",
   "execution_count": 18,
   "id": "7951bbce",
   "metadata": {},
   "outputs": [
    {
     "name": "stdout",
     "output_type": "stream",
     "text": [
      "Enter : 2\n",
      "Enter : 5\n",
      "Enter : 7\n",
      "Enter : 13\n",
      "['2', '5', '7', '13']\n",
      "['2' '5' '7' '13']\n"
     ]
    }
   ],
   "source": [
    "l = []\n",
    "for i in range(1,5):\n",
    "    inp = input(\"Enter : \")\n",
    "    l.append(inp)\n",
    "print(l)\n",
    "print(np.array(l))\n"
   ]
  },
  {
   "cell_type": "markdown",
   "id": "32fedb0c",
   "metadata": {},
   "source": [
    "**4. Knowing dimensions of array**"
   ]
  },
  {
   "cell_type": "code",
   "execution_count": 22,
   "id": "45e55c96",
   "metadata": {},
   "outputs": [
    {
     "name": "stdout",
     "output_type": "stream",
     "text": [
      "['2' '5' '7' '13']\n",
      "1\n"
     ]
    }
   ],
   "source": [
    "n = np.array(l)\n",
    "print(n)\n",
    "print(n.ndim)"
   ]
  },
  {
   "cell_type": "code",
   "execution_count": 24,
   "id": "c5745343",
   "metadata": {},
   "outputs": [
    {
     "name": "stdout",
     "output_type": "stream",
     "text": [
      "[2, 4, 5, 7, 8]\n",
      "[1, 5, 8, 12, 4]\n",
      "[[ 2  4  5  7  8]\n",
      " [ 1  5  8 12  4]]\n"
     ]
    }
   ],
   "source": [
    "l2 = [2,4,5,7,8]\n",
    "l3 = [1,5,8,12,4]\n",
    "n2 = np.array([l2, l3])\n",
    "print(l2)\n",
    "print(l3)\n",
    "print(n2)"
   ]
  },
  {
   "cell_type": "code",
   "execution_count": 26,
   "id": "02336a32",
   "metadata": {},
   "outputs": [
    {
     "name": "stdout",
     "output_type": "stream",
     "text": [
      "[[[[[[ 2  4  5  7  8]\n",
      "     [ 1  5  8 12  4]]]]]]\n",
      "6\n"
     ]
    }
   ],
   "source": [
    "n3 = np.array([[[[[l2, l3]]]]])\n",
    "print(n3)\n",
    "print(n3.ndim)"
   ]
  },
  {
   "cell_type": "code",
   "execution_count": 2,
   "id": "3a55e257",
   "metadata": {},
   "outputs": [
    {
     "name": "stdout",
     "output_type": "stream",
     "text": [
      "[[[1 2 3 4]]]\n",
      "3\n"
     ]
    }
   ],
   "source": [
    "#defining dimension of arry exclusively\n",
    "n4 = np.array([1,2,3,4], ndmin=3)\n",
    "print(n4)\n",
    "print(n4.ndim)"
   ]
  },
  {
   "cell_type": "code",
   "execution_count": null,
   "id": "42bb06d7",
   "metadata": {},
   "outputs": [],
   "source": []
  },
  {
   "cell_type": "markdown",
   "id": "cac377b5",
   "metadata": {},
   "source": [
    "**5. Different types of arrays:**"
   ]
  },
  {
   "cell_type": "code",
   "execution_count": 7,
   "id": "f5854786",
   "metadata": {},
   "outputs": [
    {
     "name": "stdout",
     "output_type": "stream",
     "text": [
      "[0. 0. 0.]\n",
      "\n",
      "[[0. 0. 0. 0. 0.]\n",
      " [0. 0. 0. 0. 0.]\n",
      " [0. 0. 0. 0. 0.]]\n"
     ]
    }
   ],
   "source": [
    "#1. zeros array\n",
    "ar_z = np.zeros(3)\n",
    "print(ar_z)\n",
    "print()\n",
    "ar_z2 = np.zeros((3,5))\n",
    "print(ar_z2)"
   ]
  },
  {
   "cell_type": "code",
   "execution_count": 8,
   "id": "5318aafe",
   "metadata": {},
   "outputs": [
    {
     "name": "stdout",
     "output_type": "stream",
     "text": [
      "[1. 1. 1.]\n",
      "\n",
      "[[1. 1. 1. 1. 1.]\n",
      " [1. 1. 1. 1. 1.]\n",
      " [1. 1. 1. 1. 1.]]\n"
     ]
    }
   ],
   "source": [
    "#2. ones array\n",
    "ar_o = np.ones(3)\n",
    "print(ar_o)\n",
    "print()\n",
    "ar_z2 = np.ones((3,5))\n",
    "print(ar_z2)"
   ]
  },
  {
   "cell_type": "code",
   "execution_count": 18,
   "id": "f3949015",
   "metadata": {},
   "outputs": [
    {
     "name": "stdout",
     "output_type": "stream",
     "text": [
      "[2.12199579e-314 1.30714941e-311 5.19757059e-321 3.79442416e-321\n",
      " 2.31300682e-312]\n",
      "\n",
      "[[6.23042070e-307 4.67296746e-307]\n",
      " [1.69121096e-306 1.11260755e-306]\n",
      " [6.23057688e-307 2.22526399e-307]\n",
      " [6.23053614e-307 7.56592338e-307]]\n"
     ]
    }
   ],
   "source": [
    "#3. empty array : fill garbage values\n",
    "ar_e = np.empty(5)\n",
    "print(ar_e)\n",
    "print()\n",
    "ar_e2 = np.empty((4, 2))\n",
    "print(ar_e2)"
   ]
  },
  {
   "cell_type": "code",
   "execution_count": 29,
   "id": "f07f54af",
   "metadata": {},
   "outputs": [
    {
     "name": "stdout",
     "output_type": "stream",
     "text": [
      "[[1. 0. 0.]\n",
      " [0. 1. 0.]\n",
      " [0. 0. 1.]]\n",
      "\n",
      "[[1. 0. 0. 0. 0.]\n",
      " [0. 1. 0. 0. 0.]\n",
      " [0. 0. 1. 0. 0.]]\n"
     ]
    }
   ],
   "source": [
    "#4. diagonal array:\n",
    "ar_d = np.eye(3)\n",
    "print(ar_d)\n",
    "print()\n",
    "ar_d2 = np.eye(3,5)\n",
    "print(ar_d2)"
   ]
  },
  {
   "cell_type": "code",
   "execution_count": 33,
   "id": "0798fad3",
   "metadata": {},
   "outputs": [
    {
     "name": "stdout",
     "output_type": "stream",
     "text": [
      "[0 1 2 3 4 5]\n",
      "\n",
      "[2 3 4 5]\n"
     ]
    }
   ],
   "source": [
    "#5. range\n",
    "ar_r = np.arange(6)\n",
    "print(ar_r)\n",
    "print()\n",
    "ar_r2 = np.arange(2,6)\n",
    "print(ar_r2)"
   ]
  },
  {
   "cell_type": "code",
   "execution_count": 34,
   "id": "87765080",
   "metadata": {},
   "outputs": [
    {
     "name": "stdout",
     "output_type": "stream",
     "text": [
      "[ 0.   2.5  5.   7.5 10. ]\n"
     ]
    }
   ],
   "source": [
    "#6. linera space array\n",
    "ar_l = np.linspace(0, 10, num=5)\n",
    "print(ar_l)"
   ]
  },
  {
   "cell_type": "code",
   "execution_count": null,
   "id": "f822f6bc",
   "metadata": {},
   "outputs": [],
   "source": []
  },
  {
   "cell_type": "markdown",
   "id": "bc990843",
   "metadata": {},
   "source": [
    "**6. Creating numpy array with random numbers**"
   ]
  },
  {
   "cell_type": "code",
   "execution_count": 36,
   "id": "015f6589",
   "metadata": {},
   "outputs": [
    {
     "name": "stdout",
     "output_type": "stream",
     "text": [
      "[0.36579511 0.38805625 0.94481262 0.55836327]\n",
      "\n",
      "[[0.51178252 0.21314163 0.7776999  0.3619273  0.74121313]\n",
      " [0.37326493 0.65542409 0.93933629 0.81519845 0.79752649]\n",
      " [0.35900735 0.79162615 0.75175925 0.42183926 0.13117693]]\n"
     ]
    }
   ],
   "source": [
    "#1. rand\n",
    "r = np.random.rand(4)\n",
    "print(r)\n",
    "print()\n",
    "r2 = np.random.rand(3,5)\n",
    "print(r2)"
   ]
  },
  {
   "cell_type": "code",
   "execution_count": 38,
   "id": "de180bb3",
   "metadata": {},
   "outputs": [
    {
     "name": "stdout",
     "output_type": "stream",
     "text": [
      "[1.55225546 0.08585887 0.3730561 ]\n",
      "\n",
      "[[ 0.35505947 -1.10361738  1.22493534  1.55667036]\n",
      " [-0.39294561  0.35747827 -0.686054    0.32951745]\n",
      " [-2.26544891 -0.79433533 -0.2197063   0.46920663]]\n"
     ]
    }
   ],
   "source": [
    "#2. randn -> random number nearest to 0\n",
    "r = np.random.randn(3)\n",
    "print(r)\n",
    "print()\n",
    "r = np.random.randn(3, 4)\n",
    "print(r)"
   ]
  },
  {
   "cell_type": "code",
   "execution_count": 41,
   "id": "a4780009",
   "metadata": {},
   "outputs": [
    {
     "name": "stdout",
     "output_type": "stream",
     "text": [
      "[0.78459158 0.76007782 0.93172438]\n"
     ]
    }
   ],
   "source": [
    "#3. ranf ->\n",
    "r = np.random.ranf(3)\n",
    "print(r)"
   ]
  },
  {
   "cell_type": "code",
   "execution_count": 51,
   "id": "8a883d28",
   "metadata": {},
   "outputs": [
    {
     "name": "stdout",
     "output_type": "stream",
     "text": [
      "4\n",
      "\n",
      "7\n",
      "\n",
      "[7 3 8 5]\n"
     ]
    }
   ],
   "source": [
    "#4. randint ->\n",
    "r = np.random.randint(8)\n",
    "print(r)\n",
    "print()\n",
    "r2 = np.random.randint(2, 9)\n",
    "print(r2)\n",
    "print()\n",
    "r3 = np.random.randint(2, 9, 4)\n",
    "print(r3)"
   ]
  },
  {
   "cell_type": "code",
   "execution_count": null,
   "id": "69845006",
   "metadata": {},
   "outputs": [],
   "source": []
  },
  {
   "cell_type": "markdown",
   "id": "4d7a2620",
   "metadata": {},
   "source": [
    "**7. Datatypes:**"
   ]
  },
  {
   "cell_type": "code",
   "execution_count": 52,
   "id": "7344842b",
   "metadata": {},
   "outputs": [
    {
     "name": "stdout",
     "output_type": "stream",
     "text": [
      "[1 2 3 4]\n",
      "int32\n"
     ]
    }
   ],
   "source": [
    "a = np.array([1,2,3,4])\n",
    "print(a)\n",
    "print(a.dtype)"
   ]
  },
  {
   "cell_type": "code",
   "execution_count": 53,
   "id": "eebc76e4",
   "metadata": {},
   "outputs": [
    {
     "name": "stdout",
     "output_type": "stream",
     "text": [
      "[1.2 3.5 6.  8. ]\n",
      "float64\n"
     ]
    }
   ],
   "source": [
    "b = np.array([1.2, 3.5, 6, 8])\n",
    "print(b)\n",
    "print(b.dtype)"
   ]
  },
  {
   "cell_type": "code",
   "execution_count": 54,
   "id": "3e16b1c6",
   "metadata": {},
   "outputs": [
    {
     "name": "stdout",
     "output_type": "stream",
     "text": [
      "['a' 'z' 's']\n",
      "<U1\n"
     ]
    }
   ],
   "source": [
    "c = np.array(['a', 'z', 's'])\n",
    "print(c)\n",
    "print(c.dtype)"
   ]
  },
  {
   "cell_type": "code",
   "execution_count": 58,
   "id": "90c8d481",
   "metadata": {},
   "outputs": [
    {
     "name": "stdout",
     "output_type": "stream",
     "text": [
      "['A' 'B' '1' '4']\n",
      "<U11\n"
     ]
    }
   ],
   "source": [
    "d = np.array(('A', \"B\", 1, 4))\n",
    "print(d)\n",
    "print(d.dtype)"
   ]
  },
  {
   "cell_type": "code",
   "execution_count": 59,
   "id": "58867804",
   "metadata": {},
   "outputs": [
    {
     "name": "stdout",
     "output_type": "stream",
     "text": [
      "['A' 'B' '1' '4.4']\n",
      "<U32\n"
     ]
    }
   ],
   "source": [
    "e = np.array(('A', \"B\", 1, 4.4))\n",
    "print(e)\n",
    "print(e.dtype)"
   ]
  },
  {
   "cell_type": "code",
   "execution_count": null,
   "id": "b0ec38d7",
   "metadata": {},
   "outputs": [],
   "source": []
  },
  {
   "cell_type": "code",
   "execution_count": 73,
   "id": "1e7db3df",
   "metadata": {},
   "outputs": [
    {
     "name": "stdout",
     "output_type": "stream",
     "text": [
      "[1 2 3 4]\n",
      "int32\n",
      "\n",
      "[1 2 3 4]\n",
      "int8\n",
      "\n",
      "[1. 2. 3. 4.]\n",
      "float32\n",
      "\n",
      "[1. 2. 3. 4.]\n",
      "float64\n"
     ]
    }
   ],
   "source": [
    "#setting datatype exclusively\n",
    "a = np.array([1,2,3,4], dtype=np.int32)\n",
    "print(a)\n",
    "print(a.dtype)\n",
    "\n",
    "print()\n",
    "\n",
    "b = np.array([1,2,3,4], dtype=np.int8)\n",
    "print(b)\n",
    "print(b.dtype)\n",
    "\n",
    "print()\n",
    "\n",
    "c = np.array([1,2,3,4], dtype=\"f\")\n",
    "print(c)\n",
    "print(c.dtype)\n",
    "\n",
    "print()\n",
    "\n",
    "d = np.array([1,2,3,4], dtype=np.float64)\n",
    "print(d)\n",
    "print(d.dtype)"
   ]
  },
  {
   "cell_type": "code",
   "execution_count": null,
   "id": "54f48c90",
   "metadata": {},
   "outputs": [],
   "source": []
  },
  {
   "cell_type": "code",
   "execution_count": 75,
   "id": "863c410f",
   "metadata": {},
   "outputs": [
    {
     "name": "stdout",
     "output_type": "stream",
     "text": [
      "[1 2 3 4]\n",
      "int32\n",
      "\n",
      "[1. 2. 3. 4.]\n",
      "float64\n"
     ]
    }
   ],
   "source": [
    "#converting the datatype by astype()\n",
    "x = np.array([1,2,3,4])\n",
    "print(x)\n",
    "print(x.dtype)\n",
    "\n",
    "print()\n",
    "\n",
    "y = x.astype(float)\n",
    "print(y)\n",
    "print(y.dtype)"
   ]
  },
  {
   "cell_type": "code",
   "execution_count": null,
   "id": "3d094bcd",
   "metadata": {},
   "outputs": [],
   "source": []
  },
  {
   "cell_type": "markdown",
   "id": "6a4de333",
   "metadata": {},
   "source": [
    "**8. Arithmetic operations: by operator or, by keyword**"
   ]
  },
  {
   "cell_type": "code",
   "execution_count": 77,
   "id": "75df0a6c",
   "metadata": {},
   "outputs": [
    {
     "name": "stdout",
     "output_type": "stream",
     "text": [
      "[3 5 5 7]\n",
      "[3 5 5 7]\n"
     ]
    }
   ],
   "source": [
    "a = np.array([1,2,3,4])\n",
    "b = np.array([2,3,2,3])\n",
    "print(a+b)\n",
    "print(np.add(a,b))"
   ]
  },
  {
   "cell_type": "code",
   "execution_count": 78,
   "id": "31a5bfef",
   "metadata": {},
   "outputs": [
    {
     "name": "stdout",
     "output_type": "stream",
     "text": [
      "[-1 -1  1  1]\n",
      "[-1 -1  1  1]\n"
     ]
    }
   ],
   "source": [
    "print(a-b)\n",
    "print(np.subtract(a,b))"
   ]
  },
  {
   "cell_type": "code",
   "execution_count": 79,
   "id": "ff927a8f",
   "metadata": {},
   "outputs": [
    {
     "name": "stdout",
     "output_type": "stream",
     "text": [
      "[ 2  6  6 12]\n",
      "[ 2  6  6 12]\n"
     ]
    }
   ],
   "source": [
    "print(a*b)\n",
    "print(np.multiply(a,b))"
   ]
  },
  {
   "cell_type": "code",
   "execution_count": 80,
   "id": "2e68e54c",
   "metadata": {},
   "outputs": [
    {
     "name": "stdout",
     "output_type": "stream",
     "text": [
      "[0.5        0.66666667 1.5        1.33333333]\n",
      "[0.5        0.66666667 1.5        1.33333333]\n"
     ]
    }
   ],
   "source": [
    "print(a/b)\n",
    "print(np.divide(a,b))"
   ]
  },
  {
   "cell_type": "code",
   "execution_count": 81,
   "id": "5627b1e1",
   "metadata": {},
   "outputs": [
    {
     "name": "stdout",
     "output_type": "stream",
     "text": [
      "[ 1  8  9 64]\n",
      "[ 1  8  9 64]\n"
     ]
    }
   ],
   "source": [
    "print(a**b)\n",
    "print(np.power(a,b))"
   ]
  },
  {
   "cell_type": "code",
   "execution_count": 85,
   "id": "81e40af2",
   "metadata": {},
   "outputs": [
    {
     "name": "stdout",
     "output_type": "stream",
     "text": [
      "[1 2 1 1]\n",
      "[1 2 1 1]\n"
     ]
    }
   ],
   "source": [
    "print(a%b)\n",
    "print(np.mod(a,b))"
   ]
  },
  {
   "cell_type": "code",
   "execution_count": 86,
   "id": "7bb828ee",
   "metadata": {},
   "outputs": [
    {
     "name": "stdout",
     "output_type": "stream",
     "text": [
      "[1.         0.5        0.33333333 0.25      ]\n",
      "[1 0 0 0]\n"
     ]
    }
   ],
   "source": [
    "print(1/a)\n",
    "print(np.reciprocal(a))"
   ]
  },
  {
   "cell_type": "code",
   "execution_count": 89,
   "id": "31889de5",
   "metadata": {},
   "outputs": [
    {
     "name": "stdout",
     "output_type": "stream",
     "text": [
      "[[2 4 6]\n",
      " [6 4 2]]\n",
      "[[0 0 0]\n",
      " [0 0 0]]\n",
      "[[1 4 9]\n",
      " [9 4 1]]\n",
      "[[1. 1. 1.]\n",
      " [1. 1. 1.]]\n",
      "[[0 0 0]\n",
      " [0 0 0]]\n",
      "[[ 1  4 27]\n",
      " [27  4  1]]\n"
     ]
    }
   ],
   "source": [
    "a2 = np.array([[1,2,3], [3,2,1]])\n",
    "b2 = np.array([[1,2,3], [3,2,1]])\n",
    "print(a2+b2)\n",
    "print(a2-b2)\n",
    "print(a2*b2)\n",
    "print(a2/b2)\n",
    "print(a2%b2)\n",
    "print(a2**b2)"
   ]
  },
  {
   "cell_type": "code",
   "execution_count": null,
   "id": "04a4bd47",
   "metadata": {},
   "outputs": [],
   "source": []
  },
  {
   "cell_type": "markdown",
   "id": "638115f8",
   "metadata": {},
   "source": [
    "**9. Arithmetic Functions:**"
   ]
  },
  {
   "cell_type": "code",
   "execution_count": 94,
   "id": "c10e1d03",
   "metadata": {},
   "outputs": [
    {
     "name": "stdout",
     "output_type": "stream",
     "text": [
      "[ 2  3 12 45 67]\n",
      "67\n",
      "2\n",
      "0\n",
      "4\n",
      "[ 0.90929743  0.14112001 -0.53657292  0.85090352 -0.85551998]\n",
      "[-0.41614684 -0.9899925   0.84385396  0.52532199 -0.5177698 ]\n",
      "[  2   5  17  62 129]\n",
      "[1.41421356 1.73205081 3.46410162 6.70820393 8.18535277]\n",
      "2.0\n"
     ]
    }
   ],
   "source": [
    "a = np.array([2,3,12,45,67])\n",
    "print(a)\n",
    "\n",
    "print(np.max(a))\n",
    "\n",
    "print(np.min(a))\n",
    "\n",
    "print(np.argmin(a))\n",
    "\n",
    "print(np.argmax(a))\n",
    "\n",
    "print(np.sin(a))\n",
    "\n",
    "print(np.cos(a))\n",
    "\n",
    "print(np.cumsum(a))\n",
    "\n",
    "print(np.sqrt(a))\n",
    "print(np.sqrt(4))"
   ]
  },
  {
   "cell_type": "code",
   "execution_count": null,
   "id": "fb395e52",
   "metadata": {},
   "outputs": [],
   "source": []
  },
  {
   "cell_type": "markdown",
   "id": "94e61909",
   "metadata": {},
   "source": [
    "**10. Broadcasting Numpy arrays:**"
   ]
  },
  {
   "cell_type": "markdown",
   "id": "02d68b40",
   "metadata": {},
   "source": [
    "**if (size of corresponding dimensions should be same or atleast one of them is 1) -> should be true for all sizes of dimensions from l to r**"
   ]
  },
  {
   "cell_type": "code",
   "execution_count": 2,
   "id": "91412a07",
   "metadata": {},
   "outputs": [
    {
     "name": "stdout",
     "output_type": "stream",
     "text": [
      "[1 2 3]\n",
      "[1 2 3 4]\n",
      "\n"
     ]
    },
    {
     "ename": "ValueError",
     "evalue": "operands could not be broadcast together with shapes (3,) (4,) ",
     "output_type": "error",
     "traceback": [
      "\u001b[1;31m---------------------------------------------------------------------------\u001b[0m",
      "\u001b[1;31mValueError\u001b[0m                                Traceback (most recent call last)",
      "Cell \u001b[1;32mIn [2], line 6\u001b[0m\n\u001b[0;32m      4\u001b[0m \u001b[38;5;28mprint\u001b[39m(n2)\n\u001b[0;32m      5\u001b[0m \u001b[38;5;28mprint\u001b[39m()\n\u001b[1;32m----> 6\u001b[0m \u001b[38;5;28mprint\u001b[39m(\u001b[43mn1\u001b[49m\u001b[38;5;241;43m+\u001b[39;49m\u001b[43mn2\u001b[49m)\n",
      "\u001b[1;31mValueError\u001b[0m: operands could not be broadcast together with shapes (3,) (4,) "
     ]
    }
   ],
   "source": [
    "n1 = np.array([1,2,3])\n",
    "print(n1)\n",
    "n2 = np.array([1,2,3,4])\n",
    "print(n2)\n",
    "print()\n",
    "\n",
    "#gives broadcasting error : as number of elements does not match\n",
    "print(n1+n2)"
   ]
  },
  {
   "cell_type": "code",
   "execution_count": 4,
   "id": "69e18290",
   "metadata": {},
   "outputs": [
    {
     "name": "stdout",
     "output_type": "stream",
     "text": [
      "[1 2 3]\n",
      "(3,)\n",
      "\n",
      "[[1]\n",
      " [2]\n",
      " [3]]\n",
      "(3, 1)\n",
      "\n",
      "[[2 3 4]\n",
      " [3 4 5]\n",
      " [4 5 6]]\n"
     ]
    }
   ],
   "source": [
    "#if 2 arrays are: 1x3 and 3x1 or, 2x1 and 5x2, or, 3x1 and 2x1 , i.e. -> the number second part of multiplication number can be both 1 or atleat one\n",
    "\n",
    "n1 = np.array([1,2,3])\n",
    "print(n1)\n",
    "print(n1.shape)\n",
    "print()\n",
    "\n",
    "n2 = np.array([[1],[2],[3]])\n",
    "print(n2)\n",
    "print(n2.shape)\n",
    "print()\n",
    "\n",
    "print(n1+n2)"
   ]
  },
  {
   "cell_type": "code",
   "execution_count": 21,
   "id": "bd92d638",
   "metadata": {},
   "outputs": [
    {
     "name": "stdout",
     "output_type": "stream",
     "text": [
      "[[1 2]\n",
      " [2 3]]\n",
      "(2, 2)\n",
      "\n",
      "[[1 2]\n",
      " [2 2]]\n",
      "(2, 2)\n",
      "\n",
      "[[2 4]\n",
      " [4 5]]\n"
     ]
    }
   ],
   "source": [
    "n1 = np.array([[1,2], [2,3]])\n",
    "print(n1)\n",
    "print(n1.shape)\n",
    "\n",
    "print()\n",
    "\n",
    "n2 = np.array([[1,2], [2,2]])\n",
    "print(n2)\n",
    "print(n2.shape)\n",
    "\n",
    "print()\n",
    "\n",
    "print(n1+n2)"
   ]
  },
  {
   "cell_type": "code",
   "execution_count": 41,
   "id": "684e0510",
   "metadata": {},
   "outputs": [
    {
     "name": "stdout",
     "output_type": "stream",
     "text": [
      "[[1 2 3]\n",
      " [2 3 2]]\n",
      "(2, 3)\n",
      "\n",
      "[1 2 3]\n",
      "(3,)\n",
      "\n",
      "[[2 4 6]\n",
      " [3 5 5]]\n"
     ]
    }
   ],
   "source": [
    "n1 = np.array([[1,2,3], [2,3,2]])\n",
    "print(n1)\n",
    "print(n1.shape)\n",
    "\n",
    "print()\n",
    "\n",
    "n2 = np.array([1,2,3])\n",
    "print(n2)\n",
    "print(n2.shape)\n",
    "\n",
    "print()\n",
    "\n",
    "print(n1+n2)"
   ]
  },
  {
   "cell_type": "code",
   "execution_count": 44,
   "id": "872d4609",
   "metadata": {},
   "outputs": [
    {
     "name": "stdout",
     "output_type": "stream",
     "text": [
      "[[1 2 3]]\n",
      "(1, 3)\n",
      "\n",
      "[[1 2 3]\n",
      " [2 2 2]]\n",
      "(2, 3)\n",
      "\n",
      "[[2 4 6]\n",
      " [3 4 5]]\n"
     ]
    }
   ],
   "source": [
    "n1 = np.array([[1,2,3]])\n",
    "print(n1)\n",
    "print(n1.shape)\n",
    "\n",
    "print()\n",
    "\n",
    "n2 = np.array([[1,2,3], [2,2,2]])\n",
    "print(n2)\n",
    "print(n2.shape)\n",
    "\n",
    "print()\n",
    "\n",
    "print(n1+n2)"
   ]
  },
  {
   "cell_type": "code",
   "execution_count": 27,
   "id": "6608aaf1",
   "metadata": {},
   "outputs": [
    {
     "name": "stdout",
     "output_type": "stream",
     "text": [
      "[[1 2 3 4 5]\n",
      " [2 3 2 2 2]]\n",
      "(2, 5)\n",
      "\n",
      "[1 2 3 4 5]\n",
      "(5,)\n",
      "\n",
      "[[ 2  4  6  8 10]\n",
      " [ 3  5  5  6  7]]\n"
     ]
    }
   ],
   "source": [
    "n1 = np.array([[1,2,3,4,5], [2,3,2,2,2]])\n",
    "print(n1)\n",
    "print(n1.shape)\n",
    "\n",
    "print()\n",
    "\n",
    "n2 = np.array([1,2,3,4,5])\n",
    "print(n2)\n",
    "print(n2.shape)\n",
    "\n",
    "print()\n",
    "\n",
    "print(n1+n2)"
   ]
  },
  {
   "cell_type": "code",
   "execution_count": 30,
   "id": "ac70dfbc",
   "metadata": {},
   "outputs": [
    {
     "name": "stdout",
     "output_type": "stream",
     "text": [
      "[[1 2]\n",
      " [2 3]\n",
      " [1 2]]\n",
      "(3, 2)\n",
      "\n",
      "[1 2]\n",
      "(2,)\n",
      "\n",
      "[[2 4]\n",
      " [3 5]\n",
      " [2 4]]\n"
     ]
    }
   ],
   "source": [
    "n1 = np.array([[1,2], [2,3], [1,2]])\n",
    "print(n1)\n",
    "print(n1.shape)\n",
    "\n",
    "print()\n",
    "\n",
    "n2 = np.array([1,2])\n",
    "print(n2)\n",
    "print(n2.shape)\n",
    "\n",
    "print()\n",
    "\n",
    "print(n1+n2)"
   ]
  },
  {
   "cell_type": "code",
   "execution_count": 3,
   "id": "2c616f76",
   "metadata": {},
   "outputs": [
    {
     "name": "stdout",
     "output_type": "stream",
     "text": [
      "[[1 2]]\n",
      "(1, 2)\n",
      "\n",
      "[[1 2]\n",
      " [2 3]]\n",
      "(2, 2)\n",
      "\n",
      "[[2 4]\n",
      " [3 5]]\n"
     ]
    }
   ],
   "source": [
    "n1 = np.array([[1,2]])\n",
    "print(n1)\n",
    "print(n1.shape)\n",
    "\n",
    "print()\n",
    "\n",
    "n2 = np.array([[1,2],[2,3]])\n",
    "print(n2)\n",
    "print(n2.shape)\n",
    "\n",
    "print()\n",
    "\n",
    "print(n1+n2)"
   ]
  },
  {
   "cell_type": "code",
   "execution_count": 7,
   "id": "c40b249a",
   "metadata": {},
   "outputs": [
    {
     "name": "stdout",
     "output_type": "stream",
     "text": [
      "[[1 2]\n",
      " [2 4]\n",
      " [5 6]]\n",
      "(3, 2)\n",
      "\n",
      "[1 2 3]\n",
      "(3,)\n",
      "\n"
     ]
    },
    {
     "ename": "ValueError",
     "evalue": "operands could not be broadcast together with shapes (3,2) (3,) ",
     "output_type": "error",
     "traceback": [
      "\u001b[1;31m---------------------------------------------------------------------------\u001b[0m",
      "\u001b[1;31mValueError\u001b[0m                                Traceback (most recent call last)",
      "Cell \u001b[1;32mIn [7], line 13\u001b[0m\n\u001b[0;32m      9\u001b[0m \u001b[38;5;28mprint\u001b[39m(n2\u001b[38;5;241m.\u001b[39mshape)\n\u001b[0;32m     11\u001b[0m \u001b[38;5;28mprint\u001b[39m()\n\u001b[1;32m---> 13\u001b[0m \u001b[38;5;28mprint\u001b[39m(\u001b[43mn1\u001b[49m\u001b[38;5;241;43m+\u001b[39;49m\u001b[43mn2\u001b[49m)\n",
      "\u001b[1;31mValueError\u001b[0m: operands could not be broadcast together with shapes (3,2) (3,) "
     ]
    }
   ],
   "source": [
    "n1 = np.array([[1,2], [2,4], [5,6]])\n",
    "print(n1)\n",
    "print(n1.shape)\n",
    "\n",
    "print()\n",
    "\n",
    "n2 = np.array([1,2,3])\n",
    "print(n2)\n",
    "print(n2.shape)\n",
    "\n",
    "print()\n",
    "\n",
    "print(n1+n2)"
   ]
  },
  {
   "cell_type": "code",
   "execution_count": 8,
   "id": "b088588c",
   "metadata": {},
   "outputs": [
    {
     "name": "stdout",
     "output_type": "stream",
     "text": [
      "[[1 2]\n",
      " [2 4]\n",
      " [5 6]]\n",
      "(3, 2)\n",
      "\n",
      "[1 2]\n",
      "(2,)\n",
      "\n",
      "[[2 4]\n",
      " [3 6]\n",
      " [6 8]]\n"
     ]
    }
   ],
   "source": [
    "n1 = np.array([[1,2], [2,4], [5,6]])\n",
    "print(n1)\n",
    "print(n1.shape)\n",
    "\n",
    "print()\n",
    "\n",
    "n2 = np.array([1,2])\n",
    "print(n2)\n",
    "print(n2.shape)\n",
    "\n",
    "print()\n",
    "\n",
    "print(n1+n2)"
   ]
  },
  {
   "cell_type": "markdown",
   "id": "de00b6c7",
   "metadata": {},
   "source": [
    "**11. Indexing and slicing**"
   ]
  },
  {
   "cell_type": "code",
   "execution_count": 59,
   "id": "d9c61525",
   "metadata": {},
   "outputs": [
    {
     "name": "stdout",
     "output_type": "stream",
     "text": [
      "[ 2  4 12 43 11]\n",
      "1\n",
      "(5,)\n"
     ]
    }
   ],
   "source": [
    "n1 = np.array([2,4,12,43,11])\n",
    "print(n1)\n",
    "print(n1.ndim)\n",
    "print(n1.shape)"
   ]
  },
  {
   "cell_type": "code",
   "execution_count": 63,
   "id": "2b26ae63",
   "metadata": {},
   "outputs": [
    {
     "name": "stdout",
     "output_type": "stream",
     "text": [
      "12\n",
      "11\n",
      "\n",
      "[ 4 12]\n",
      "[ 2 12 11]\n"
     ]
    }
   ],
   "source": [
    "print(n1[2])\n",
    "print(n1[4])\n",
    "\n",
    "print()\n",
    "\n",
    "print(n1[1:3])\n",
    "print(n1[0:len(n1):2])"
   ]
  },
  {
   "cell_type": "code",
   "execution_count": 64,
   "id": "3cf0af45",
   "metadata": {},
   "outputs": [
    {
     "name": "stdout",
     "output_type": "stream",
     "text": [
      "[[[1 2 3]\n",
      "  [2 3 4]\n",
      "  [3 4 5]]]\n",
      "3\n",
      "(1, 3, 3)\n"
     ]
    }
   ],
   "source": [
    "n1 = np.array([[[1,2,3],[2,3,4],[3,4,5]]])\n",
    "print(n1)\n",
    "print(n1.ndim)\n",
    "print(n1.shape)"
   ]
  },
  {
   "cell_type": "code",
   "execution_count": 68,
   "id": "374ee151",
   "metadata": {},
   "outputs": [
    {
     "name": "stdout",
     "output_type": "stream",
     "text": [
      "3\n",
      "5\n",
      "\n",
      "[1 2]\n",
      "[2 3 4]\n",
      "[4 5]\n"
     ]
    }
   ],
   "source": [
    "print(n1[0,0,2])\n",
    "print(n1[0,2,2])\n",
    "\n",
    "print()\n",
    "\n",
    "print(n1[0,0,0:2])\n",
    "print(n1[0,1,0:3])\n",
    "print(n1[0,2,1:3])"
   ]
  },
  {
   "cell_type": "code",
   "execution_count": null,
   "id": "136e4125",
   "metadata": {},
   "outputs": [],
   "source": []
  },
  {
   "cell_type": "markdown",
   "id": "99ba3a32",
   "metadata": {},
   "source": [
    "**12. Loop or iterating in nd array**"
   ]
  },
  {
   "cell_type": "code",
   "execution_count": 70,
   "id": "e6277082",
   "metadata": {},
   "outputs": [
    {
     "name": "stdout",
     "output_type": "stream",
     "text": [
      "[ 2  4 12 43 11]\n",
      "1\n",
      "(5,)\n",
      "\n",
      "2\n",
      "4\n",
      "12\n",
      "43\n",
      "11\n"
     ]
    }
   ],
   "source": [
    "n1 = np.array([2,4,12,43,11])\n",
    "print(n1)\n",
    "print(n1.ndim)\n",
    "print(n1.shape)\n",
    "\n",
    "print()\n",
    "\n",
    "for i in n1:\n",
    "    print(i)"
   ]
  },
  {
   "cell_type": "code",
   "execution_count": 74,
   "id": "95b84a1a",
   "metadata": {},
   "outputs": [
    {
     "name": "stdout",
     "output_type": "stream",
     "text": [
      "[[[1 2 3]\n",
      "  [2 3 4]\n",
      "  [3 4 5]]]\n",
      "3\n",
      "(1, 3, 3)\n",
      "\n",
      "1\n",
      "2\n",
      "3\n",
      "2\n",
      "3\n",
      "4\n",
      "3\n",
      "4\n",
      "5\n"
     ]
    }
   ],
   "source": [
    "n1 = np.array([[[1,2,3],[2,3,4],[3,4,5]]])\n",
    "print(n1)\n",
    "print(n1.ndim)\n",
    "print(n1.shape)\n",
    "\n",
    "print()\n",
    "\n",
    "for i in n1:\n",
    "    for j in i:\n",
    "        for k in j:\n",
    "            print(k)"
   ]
  },
  {
   "cell_type": "code",
   "execution_count": 77,
   "id": "83a91d99",
   "metadata": {},
   "outputs": [
    {
     "name": "stdout",
     "output_type": "stream",
     "text": [
      "[[[1 2 3]\n",
      "  [2 3 4]\n",
      "  [3 4 5]]]\n",
      "3\n",
      "(1, 3, 3)\n",
      "\n",
      "1\n",
      "2\n",
      "3\n",
      "2\n",
      "3\n",
      "4\n",
      "3\n",
      "4\n",
      "5\n"
     ]
    }
   ],
   "source": [
    "n1 = np.array([[[1,2,3],[2,3,4],[3,4,5]]])\n",
    "print(n1)\n",
    "print(n1.ndim)\n",
    "print(n1.shape)\n",
    "\n",
    "print()\n",
    "\n",
    "for i in n1:\n",
    "    for j in i:\n",
    "        for k in j:\n",
    "            print(k)"
   ]
  },
  {
   "cell_type": "markdown",
   "id": "80c312b4",
   "metadata": {},
   "source": [
    "**note: nditer() -> some confusing to implement as have many parameters**"
   ]
  },
  {
   "cell_type": "code",
   "execution_count": null,
   "id": "7cf925bc",
   "metadata": {},
   "outputs": [],
   "source": []
  },
  {
   "cell_type": "markdown",
   "id": "a15fa6c9",
   "metadata": {},
   "source": [
    "**13. Copy vs View in numpy array**"
   ]
  },
  {
   "cell_type": "markdown",
   "id": "07658e49",
   "metadata": {},
   "source": [
    "**copy() -> owns the data; creates a new array; any change in new array will not reflect in original array**\n",
    "\n",
    "**view() -> does not owns the data; does not craetes new array, points to original array; any change will reflect in both array**"
   ]
  },
  {
   "cell_type": "code",
   "execution_count": 85,
   "id": "5456332f",
   "metadata": {},
   "outputs": [
    {
     "name": "stdout",
     "output_type": "stream",
     "text": [
      "[ 2  5 11 15 23]\n",
      "\n",
      "[ 2  5 11 15 23]\n",
      "\n",
      "[ 2  5 11 15 23]\n"
     ]
    }
   ],
   "source": [
    "n1 = np.array([2,5,11,15,23])\n",
    "print(n1)\n",
    "\n",
    "print()\n",
    "\n",
    "n2 = n1.copy()\n",
    "print(n2)\n",
    "\n",
    "print()\n",
    "\n",
    "n3 = n1.view()\n",
    "print(n3)"
   ]
  },
  {
   "cell_type": "code",
   "execution_count": 86,
   "id": "bd920641",
   "metadata": {},
   "outputs": [
    {
     "name": "stdout",
     "output_type": "stream",
     "text": [
      "n1:  [ 2  5 11 15 23]\n",
      "n2:  [ 2  5 11 55 23]\n"
     ]
    }
   ],
   "source": [
    "n2[3] = 55\n",
    "print(\"n1: \", n1)\n",
    "print(\"n2: \", n2)"
   ]
  },
  {
   "cell_type": "code",
   "execution_count": 87,
   "id": "856f7ad0",
   "metadata": {},
   "outputs": [
    {
     "name": "stdout",
     "output_type": "stream",
     "text": [
      "n1:  [ 2  5 11 67 23]\n",
      "n3:  [ 2  5 11 67 23]\n"
     ]
    }
   ],
   "source": [
    "n3[3] = 67\n",
    "print(\"n1: \", n1)\n",
    "print(\"n3: \", n3)"
   ]
  },
  {
   "cell_type": "code",
   "execution_count": null,
   "id": "4a1b8391",
   "metadata": {},
   "outputs": [],
   "source": []
  },
  {
   "cell_type": "markdown",
   "id": "f24b2f1c",
   "metadata": {},
   "source": [
    "**14. join numpy arrays**"
   ]
  },
  {
   "cell_type": "code",
   "execution_count": 94,
   "id": "b3d82290",
   "metadata": {},
   "outputs": [
    {
     "name": "stdout",
     "output_type": "stream",
     "text": [
      "[ 2  5 11 15 23]\n",
      "[ 2  5 11 15 23 55 66 77]\n"
     ]
    }
   ],
   "source": [
    "n1 = np.array([2,5,11,15,23])\n",
    "print(n1)\n",
    "\n",
    "n2 = np.concatenate((n1, [55,66,77]))\n",
    "print(n2)"
   ]
  },
  {
   "cell_type": "code",
   "execution_count": 101,
   "id": "2fdc0ed5",
   "metadata": {},
   "outputs": [
    {
     "name": "stdout",
     "output_type": "stream",
     "text": [
      "[[1 2 3]\n",
      " [2 3 4]]\n",
      "\n",
      "[[2 2 2]\n",
      " [3 3 3]]\n",
      "\n",
      "[[1 2 3]\n",
      " [2 3 4]\n",
      " [2 2 2]\n",
      " [3 3 3]]\n",
      "\n",
      "[[1 2 3 2 2 2]\n",
      " [2 3 4 3 3 3]]\n"
     ]
    }
   ],
   "source": [
    "#using concatenate()-> to join arrays\n",
    "n2 = np.array(([1,2,3], [2,3,4]))\n",
    "print(n2)\n",
    "\n",
    "print()\n",
    "\n",
    "n3 = np.array([[2,2,2], [3,3,3]])\n",
    "print(n3)\n",
    "\n",
    "print()\n",
    "\n",
    "n4 = np.concatenate((n2,n3))\n",
    "print(n4)\n",
    "\n",
    "print()\n",
    "\n",
    "n5 = np.concatenate((n2,n3), axis=1)\n",
    "print(n5)"
   ]
  },
  {
   "cell_type": "code",
   "execution_count": 105,
   "id": "a41f2487",
   "metadata": {},
   "outputs": [
    {
     "name": "stdout",
     "output_type": "stream",
     "text": [
      "[[[1 2 3]\n",
      "  [2 3 4]]\n",
      "\n",
      " [[2 2 2]\n",
      "  [3 3 3]]]\n",
      "\n",
      "[[1 2 3 2 2 2]\n",
      " [2 3 4 3 3 3]]\n",
      "\n",
      "[[1 2 3]\n",
      " [2 3 4]\n",
      " [2 2 2]\n",
      " [3 3 3]]\n",
      "\n",
      "[[[1 2]\n",
      "  [2 2]\n",
      "  [3 2]]\n",
      "\n",
      " [[2 3]\n",
      "  [3 3]\n",
      "  [4 3]]]\n"
     ]
    }
   ],
   "source": [
    "#stack() -> to maintain arrays like in stack\n",
    "n6 = np.stack((n2,n3))\n",
    "print(n6)\n",
    "\n",
    "print()\n",
    "\n",
    "n7 = np.hstack((n2,n3))\n",
    "print(n7)\n",
    "\n",
    "print()\n",
    "\n",
    "n8 = np.vstack((n2,n3))\n",
    "print(n8)\n",
    "\n",
    "print()\n",
    "\n",
    "n9 = np.dstack((n2,n3))\n",
    "print(n9)"
   ]
  },
  {
   "cell_type": "code",
   "execution_count": null,
   "id": "b618e774",
   "metadata": {},
   "outputs": [],
   "source": []
  },
  {
   "cell_type": "markdown",
   "id": "20ebc659",
   "metadata": {},
   "source": [
    "**array_split() -> to split the array**"
   ]
  },
  {
   "cell_type": "code",
   "execution_count": 113,
   "id": "36358c23",
   "metadata": {},
   "outputs": [
    {
     "name": "stdout",
     "output_type": "stream",
     "text": [
      "[2 3 4 5 6 7 8]\n",
      "[array([2, 3, 4, 5]), array([6, 7, 8])]\n",
      "[2 3 4 5]\n",
      "<class 'list'>\n"
     ]
    }
   ],
   "source": [
    "n1 = np.array([2,3,4,5,6,7,8])\n",
    "print(n1)\n",
    "n2 = np.array_split(n1,2)\n",
    "print(n2)\n",
    "print(n2[0])\n",
    "print(type(n2))"
   ]
  },
  {
   "cell_type": "code",
   "execution_count": 115,
   "id": "b964f1d2",
   "metadata": {},
   "outputs": [
    {
     "name": "stdout",
     "output_type": "stream",
     "text": [
      "[[1 2 3]\n",
      " [3 4 5]]\n",
      "[array([[1, 2, 3]]), array([[3, 4, 5]]), array([], shape=(0, 3), dtype=int32)]\n",
      "[[3 4 5]]\n"
     ]
    }
   ],
   "source": [
    "n1 = np.array([[1,2,3], [3,4,5]])\n",
    "print(n1)\n",
    "n2 = np.array_split(n1,3)\n",
    "print(n2)\n",
    "print(n2[1])"
   ]
  },
  {
   "cell_type": "code",
   "execution_count": null,
   "id": "ef891568",
   "metadata": {},
   "outputs": [],
   "source": []
  },
  {
   "cell_type": "markdown",
   "id": "d35cd5a9",
   "metadata": {},
   "source": [
    "**15. numpy array functions**"
   ]
  },
  {
   "cell_type": "markdown",
   "id": "ee75f8c1",
   "metadata": {},
   "source": [
    "**where() -> to search the index of elements**"
   ]
  },
  {
   "cell_type": "code",
   "execution_count": 122,
   "id": "2f0c9bda",
   "metadata": {},
   "outputs": [
    {
     "name": "stdout",
     "output_type": "stream",
     "text": [
      "[[1 2 3]\n",
      " [3 4 5]]\n",
      "\n",
      "(array([1], dtype=int64), array([1], dtype=int64))\n",
      "(array([0], dtype=int64), array([0], dtype=int64))\n"
     ]
    }
   ],
   "source": [
    "n1 = np.array([[1,2,3], [3,4,5]])\n",
    "print(n1)\n",
    "\n",
    "print()\n",
    "\n",
    "#1st row and 1st column\n",
    "n2 = np.where(n1 == 4)\n",
    "print(n2)\n",
    "\n",
    "#0th row and 0th column\n",
    "n3 = np.where(n1 == 1)\n",
    "print(n3)"
   ]
  },
  {
   "cell_type": "code",
   "execution_count": 128,
   "id": "2a7d7c49",
   "metadata": {},
   "outputs": [
    {
     "name": "stdout",
     "output_type": "stream",
     "text": [
      "[1 2 3 4 2 1 2 5 6 2 1]\n",
      "(array([1, 4, 6, 9], dtype=int64),)\n",
      "\n",
      "(array([ 0,  2,  5,  7, 10], dtype=int64),)\n"
     ]
    }
   ],
   "source": [
    "n1 = np.array([1,2,3,4,2,1,2,5,6,2,1])\n",
    "print(n1)\n",
    "\n",
    "n2 = np.where(n1 == 2)\n",
    "print(n2)\n",
    "print()\n",
    "n3 = np.where(n1%2 == 1)\n",
    "print(n3)"
   ]
  },
  {
   "cell_type": "code",
   "execution_count": null,
   "id": "af8808da",
   "metadata": {},
   "outputs": [],
   "source": []
  },
  {
   "cell_type": "markdown",
   "id": "bf84aeeb",
   "metadata": {},
   "source": [
    "**searchsorted() -> performs binary search to find the right index to insert the element**"
   ]
  },
  {
   "cell_type": "code",
   "execution_count": 133,
   "id": "7001c9d8",
   "metadata": {},
   "outputs": [
    {
     "name": "stdout",
     "output_type": "stream",
     "text": [
      "[1 3 4 6 8]\n",
      "[3 1]\n"
     ]
    }
   ],
   "source": [
    "n1 = np.array([1,3,4,6,8])\n",
    "print(n1)\n",
    "\n",
    "n2 = np.searchsorted(n1,[5,2])\n",
    "print(n2)"
   ]
  },
  {
   "cell_type": "code",
   "execution_count": null,
   "id": "c614b042",
   "metadata": {},
   "outputs": [],
   "source": []
  },
  {
   "cell_type": "markdown",
   "id": "75cbfab5",
   "metadata": {},
   "source": [
    "**sort()**"
   ]
  },
  {
   "cell_type": "code",
   "execution_count": 135,
   "id": "c7491282",
   "metadata": {},
   "outputs": [
    {
     "name": "stdout",
     "output_type": "stream",
     "text": [
      "['b' 'a' 'z' 'd' 'h']\n",
      "\n",
      "['a' 'b' 'd' 'h' 'z']\n"
     ]
    }
   ],
   "source": [
    "n1 = np.array(['b', 'a', 'z', 'd', 'h'])\n",
    "print(n1)\n",
    "\n",
    "print()\n",
    "\n",
    "n2 = np.sort(n1)\n",
    "print(n2)"
   ]
  },
  {
   "cell_type": "code",
   "execution_count": null,
   "id": "dd4ff3cf",
   "metadata": {},
   "outputs": [],
   "source": []
  },
  {
   "cell_type": "code",
   "execution_count": 144,
   "id": "0ebe41d1",
   "metadata": {},
   "outputs": [
    {
     "name": "stdout",
     "output_type": "stream",
     "text": [
      "['b' 'a' 'z' 'd' 'h']\n",
      "[True, False, False, True, False]\n",
      "['b' 'd']\n"
     ]
    }
   ],
   "source": [
    "#filtering the items\n",
    "n1 = np.array(['b', 'a', 'z', 'd', 'h'])\n",
    "print(n1)\n",
    "n2 = [True, False, False, True, False]\n",
    "print(n2)\n",
    "\n",
    "#will apply true/false filter to main array to get only required values\n",
    "n3 = n1[n2]\n",
    "print(n3)"
   ]
  },
  {
   "cell_type": "code",
   "execution_count": null,
   "id": "06d0a3f8",
   "metadata": {},
   "outputs": [],
   "source": [
    "shuffle(), unique(), flatten(), ravel()"
   ]
  },
  {
   "cell_type": "code",
   "execution_count": null,
   "id": "a6896747",
   "metadata": {},
   "outputs": [],
   "source": []
  },
  {
   "cell_type": "markdown",
   "id": "66d4a139",
   "metadata": {},
   "source": [
    "**16. insert(), delete()**"
   ]
  },
  {
   "cell_type": "code",
   "execution_count": 154,
   "id": "33e6b5f7",
   "metadata": {},
   "outputs": [
    {
     "name": "stdout",
     "output_type": "stream",
     "text": [
      "[ 2  6 12 45 11]\n",
      "[ 2  6 88 12 45 11]\n",
      "[ 2 51  6 51 12 45 11 51]\n",
      "[ 2  6  9 12 45 11  8]\n"
     ]
    }
   ],
   "source": [
    "n1 = np.array([2,6,12,45,11])\n",
    "print(n1)\n",
    "\n",
    "#index number and the element to insert\n",
    "n2 = np.insert(n1, 2, 88)\n",
    "print(n2)\n",
    "\n",
    "n3 = np.insert(n1, (2,5,1), 51)\n",
    "print(n3)\n",
    "\n",
    "n4 = np.insert(n1, (2,5), (9,8))\n",
    "print(n4)"
   ]
  },
  {
   "cell_type": "code",
   "execution_count": 153,
   "id": "cd3ca0aa",
   "metadata": {},
   "outputs": [
    {
     "name": "stdout",
     "output_type": "stream",
     "text": [
      "[ 2 51  6 51 45 11 51]\n"
     ]
    }
   ],
   "source": [
    "#on basis of index number\n",
    "n4 = np.delete(n3,4)\n",
    "print(n4)\n"
   ]
  },
  {
   "cell_type": "code",
   "execution_count": 159,
   "id": "6fabf713",
   "metadata": {},
   "outputs": [
    {
     "name": "stdout",
     "output_type": "stream",
     "text": [
      "[[1 2 3]\n",
      " [3 4 5]]\n",
      "[ 1 55 55  2  3  3  4  5]\n",
      "[[ 1  2  3]\n",
      " [55 55 55]\n",
      " [55 55 55]\n",
      " [ 3  4  5]]\n"
     ]
    }
   ],
   "source": [
    "n1 = np.array([[1,2,3], [3,4,5]])\n",
    "print(n1)\n",
    "\n",
    "n2 = np.insert(n1, (1,1), (55))\n",
    "print(n2)\n",
    "\n",
    "n3 = np.insert(n1, (1,1), (55), axis=0)\n",
    "print(n3)"
   ]
  },
  {
   "cell_type": "code",
   "execution_count": null,
   "id": "5e7d935b",
   "metadata": {},
   "outputs": [],
   "source": []
  },
  {
   "cell_type": "code",
   "execution_count": null,
   "id": "089f25a3",
   "metadata": {},
   "outputs": [],
   "source": [
    "matrix dtype and matrix vs array, add and mult. in matrix is different-> transpose, swapaxes, power, determinate, inverse, power"
   ]
  },
  {
   "cell_type": "code",
   "execution_count": null,
   "id": "6121d4d3",
   "metadata": {},
   "outputs": [],
   "source": []
  }
 ],
 "metadata": {
  "kernelspec": {
   "display_name": "Python 3 (ipykernel)",
   "language": "python",
   "name": "python3"
  },
  "language_info": {
   "codemirror_mode": {
    "name": "ipython",
    "version": 3
   },
   "file_extension": ".py",
   "mimetype": "text/x-python",
   "name": "python",
   "nbconvert_exporter": "python",
   "pygments_lexer": "ipython3",
   "version": "3.11.3"
  }
 },
 "nbformat": 4,
 "nbformat_minor": 5
}
