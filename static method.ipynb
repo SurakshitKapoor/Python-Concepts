{
 "cells": [
  {
   "cell_type": "code",
   "execution_count": 1,
   "id": "16fe655d",
   "metadata": {},
   "outputs": [],
   "source": [
    "#static method:\n"
   ]
  },
  {
   "cell_type": "code",
   "execution_count": 10,
   "id": "9f6554a7",
   "metadata": {},
   "outputs": [
    {
     "ename": "SyntaxError",
     "evalue": "invalid syntax (3632833550.py, line 1)",
     "output_type": "error",
     "traceback": [
      "\u001b[1;36m  Cell \u001b[1;32mIn [10], line 1\u001b[1;36m\u001b[0m\n\u001b[1;33m    is self required to create any class method? => no, in static method ,w e dont require self variable\u001b[0m\n\u001b[1;37m    ^\u001b[0m\n\u001b[1;31mSyntaxError\u001b[0m\u001b[1;31m:\u001b[0m invalid syntax\n"
     ]
    }
   ],
   "source": [
    "is self required to create any class method? => no, in static method ,w e dont require self variable\n",
    "\n",
    "why? when we need some complex calc for a ecah obj in class\n",
    "\n",
    "@staticmethod"
   ]
  },
  {
   "cell_type": "code",
   "execution_count": 11,
   "id": "100c5d06",
   "metadata": {},
   "outputs": [],
   "source": [
    "class Person:\n",
    "    def __init__(self, name):\n",
    "        self.name = name;\n",
    "        \n",
    "    def show(self):\n",
    "        print(f\"The name is {self.name}\");\n",
    "    \n",
    "    @staticmethod\n",
    "    def add(a, b):\n",
    "        return a+b;\n",
    "\n",
    "a = Person(\"Aman\")"
   ]
  },
  {
   "cell_type": "code",
   "execution_count": 6,
   "id": "3c4939b2",
   "metadata": {},
   "outputs": [
    {
     "name": "stdout",
     "output_type": "stream",
     "text": [
      "The name is Aman\n"
     ]
    }
   ],
   "source": [
    "a.show()"
   ]
  },
  {
   "cell_type": "code",
   "execution_count": 7,
   "id": "9b365b9f",
   "metadata": {},
   "outputs": [
    {
     "name": "stdout",
     "output_type": "stream",
     "text": [
      "7\n"
     ]
    }
   ],
   "source": [
    "print(a.add(2,5))"
   ]
  },
  {
   "cell_type": "code",
   "execution_count": 9,
   "id": "89eae9b3",
   "metadata": {},
   "outputs": [
    {
     "name": "stdout",
     "output_type": "stream",
     "text": [
      "18\n"
     ]
    }
   ],
   "source": [
    "#can be called by class name also\n",
    "print(Person.add(9,9))"
   ]
  },
  {
   "cell_type": "code",
   "execution_count": 17,
   "id": "18bce3fe",
   "metadata": {},
   "outputs": [],
   "source": [
    "class Person:\n",
    "    def __init__(self, name):\n",
    "        self.name = name;\n",
    "        \n",
    "    def show(self, job):\n",
    "        print(f\"The name is {self.name} and his job is {job}\");\n",
    "    \n",
    "    @staticmethod\n",
    "    def add(a, b):\n",
    "        return a+b;"
   ]
  },
  {
   "cell_type": "code",
   "execution_count": 18,
   "id": "75cab07b",
   "metadata": {},
   "outputs": [],
   "source": [
    "b = Person(\"Raj\")"
   ]
  },
  {
   "cell_type": "code",
   "execution_count": 19,
   "id": "85646526",
   "metadata": {},
   "outputs": [
    {
     "name": "stdout",
     "output_type": "stream",
     "text": [
      "The name is Raj and his job is HR mGR\n"
     ]
    }
   ],
   "source": [
    "b.show(\"HR mGR\")"
   ]
  },
  {
   "cell_type": "code",
   "execution_count": null,
   "id": "86eed0f2",
   "metadata": {},
   "outputs": [],
   "source": []
  }
 ],
 "metadata": {
  "kernelspec": {
   "display_name": "Python 3 (ipykernel)",
   "language": "python",
   "name": "python3"
  },
  "language_info": {
   "codemirror_mode": {
    "name": "ipython",
    "version": 3
   },
   "file_extension": ".py",
   "mimetype": "text/x-python",
   "name": "python",
   "nbconvert_exporter": "python",
   "pygments_lexer": "ipython3",
   "version": "3.11.3"
  }
 },
 "nbformat": 4,
 "nbformat_minor": 5
}
