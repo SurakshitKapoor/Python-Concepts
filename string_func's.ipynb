{
 "cells": [
  {
   "cell_type": "markdown",
   "id": "936a6bf0",
   "metadata": {},
   "source": [
    "# String"
   ]
  },
  {
   "cell_type": "markdown",
   "id": "d6282a4f",
   "metadata": {},
   "source": [
    "**String is the sequence of characters. It is immutable -> once created, cannot be changed.**"
   ]
  },
  {
   "cell_type": "code",
   "execution_count": null,
   "id": "a88c3834",
   "metadata": {},
   "outputs": [],
   "source": []
  },
  {
   "cell_type": "markdown",
   "id": "1e28486d",
   "metadata": {},
   "source": [
    "**creating string by '', \"\", '''''', \"\"\"\"\"\"**"
   ]
  },
  {
   "cell_type": "code",
   "execution_count": 2,
   "id": "ba01f5b4",
   "metadata": {},
   "outputs": [
    {
     "name": "stdout",
     "output_type": "stream",
     "text": [
      "hello sab log\n"
     ]
    }
   ],
   "source": [
    "s = 'hello sab log'\n",
    "print(s)"
   ]
  },
  {
   "cell_type": "code",
   "execution_count": 3,
   "id": "8785f0e2",
   "metadata": {},
   "outputs": [
    {
     "name": "stdout",
     "output_type": "stream",
     "text": [
      "hello sab log\n"
     ]
    }
   ],
   "source": [
    "s = '''hello sab log'''\n",
    "print(s)"
   ]
  },
  {
   "cell_type": "code",
   "execution_count": 4,
   "id": "cc77a379",
   "metadata": {},
   "outputs": [
    {
     "name": "stdout",
     "output_type": "stream",
     "text": [
      "hello sab log\n"
     ]
    }
   ],
   "source": [
    "s = \"\"\"hello sab log\"\"\"\n",
    "print(s)"
   ]
  },
  {
   "cell_type": "code",
   "execution_count": 2,
   "id": "9a094df8",
   "metadata": {},
   "outputs": [
    {
     "name": "stdout",
     "output_type": "stream",
     "text": [
      "hello sab log\n"
     ]
    }
   ],
   "source": [
    "s = \"hello sab log\"\n",
    "print(s)"
   ]
  },
  {
   "cell_type": "markdown",
   "id": "9598a38c",
   "metadata": {},
   "source": [
    "**1. Accessing the string elements:**"
   ]
  },
  {
   "cell_type": "code",
   "execution_count": 5,
   "id": "04e3f48e",
   "metadata": {},
   "outputs": [
    {
     "name": "stdout",
     "output_type": "stream",
     "text": [
      "e\n"
     ]
    }
   ],
   "source": [
    "print(s[1])"
   ]
  },
  {
   "cell_type": "code",
   "execution_count": 6,
   "id": "f4a6ea4b",
   "metadata": {},
   "outputs": [
    {
     "name": "stdout",
     "output_type": "stream",
     "text": [
      "llo sa\n"
     ]
    }
   ],
   "source": [
    "print(s[2:8])"
   ]
  },
  {
   "cell_type": "code",
   "execution_count": 7,
   "id": "730f2ff7",
   "metadata": {},
   "outputs": [
    {
     "name": "stdout",
     "output_type": "stream",
     "text": [
      "hello sab log\n"
     ]
    }
   ],
   "source": [
    "print(s[:])"
   ]
  },
  {
   "cell_type": "code",
   "execution_count": 8,
   "id": "6b828947",
   "metadata": {},
   "outputs": [
    {
     "name": "stdout",
     "output_type": "stream",
     "text": [
      "llo sab log\n"
     ]
    }
   ],
   "source": [
    "print(s[2:])"
   ]
  },
  {
   "cell_type": "code",
   "execution_count": 9,
   "id": "836e8b0d",
   "metadata": {},
   "outputs": [
    {
     "name": "stdout",
     "output_type": "stream",
     "text": [
      "hello sab lo\n"
     ]
    }
   ],
   "source": [
    "print(s[:len(s)-1])"
   ]
  },
  {
   "cell_type": "code",
   "execution_count": 10,
   "id": "d39e1052",
   "metadata": {},
   "outputs": [
    {
     "name": "stdout",
     "output_type": "stream",
     "text": [
      "hello sab log\n"
     ]
    }
   ],
   "source": [
    "print(s[:len(s)])"
   ]
  },
  {
   "cell_type": "code",
   "execution_count": 9,
   "id": "ab4f0b8c",
   "metadata": {},
   "outputs": [
    {
     "name": "stdout",
     "output_type": "stream",
     "text": [
      "llo sab lo\n"
     ]
    }
   ],
   "source": [
    "print(s[2:-1])"
   ]
  },
  {
   "cell_type": "markdown",
   "id": "9d206f6d",
   "metadata": {},
   "source": []
  },
  {
   "cell_type": "code",
   "execution_count": null,
   "id": "cdfa6257",
   "metadata": {},
   "outputs": [],
   "source": []
  },
  {
   "cell_type": "markdown",
   "id": "fb3be40d",
   "metadata": {},
   "source": [
    "**2. To reverse a string:**"
   ]
  },
  {
   "cell_type": "code",
   "execution_count": 5,
   "id": "fc53802b",
   "metadata": {},
   "outputs": [
    {
     "name": "stdout",
     "output_type": "stream",
     "text": [
      "gol bas olleh\n"
     ]
    }
   ],
   "source": [
    "#Method 1:\n",
    "print(s[::-1])"
   ]
  },
  {
   "cell_type": "code",
   "execution_count": 6,
   "id": "2e74831f",
   "metadata": {},
   "outputs": [
    {
     "name": "stdout",
     "output_type": "stream",
     "text": [
      "gol bas olleh\n"
     ]
    }
   ],
   "source": [
    "# Method 2:\n",
    "print(\"\".join(reversed(s)))"
   ]
  },
  {
   "cell_type": "code",
   "execution_count": null,
   "id": "df030fe7",
   "metadata": {},
   "outputs": [],
   "source": []
  },
  {
   "cell_type": "markdown",
   "id": "95c1a2d0",
   "metadata": {},
   "source": [
    "**3. Deletion in string/characeter: as string is immutable, so cannot from original string, but can store a part of string in another string**"
   ]
  },
  {
   "cell_type": "code",
   "execution_count": 13,
   "id": "da6fc9f8",
   "metadata": {},
   "outputs": [
    {
     "name": "stdout",
     "output_type": "stream",
     "text": [
      "hello chaal\n"
     ]
    }
   ],
   "source": [
    "#Method 1:\n",
    "s2 = \"ky haal chaal\"\n",
    "s3 = s[:5] + \" \" + s2[8:]\n",
    "print(s3)"
   ]
  },
  {
   "cell_type": "code",
   "execution_count": 17,
   "id": "76b03c1f",
   "metadata": {},
   "outputs": [
    {
     "name": "stdout",
     "output_type": "stream",
     "text": [
      "hello sab log\n"
     ]
    }
   ],
   "source": [
    "s = \"hello sab log\"\n",
    "print(s)"
   ]
  },
  {
   "cell_type": "code",
   "execution_count": 18,
   "id": "c7cf12cd",
   "metadata": {},
   "outputs": [
    {
     "ename": "TypeError",
     "evalue": "'str' object does not support item deletion",
     "output_type": "error",
     "traceback": [
      "\u001b[1;31m---------------------------------------------------------------------------\u001b[0m",
      "\u001b[1;31mTypeError\u001b[0m                                 Traceback (most recent call last)",
      "Cell \u001b[1;32mIn [18], line 1\u001b[0m\n\u001b[1;32m----> 1\u001b[0m \u001b[38;5;28;01mdel\u001b[39;00m \u001b[43ms\u001b[49m\u001b[43m[\u001b[49m\u001b[38;5;241;43m0\u001b[39;49m\u001b[43m:\u001b[49m\u001b[38;5;241;43m6\u001b[39;49m\u001b[43m]\u001b[49m\n",
      "\u001b[1;31mTypeError\u001b[0m: 'str' object does not support item deletion"
     ]
    }
   ],
   "source": [
    "#string is immutable, so cannot delete a part of it\n",
    "del s[0:6]"
   ]
  },
  {
   "cell_type": "code",
   "execution_count": 20,
   "id": "2a4a8137",
   "metadata": {},
   "outputs": [
    {
     "ename": "NameError",
     "evalue": "name 's' is not defined",
     "output_type": "error",
     "traceback": [
      "\u001b[1;31m---------------------------------------------------------------------------\u001b[0m",
      "\u001b[1;31mNameError\u001b[0m                                 Traceback (most recent call last)",
      "Cell \u001b[1;32mIn [20], line 1\u001b[0m\n\u001b[1;32m----> 1\u001b[0m \u001b[38;5;28;01mdel\u001b[39;00m \u001b[43ms\u001b[49m\n\u001b[0;32m      2\u001b[0m \u001b[38;5;28mprint\u001b[39m(s)\n",
      "\u001b[1;31mNameError\u001b[0m: name 's' is not defined"
     ]
    }
   ],
   "source": [
    "#Method 2: can delete whole string at all from the existance\n",
    "del s\n",
    "print(s)"
   ]
  },
  {
   "cell_type": "code",
   "execution_count": null,
   "id": "4238285a",
   "metadata": {},
   "outputs": [],
   "source": []
  },
  {
   "cell_type": "markdown",
   "id": "79bfff07",
   "metadata": {},
   "source": [
    "**4. Updation in string:**"
   ]
  },
  {
   "cell_type": "code",
   "execution_count": 21,
   "id": "eccd8435",
   "metadata": {},
   "outputs": [
    {
     "name": "stdout",
     "output_type": "stream",
     "text": [
      "hello sab log\n"
     ]
    }
   ],
   "source": [
    "s = \"hello sab log\"\n",
    "print(s)"
   ]
  },
  {
   "cell_type": "code",
   "execution_count": 23,
   "id": "34a8d457",
   "metadata": {},
   "outputs": [
    {
     "name": "stdout",
     "output_type": "stream",
     "text": [
      "hel55o sab log\n"
     ]
    }
   ],
   "source": [
    "#Method 1: convert to list, then update, then, add convert to string using join\n",
    "s2 = list(s)\n",
    "s2[3] = \"55\"\n",
    "s3 = \"\".join(s2)\n",
    "print(s3)"
   ]
  },
  {
   "cell_type": "code",
   "execution_count": 25,
   "id": "ac49464f",
   "metadata": {},
   "outputs": [
    {
     "name": "stdout",
     "output_type": "stream",
     "text": [
      "hello  jee\n"
     ]
    }
   ],
   "source": [
    "#Method 2: make another string from part of original string\n",
    "s3 = s[0:6] + \" \" + \"jee\"\n",
    "print(s3)"
   ]
  },
  {
   "cell_type": "code",
   "execution_count": null,
   "id": "60c6261e",
   "metadata": {},
   "outputs": [],
   "source": []
  },
  {
   "cell_type": "markdown",
   "id": "e6780a68",
   "metadata": {},
   "source": [
    "**5. Imp.string functions:**"
   ]
  },
  {
   "cell_type": "code",
   "execution_count": 26,
   "id": "6e819b57",
   "metadata": {},
   "outputs": [
    {
     "name": "stdout",
     "output_type": "stream",
     "text": [
      "hello sab log\n"
     ]
    }
   ],
   "source": [
    "s = \"hello sab log\"\n",
    "print(s)"
   ]
  },
  {
   "cell_type": "code",
   "execution_count": 27,
   "id": "4d26b73b",
   "metadata": {},
   "outputs": [
    {
     "name": "stdout",
     "output_type": "stream",
     "text": [
      "Hello sab log\n"
     ]
    }
   ],
   "source": [
    "print(s.capitalize())"
   ]
  },
  {
   "cell_type": "code",
   "execution_count": 28,
   "id": "bc17dca0",
   "metadata": {},
   "outputs": [
    {
     "name": "stdout",
     "output_type": "stream",
     "text": [
      "hello sab log\n"
     ]
    }
   ],
   "source": [
    "print(s.casefold())"
   ]
  },
  {
   "cell_type": "code",
   "execution_count": 34,
   "id": "3de50159",
   "metadata": {},
   "outputs": [
    {
     "name": "stdout",
     "output_type": "stream",
     "text": [
      "b'hello sab log'\n"
     ]
    }
   ],
   "source": [
    "print(s.encode())"
   ]
  },
  {
   "cell_type": "code",
   "execution_count": 38,
   "id": "b5b23c1b",
   "metadata": {},
   "outputs": [
    {
     "name": "stdout",
     "output_type": "stream",
     "text": [
      "True\n"
     ]
    }
   ],
   "source": [
    "print(s.endswith(\"log\", 0, len(s)))"
   ]
  },
  {
   "cell_type": "code",
   "execution_count": 41,
   "id": "a56cde1e",
   "metadata": {},
   "outputs": [
    {
     "name": "stdout",
     "output_type": "stream",
     "text": [
      "6\n"
     ]
    }
   ],
   "source": [
    "#find() -> throws -1 if item not not found\n",
    "print(s.find(\"s\", 0, len(s)))"
   ]
  },
  {
   "cell_type": "code",
   "execution_count": 42,
   "id": "32ca6205",
   "metadata": {},
   "outputs": [
    {
     "name": "stdout",
     "output_type": "stream",
     "text": [
      "6\n"
     ]
    }
   ],
   "source": [
    "print(s.index('s'))"
   ]
  },
  {
   "cell_type": "code",
   "execution_count": 43,
   "id": "5ecc5ab8",
   "metadata": {},
   "outputs": [
    {
     "ename": "ValueError",
     "evalue": "substring not found",
     "output_type": "error",
     "traceback": [
      "\u001b[1;31m---------------------------------------------------------------------------\u001b[0m",
      "\u001b[1;31mValueError\u001b[0m                                Traceback (most recent call last)",
      "Cell \u001b[1;32mIn [43], line 1\u001b[0m\n\u001b[1;32m----> 1\u001b[0m \u001b[38;5;28mprint\u001b[39m(\u001b[43ms\u001b[49m\u001b[38;5;241;43m.\u001b[39;49m\u001b[43mindex\u001b[49m\u001b[43m(\u001b[49m\u001b[38;5;124;43m'\u001b[39;49m\u001b[38;5;124;43mk\u001b[39;49m\u001b[38;5;124;43m'\u001b[39;49m\u001b[43m)\u001b[49m)\n",
      "\u001b[1;31mValueError\u001b[0m: substring not found"
     ]
    }
   ],
   "source": [
    "#index() -> throws exception, if item not found\n",
    "print(s.index('k'))"
   ]
  },
  {
   "cell_type": "code",
   "execution_count": 49,
   "id": "faa84447",
   "metadata": {},
   "outputs": [
    {
     "name": "stdout",
     "output_type": "stream",
     "text": [
      ",.aaawwsd   hello jee\n",
      "hello jee\n"
     ]
    }
   ],
   "source": [
    "#removes only space by default from left side of string \n",
    "s = \"    ,.aaawwsd   hello jee\"\n",
    "print(s.lstrip())\n",
    "\n",
    "#removes initial all given left char's from string\n",
    "print(s.lstrip(\" ,.aswd\"))"
   ]
  },
  {
   "cell_type": "code",
   "execution_count": null,
   "id": "031ac4be",
   "metadata": {},
   "outputs": [],
   "source": []
  },
  {
   "cell_type": "code",
   "execution_count": 50,
   "id": "19b712f0",
   "metadata": {},
   "outputs": [
    {
     "name": "stdout",
     "output_type": "stream",
     "text": [
      "hello jee ,, ...aassdw  ..\n",
      "\n",
      "hello jee\n"
     ]
    }
   ],
   "source": [
    "s = \"hello jee ,, ...aassdw  ..   \"\n",
    "print(s.rstrip())\n",
    "print()\n",
    "\n",
    "print(s.rstrip(\" ,.aswd\"))\n"
   ]
  },
  {
   "cell_type": "code",
   "execution_count": 54,
   "id": "07b5f926",
   "metadata": {},
   "outputs": [
    {
     "name": "stdout",
     "output_type": "stream",
     "text": [
      "hey jee ,, ...aassdw  ..   \n"
     ]
    }
   ],
   "source": [
    "print(s.replace(\"hello\", \"hey\"))\n"
   ]
  },
  {
   "cell_type": "code",
   "execution_count": 56,
   "id": "f715b650",
   "metadata": {},
   "outputs": [
    {
     "name": "stdout",
     "output_type": "stream",
     "text": [
      "15\n",
      "15\n"
     ]
    }
   ],
   "source": [
    "s = \"hello jee sab log\"\n",
    "print(s.rfind('o'))\n",
    "print(s.rindex('o'))"
   ]
  },
  {
   "cell_type": "code",
   "execution_count": 57,
   "id": "0142b766",
   "metadata": {},
   "outputs": [
    {
     "name": "stdout",
     "output_type": "stream",
     "text": [
      "['hello', 'jee', 'sab', 'log']\n"
     ]
    }
   ],
   "source": [
    "#imp. func -> split() -> convert string to list, by breaking string on basis of given parameter\n",
    "print(s.split(\" \"))"
   ]
  },
  {
   "cell_type": "code",
   "execution_count": 58,
   "id": "679d290b",
   "metadata": {},
   "outputs": [
    {
     "name": "stdout",
     "output_type": "stream",
     "text": [
      "True\n"
     ]
    }
   ],
   "source": [
    "print(s.startswith('h'))"
   ]
  },
  {
   "cell_type": "code",
   "execution_count": 59,
   "id": "66866e11",
   "metadata": {},
   "outputs": [
    {
     "name": "stdout",
     "output_type": "stream",
     "text": [
      "HELLO JEE SAB LOG\n"
     ]
    }
   ],
   "source": [
    "print(s.swapcase())"
   ]
  },
  {
   "cell_type": "code",
   "execution_count": 60,
   "id": "f937f7bd",
   "metadata": {},
   "outputs": [
    {
     "name": "stdout",
     "output_type": "stream",
     "text": [
      "Hello Jee Sab Log\n"
     ]
    }
   ],
   "source": [
    "print(s.title())"
   ]
  },
  {
   "cell_type": "code",
   "execution_count": 61,
   "id": "c9f05be6",
   "metadata": {},
   "outputs": [
    {
     "name": "stdout",
     "output_type": "stream",
     "text": [
      "hello jee sab log\n"
     ]
    }
   ],
   "source": [
    "print(s.lower())"
   ]
  },
  {
   "cell_type": "code",
   "execution_count": 62,
   "id": "34bb0d04",
   "metadata": {},
   "outputs": [
    {
     "name": "stdout",
     "output_type": "stream",
     "text": [
      "HELLO JEE SAB LOG\n"
     ]
    }
   ],
   "source": [
    "print(s.upper())"
   ]
  },
  {
   "cell_type": "code",
   "execution_count": 63,
   "id": "12726829",
   "metadata": {},
   "outputs": [
    {
     "name": "stdout",
     "output_type": "stream",
     "text": [
      "('hello ', 'jee', ' sab log')\n"
     ]
    }
   ],
   "source": [
    "#partition() -> returns the tuple, with\n",
    "#everything before the match\n",
    "#the match\n",
    "#everything after the match\n",
    "print(s.partition('jee'))"
   ]
  },
  {
   "cell_type": "code",
   "execution_count": 64,
   "id": "9e25a84f",
   "metadata": {},
   "outputs": [
    {
     "name": "stdout",
     "output_type": "stream",
     "text": [
      "(' hello jee sab log, ', 'kya', ' haal chaal')\n"
     ]
    }
   ],
   "source": [
    "s = \" hello jee sab log, kya haal chaal\"\n",
    "print(s.partition(\"kya\"))"
   ]
  },
  {
   "cell_type": "code",
   "execution_count": null,
   "id": "002e6417",
   "metadata": {},
   "outputs": [],
   "source": []
  }
 ],
 "metadata": {
  "kernelspec": {
   "display_name": "Python 3 (ipykernel)",
   "language": "python",
   "name": "python3"
  },
  "language_info": {
   "codemirror_mode": {
    "name": "ipython",
    "version": 3
   },
   "file_extension": ".py",
   "mimetype": "text/x-python",
   "name": "python",
   "nbconvert_exporter": "python",
   "pygments_lexer": "ipython3",
   "version": "3.11.3"
  }
 },
 "nbformat": 4,
 "nbformat_minor": 5
}
