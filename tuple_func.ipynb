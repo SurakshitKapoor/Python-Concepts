{
 "cells": [
  {
   "cell_type": "code",
   "execution_count": null,
   "id": "287768e6",
   "metadata": {},
   "outputs": [],
   "source": []
  },
  {
   "cell_type": "markdown",
   "id": "14cf34f0",
   "metadata": {},
   "source": [
    "# Tuples:"
   ]
  },
  {
   "cell_type": "markdown",
   "id": "55209cb7",
   "metadata": {},
   "source": [
    "**Very similar to lists**\n",
    "\n",
    "**1. Tuples are ordered collection of data items.**\n",
    "\n",
    "**2. They can store multiple items in a single variable**\n",
    "\n",
    "**3. Tuples items are seperated by comma and enclosed within round brackets - ()**\n",
    "\n",
    "**4. Tuples are unchangeable. Immutable - can't alter its 'values or length once after creation**"
   ]
  },
  {
   "cell_type": "code",
   "execution_count": null,
   "id": "bf5b637d",
   "metadata": {},
   "outputs": [],
   "source": []
  },
  {
   "cell_type": "markdown",
   "id": "eb737fc1",
   "metadata": {},
   "source": [
    "**1. Creating tuple**"
   ]
  },
  {
   "cell_type": "code",
   "execution_count": 1,
   "id": "f9c1529c",
   "metadata": {},
   "outputs": [
    {
     "name": "stdout",
     "output_type": "stream",
     "text": [
      "(2, 5, 'aman', 10, True, 'verma')\n"
     ]
    }
   ],
   "source": [
    "t = (2, 5, \"aman\", 10, True, 'verma')\n",
    "print(t)"
   ]
  },
  {
   "cell_type": "code",
   "execution_count": 2,
   "id": "26ce8c32",
   "metadata": {},
   "outputs": [
    {
     "name": "stdout",
     "output_type": "stream",
     "text": [
      "<class 'tuple'>\n"
     ]
    }
   ],
   "source": [
    "print(type(t))"
   ]
  },
  {
   "cell_type": "code",
   "execution_count": 3,
   "id": "f02123d3",
   "metadata": {},
   "outputs": [
    {
     "name": "stdout",
     "output_type": "stream",
     "text": [
      "(2, 4, 6, 8)\n",
      "('h', 'e', 'l', 'l', 'o', ' ', 's', 'a', 'b', ' ', 'l', 'o', 'h')\n"
     ]
    }
   ],
   "source": [
    "#creating tuple from list and string using tuple() -> constructor function\n",
    "l = [2, 4, 6, 8]\n",
    "s = \"hello sab loh\"\n",
    "t1= tuple(l)\n",
    "t2 = tuple(s)\n",
    "print(t1)\n",
    "print(t2)\n"
   ]
  },
  {
   "cell_type": "code",
   "execution_count": null,
   "id": "e22492dc",
   "metadata": {},
   "outputs": [],
   "source": []
  },
  {
   "cell_type": "markdown",
   "id": "bf525482",
   "metadata": {},
   "source": [
    "**2. Accessing the tuple elements:**"
   ]
  },
  {
   "cell_type": "code",
   "execution_count": 4,
   "id": "85f114d4",
   "metadata": {},
   "outputs": [
    {
     "name": "stdout",
     "output_type": "stream",
     "text": [
      "aman\n"
     ]
    }
   ],
   "source": [
    "print(t[2])"
   ]
  },
  {
   "cell_type": "code",
   "execution_count": 5,
   "id": "cbea5ac9",
   "metadata": {},
   "outputs": [
    {
     "name": "stdout",
     "output_type": "stream",
     "text": [
      "(2, 5, 'aman', 10, True, 'verma')\n"
     ]
    }
   ],
   "source": [
    "print(t[:])"
   ]
  },
  {
   "cell_type": "code",
   "execution_count": 6,
   "id": "f153ef5d",
   "metadata": {},
   "outputs": [
    {
     "name": "stdout",
     "output_type": "stream",
     "text": [
      "(2, 5, 'aman')\n"
     ]
    }
   ],
   "source": [
    "print(t[:3])"
   ]
  },
  {
   "cell_type": "code",
   "execution_count": 8,
   "id": "f1721f7c",
   "metadata": {},
   "outputs": [
    {
     "name": "stdout",
     "output_type": "stream",
     "text": [
      "('verma', True, 10, 'aman', 5, 2)\n"
     ]
    }
   ],
   "source": [
    "print(t[::-1])"
   ]
  },
  {
   "cell_type": "code",
   "execution_count": 9,
   "id": "aa023e98",
   "metadata": {},
   "outputs": [
    {
     "name": "stdout",
     "output_type": "stream",
     "text": [
      "('verma', 10, 5)\n"
     ]
    }
   ],
   "source": [
    "print(t[::-2])"
   ]
  },
  {
   "cell_type": "code",
   "execution_count": 10,
   "id": "0f1d0371",
   "metadata": {},
   "outputs": [
    {
     "name": "stdout",
     "output_type": "stream",
     "text": [
      "('verma', 10, 5)\n"
     ]
    }
   ],
   "source": [
    "print(t[len(s)::-2])"
   ]
  },
  {
   "cell_type": "code",
   "execution_count": 11,
   "id": "e79ea119",
   "metadata": {},
   "outputs": [
    {
     "name": "stdout",
     "output_type": "stream",
     "text": [
      "('aman', 10, True)\n"
     ]
    }
   ],
   "source": [
    "print(t[-4:-1])"
   ]
  },
  {
   "cell_type": "code",
   "execution_count": null,
   "id": "95125a8d",
   "metadata": {},
   "outputs": [],
   "source": []
  },
  {
   "cell_type": "markdown",
   "id": "ffb7e16e",
   "metadata": {},
   "source": [
    "**3. Updating the tuple**"
   ]
  },
  {
   "cell_type": "code",
   "execution_count": 12,
   "id": "28aa59a2",
   "metadata": {},
   "outputs": [
    {
     "name": "stdout",
     "output_type": "stream",
     "text": [
      "[2, 'neha', 'aman', 10, True, 'verma']\n",
      "(2, 'neha', 'aman', 10, True, 'verma')\n"
     ]
    }
   ],
   "source": [
    "#Method 1: Convert to list\n",
    "t2 = list(t)\n",
    "t2[1] = \"neha\"\n",
    "t3 = tuple(t2)\n",
    "print(t2)\n",
    "print(t3)"
   ]
  },
  {
   "cell_type": "code",
   "execution_count": 16,
   "id": "7c9500c1",
   "metadata": {},
   "outputs": [
    {
     "name": "stdout",
     "output_type": "stream",
     "text": [
      "(2, 5, 'aman', 10, True, 'verma')\n",
      "(2, 5, 'aman', 2, 56)\n"
     ]
    }
   ],
   "source": [
    "#Method 2 : craete a new tuple from existing tuple\n",
    "t2 = t[:3] + (2, 56)\n",
    "print(t)\n",
    "print(t2)"
   ]
  },
  {
   "cell_type": "code",
   "execution_count": null,
   "id": "ae1dc7cb",
   "metadata": {},
   "outputs": [],
   "source": []
  },
  {
   "cell_type": "markdown",
   "id": "246310a0",
   "metadata": {},
   "source": [
    "**3. Deletion in tuple**\n"
   ]
  },
  {
   "cell_type": "code",
   "execution_count": 23,
   "id": "a2a5d976",
   "metadata": {},
   "outputs": [
    {
     "name": "stdout",
     "output_type": "stream",
     "text": [
      "(2, 5, 'aman', 10, True, 'verma')\n"
     ]
    }
   ],
   "source": [
    "t2 = t\n",
    "print(t2)"
   ]
  },
  {
   "cell_type": "code",
   "execution_count": 24,
   "id": "8ee49f8b",
   "metadata": {},
   "outputs": [
    {
     "name": "stdout",
     "output_type": "stream",
     "text": [
      "None\n",
      "(2, 5, 10, True, 'verma')\n"
     ]
    }
   ],
   "source": [
    "#Method 1: By convert to list, the apply any delete func.\n",
    "t2 = list(t2)\n",
    "print(t2.remove('aman'))\n",
    "print(tuple(t2))"
   ]
  },
  {
   "cell_type": "code",
   "execution_count": null,
   "id": "2bfa44ac",
   "metadata": {},
   "outputs": [],
   "source": [
    "#Method 2: create a new tuple from existing tuple by removing the unwanted part\n",
    "t3 = t2[:4] + (9, 0)\n",
    "print(t3)"
   ]
  },
  {
   "cell_type": "code",
   "execution_count": 29,
   "id": "988350a4",
   "metadata": {},
   "outputs": [],
   "source": [
    "#Method 3: del keyword -> to delete whole tuple at once, not support delet by slicing as tuple is immutable\n",
    "t2 = (2, 4, 6, 7)\n",
    "del t2"
   ]
  },
  {
   "cell_type": "code",
   "execution_count": 30,
   "id": "ae255dd8",
   "metadata": {},
   "outputs": [
    {
     "ename": "NameError",
     "evalue": "name 't2' is not defined",
     "output_type": "error",
     "traceback": [
      "\u001b[1;31m---------------------------------------------------------------------------\u001b[0m",
      "\u001b[1;31mNameError\u001b[0m                                 Traceback (most recent call last)",
      "Cell \u001b[1;32mIn [30], line 1\u001b[0m\n\u001b[1;32m----> 1\u001b[0m \u001b[38;5;28mprint\u001b[39m(\u001b[43mt2\u001b[49m)\n",
      "\u001b[1;31mNameError\u001b[0m: name 't2' is not defined"
     ]
    }
   ],
   "source": [
    "print(t2)"
   ]
  },
  {
   "cell_type": "code",
   "execution_count": null,
   "id": "3671fd12",
   "metadata": {},
   "outputs": [],
   "source": []
  },
  {
   "cell_type": "markdown",
   "id": "c6ab5e14",
   "metadata": {},
   "source": [
    "**4. Unpack the tuple, for updation and deletion**"
   ]
  },
  {
   "cell_type": "code",
   "execution_count": 31,
   "id": "c6e226aa",
   "metadata": {},
   "outputs": [
    {
     "name": "stdout",
     "output_type": "stream",
     "text": [
      "(2, 5, 'aman', 10, True, 'verma')\n"
     ]
    }
   ],
   "source": [
    "print(t)"
   ]
  },
  {
   "cell_type": "code",
   "execution_count": 32,
   "id": "338cefd9",
   "metadata": {},
   "outputs": [
    {
     "name": "stdout",
     "output_type": "stream",
     "text": [
      "(2, 5, 'mahesh', 10, True, 'verma')\n"
     ]
    }
   ],
   "source": [
    "#updation\n",
    "(a,b,c,d,e,f) = t\n",
    "c = \"mahesh\"\n",
    "t = (a,b,c,d,e,f)\n",
    "print(t)"
   ]
  },
  {
   "cell_type": "code",
   "execution_count": 33,
   "id": "c0c616d9",
   "metadata": {},
   "outputs": [
    {
     "name": "stdout",
     "output_type": "stream",
     "text": [
      "(2, 5, 10, True, 'verma')\n"
     ]
    }
   ],
   "source": [
    "#deletion\n",
    "(a,b,c,d,e,f) = t\n",
    "t = (a,b,d,e,f)\n",
    "print(t)"
   ]
  },
  {
   "cell_type": "code",
   "execution_count": null,
   "id": "9b008455",
   "metadata": {},
   "outputs": [],
   "source": []
  },
  {
   "cell_type": "markdown",
   "id": "fa63715b",
   "metadata": {},
   "source": [
    "**5. Loop in tuple**"
   ]
  },
  {
   "cell_type": "code",
   "execution_count": 34,
   "id": "a9ae9407",
   "metadata": {},
   "outputs": [
    {
     "name": "stdout",
     "output_type": "stream",
     "text": [
      "2\n",
      "5\n",
      "10\n",
      "True\n",
      "verma\n"
     ]
    }
   ],
   "source": [
    "for i in t:\n",
    "    print(i)"
   ]
  },
  {
   "cell_type": "code",
   "execution_count": null,
   "id": "93321205",
   "metadata": {},
   "outputs": [],
   "source": []
  },
  {
   "cell_type": "markdown",
   "id": "ca0c8e29",
   "metadata": {},
   "source": [
    "**note: by converting the tuple into a list, we can apply many more functions on it, the again convert it to tuple, as tuple supports limited functions**"
   ]
  },
  {
   "cell_type": "code",
   "execution_count": null,
   "id": "5a3bd6d3",
   "metadata": {},
   "outputs": [],
   "source": []
  }
 ],
 "metadata": {
  "kernelspec": {
   "display_name": "Python 3 (ipykernel)",
   "language": "python",
   "name": "python3"
  },
  "language_info": {
   "codemirror_mode": {
    "name": "ipython",
    "version": 3
   },
   "file_extension": ".py",
   "mimetype": "text/x-python",
   "name": "python",
   "nbconvert_exporter": "python",
   "pygments_lexer": "ipython3",
   "version": "3.11.3"
  }
 },
 "nbformat": 4,
 "nbformat_minor": 5
}
